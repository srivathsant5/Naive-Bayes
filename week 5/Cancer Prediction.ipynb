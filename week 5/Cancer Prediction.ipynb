{
 "cells": [
  {
   "cell_type": "code",
   "execution_count": 1,
   "id": "12017a0c",
   "metadata": {},
   "outputs": [
    {
     "data": {
      "text/html": [
       "<div>\n",
       "<style scoped>\n",
       "    .dataframe tbody tr th:only-of-type {\n",
       "        vertical-align: middle;\n",
       "    }\n",
       "\n",
       "    .dataframe tbody tr th {\n",
       "        vertical-align: top;\n",
       "    }\n",
       "\n",
       "    .dataframe thead th {\n",
       "        text-align: right;\n",
       "    }\n",
       "</style>\n",
       "<table border=\"1\" class=\"dataframe\">\n",
       "  <thead>\n",
       "    <tr style=\"text-align: right;\">\n",
       "      <th></th>\n",
       "      <th>diagnosis(1=m, 0=b)</th>\n",
       "      <th>radius_mean</th>\n",
       "      <th>texture_mean</th>\n",
       "      <th>perimeter_mean</th>\n",
       "      <th>area_mean</th>\n",
       "      <th>smoothness_mean</th>\n",
       "      <th>compactness_mean</th>\n",
       "      <th>concavity_mean</th>\n",
       "      <th>concave points_mean</th>\n",
       "      <th>symmetry_mean</th>\n",
       "      <th>...</th>\n",
       "      <th>radius_worst</th>\n",
       "      <th>texture_worst</th>\n",
       "      <th>perimeter_worst</th>\n",
       "      <th>area_worst</th>\n",
       "      <th>smoothness_worst</th>\n",
       "      <th>compactness_worst</th>\n",
       "      <th>concavity_worst</th>\n",
       "      <th>concave points_worst</th>\n",
       "      <th>symmetry_worst</th>\n",
       "      <th>fractal_dimension_worst</th>\n",
       "    </tr>\n",
       "  </thead>\n",
       "  <tbody>\n",
       "    <tr>\n",
       "      <th>0</th>\n",
       "      <td>1</td>\n",
       "      <td>17.99</td>\n",
       "      <td>10.38</td>\n",
       "      <td>122.8</td>\n",
       "      <td>1001.0</td>\n",
       "      <td>0.11840</td>\n",
       "      <td>0.27760</td>\n",
       "      <td>0.3001</td>\n",
       "      <td>0.14710</td>\n",
       "      <td>0.2419</td>\n",
       "      <td>...</td>\n",
       "      <td>25.38</td>\n",
       "      <td>17.33</td>\n",
       "      <td>184.6</td>\n",
       "      <td>2019.0</td>\n",
       "      <td>0.1622</td>\n",
       "      <td>0.6656</td>\n",
       "      <td>0.7119</td>\n",
       "      <td>0.2654</td>\n",
       "      <td>0.4601</td>\n",
       "      <td>0.11890</td>\n",
       "    </tr>\n",
       "    <tr>\n",
       "      <th>1</th>\n",
       "      <td>1</td>\n",
       "      <td>20.57</td>\n",
       "      <td>17.77</td>\n",
       "      <td>132.9</td>\n",
       "      <td>1326.0</td>\n",
       "      <td>0.08474</td>\n",
       "      <td>0.07864</td>\n",
       "      <td>0.0869</td>\n",
       "      <td>0.07017</td>\n",
       "      <td>0.1812</td>\n",
       "      <td>...</td>\n",
       "      <td>24.99</td>\n",
       "      <td>23.41</td>\n",
       "      <td>158.8</td>\n",
       "      <td>1956.0</td>\n",
       "      <td>0.1238</td>\n",
       "      <td>0.1866</td>\n",
       "      <td>0.2416</td>\n",
       "      <td>0.1860</td>\n",
       "      <td>0.2750</td>\n",
       "      <td>0.08902</td>\n",
       "    </tr>\n",
       "  </tbody>\n",
       "</table>\n",
       "<p>2 rows × 31 columns</p>\n",
       "</div>"
      ],
      "text/plain": [
       "   diagnosis(1=m, 0=b)  radius_mean  texture_mean  perimeter_mean  area_mean  \\\n",
       "0                    1        17.99         10.38           122.8     1001.0   \n",
       "1                    1        20.57         17.77           132.9     1326.0   \n",
       "\n",
       "   smoothness_mean  compactness_mean  concavity_mean  concave points_mean  \\\n",
       "0          0.11840           0.27760          0.3001              0.14710   \n",
       "1          0.08474           0.07864          0.0869              0.07017   \n",
       "\n",
       "   symmetry_mean  ...  radius_worst  texture_worst  perimeter_worst  \\\n",
       "0         0.2419  ...         25.38          17.33            184.6   \n",
       "1         0.1812  ...         24.99          23.41            158.8   \n",
       "\n",
       "   area_worst  smoothness_worst  compactness_worst  concavity_worst  \\\n",
       "0      2019.0            0.1622             0.6656           0.7119   \n",
       "1      1956.0            0.1238             0.1866           0.2416   \n",
       "\n",
       "   concave points_worst  symmetry_worst  fractal_dimension_worst  \n",
       "0                0.2654          0.4601                  0.11890  \n",
       "1                0.1860          0.2750                  0.08902  \n",
       "\n",
       "[2 rows x 31 columns]"
      ]
     },
     "execution_count": 1,
     "metadata": {},
     "output_type": "execute_result"
    }
   ],
   "source": [
    "import pandas as pd\n",
    "import numpy as np\n",
    "\n",
    "# load the dataset\n",
    "df = pd.read_csv('cancer.csv')\n",
    "\n",
    "# display the first few rows of the dataset\n",
    "df.head(2)"
   ]
  },
  {
   "cell_type": "code",
   "execution_count": 2,
   "id": "03bc9035",
   "metadata": {},
   "outputs": [],
   "source": [
    "df = df.rename(columns = {'diagnosis(1=m, 0=b)': 'condition'})"
   ]
  },
  {
   "cell_type": "code",
   "execution_count": 3,
   "id": "b25ddfc4",
   "metadata": {},
   "outputs": [],
   "source": [
    "from sklearn.preprocessing import LabelEncoder\n",
    "from sklearn.model_selection import train_test_split\n",
    "from sklearn.metrics import accuracy_score\n",
    "\n",
    "\n",
    "# split the dataset into training and testing sets\n",
    "X_train, X_test, y_train, y_test = train_test_split(df.drop(['condition'], axis=1), \n",
    "                                                    df['condition'], \n",
    "                                                    test_size=0.2, \n",
    "                                                    random_state=42)\n"
   ]
  },
  {
   "cell_type": "markdown",
   "id": "212a5582",
   "metadata": {},
   "source": [
    "### With out Using Lambda Function :"
   ]
  },
  {
   "cell_type": "code",
   "execution_count": 4,
   "id": "b1da8ff8",
   "metadata": {},
   "outputs": [
    {
     "name": "stdout",
     "output_type": "stream",
     "text": [
      "Accuracy: 0.96\n",
      "\n",
      "\n",
      "Time taken to run code in Build in code in seconds --  0.008452653884887695\n",
      "\n",
      "\n",
      "Time taken to run code in build in code in milli seconds --  8.452653884887695\n"
     ]
    }
   ],
   "source": [
    "import time\n",
    "\n",
    "start = time.time()\n",
    "\n",
    "\n",
    "class NaiveBayesClassifier1:\n",
    "    def __init__(self, alpha=1):\n",
    "        self.alpha = alpha  # Laplace smoothing parameter\n",
    "        self.classes = None  # list of class labels\n",
    "        self.class_priors = None  # dictionary of class priors\n",
    "        self.class_likelihoods = None  # dictionary of class conditional likelihoods\n",
    "    \n",
    "    def fit(self, X, y):\n",
    "        self.classes = list(set(y))\n",
    "        self.class_priors = {}\n",
    "        self.class_likelihoods = {}\n",
    "        \n",
    "        # calculate class priors\n",
    "        for c in self.classes:\n",
    "            self.class_priors[c] = (y == c).sum() / len(y)\n",
    "        \n",
    "        # calculate class conditional likelihoods\n",
    "        for c in self.classes:\n",
    "            # get the subset of training data belonging to class c\n",
    "            X_c = X[y == c]\n",
    "            # calculate the mean and variance of each feature in X_c\n",
    "            means = X_c.mean(axis=0)\n",
    "            variances = X_c.var(axis=0) + self.alpha\n",
    "            # store the mean and variance for class c\n",
    "            self.class_likelihoods[c] = (means, variances)\n",
    "    \n",
    "    def predict(self, X):\n",
    "        # calculate the log posterior probability of each class for each instance in X\n",
    "        log_posteriors = []\n",
    "        for x in X:\n",
    "            log_p_c = {}\n",
    "            for c in self.classes:\n",
    "                # calculate the log prior probability of class c\n",
    "                log_p_c[c] = np.log(self.class_priors[c])\n",
    "                # calculate the log likelihood of x given class c\n",
    "                means, variances = self.class_likelihoods[c]\n",
    "                log_likelihood = np.sum(-0.5 * np.log(2 * np.pi * variances) - 0.5 * ((x - means) ** 2 / variances), axis=0)\n",
    "                log_p_c[c] += log_likelihood.sum()\n",
    "            log_posteriors.append(log_p_c)\n",
    "        \n",
    "        # predict the class with the highest log posterior probability for each instance in X\n",
    "        y_pred = []\n",
    "        for log_p_c in log_posteriors:\n",
    "            max_log_p = -np.inf\n",
    "            max_c = None\n",
    "            for c, log_p in log_p_c.items():\n",
    "                if log_p > max_log_p:\n",
    "                    max_log_p = log_p\n",
    "                    max_c = c\n",
    "            y_pred.append(max_c)\n",
    "        return y_pred\n",
    "    \n",
    "#create an instance of the NaiveBayesClassifier class\n",
    "nb1 = NaiveBayesClassifier1()\n",
    "\n",
    "#fit the training data\n",
    "nb1.fit(X_train.values, y_train.values)\n",
    "\n",
    "#make predictions on the testing data\n",
    "y_pred = nb1.predict(X_test.values)\n",
    "\n",
    "#calculate accuracy\n",
    "acc = accuracy_score(y_test, y_pred)\n",
    "print(f'Accuracy: {acc:.2f}')\n",
    "\n",
    "\n",
    "end = time.time()\n",
    "\n",
    "print('\\n')\n",
    "print(\"Time taken to run code in Build in code in seconds -- \",end - start)\n",
    "\n",
    "print('\\n')\n",
    "print(\"Time taken to run code in build in code in milli seconds -- \",((end - start)*1000))"
   ]
  },
  {
   "cell_type": "code",
   "execution_count": 5,
   "id": "6676b35b",
   "metadata": {},
   "outputs": [
    {
     "name": "stdout",
     "output_type": "stream",
     "text": [
      "\n",
      "\n",
      "Time taken to run code in build code in seconds --  2.003908157348633\n"
     ]
    }
   ],
   "source": [
    "\n",
    "import time\n",
    "\n",
    "start = time.time()\n",
    "\n",
    "\n",
    "#create an instance of the NaiveBayesClassifier class\n",
    "nb1 = NaiveBayesClassifier1()\n",
    "\n",
    "#fit the training data\n",
    "nb1.fit(X_train.values, y_train.values)\n",
    "\n",
    "end = time.time()\n",
    "\n",
    "print('\\n')\n",
    "print(\"Time taken to run code in build code in seconds -- \",(end - start)*1000)\n"
   ]
  },
  {
   "cell_type": "markdown",
   "id": "f716fa40",
   "metadata": {},
   "source": [
    "### Using Lambda Function :"
   ]
  },
  {
   "cell_type": "code",
   "execution_count": 6,
   "id": "3c847e7b",
   "metadata": {},
   "outputs": [
    {
     "name": "stdout",
     "output_type": "stream",
     "text": [
      "Accuracy: 0.92\n",
      "\n",
      "\n",
      "Time taken to run code in build code in seconds --  0.007998943328857422\n",
      "\n",
      "\n",
      "Time taken to run code in Sklearn in milli seconds --  7.998943328857422\n"
     ]
    }
   ],
   "source": [
    "\n",
    "import time\n",
    "\n",
    "start = time.time()\n",
    "\n",
    "class NaiveBayesClassifier:\n",
    "    def __init__(self, alpha=1):\n",
    "        self.alpha = alpha  # Laplace smoothing parameter\n",
    "        self.classes = None  # list of class labels\n",
    "        self.class_priors = None  # dictionary of class priors\n",
    "        self.class_likelihoods = None  # dictionary of class conditional likelihoods\n",
    "    \n",
    "    def fit(self, X, y):\n",
    "        self.classes = list(set(y))\n",
    "        self.class_priors = {}\n",
    "        self.class_likelihoods = {}\n",
    "        \n",
    "        # calculate class priors\n",
    "        for c in self.classes:\n",
    "            self.class_priors[c] = (y == c).sum() / len(y)\n",
    "        \n",
    "        # calculate class conditional likelihoods\n",
    "        for c in self.classes:\n",
    "            # get the subset of training data belonging to class c\n",
    "            X_c = X[y == c]\n",
    "            # calculate the mean and variance of each feature in X_c\n",
    "            means = X_c.mean(axis=0)\n",
    "            variances = X_c.var(axis=0) + self.alpha\n",
    "            # store the mean and variance for class c\n",
    "            self.class_likelihoods[c] = (means, variances)\n",
    "    \n",
    "    def predict(self, X):\n",
    "        # calculate the log posterior probability of each class for each instance in X\n",
    "        log_posteriors = list(map(lambda x: {c: np.log(self.class_priors[c]) +\n",
    "                                np.sum(-0.5 * np.log(2 * np.pi * self.class_likelihoods[c][1]) -\n",
    "                                       0.5 * ((x - self.class_likelihoods[c][0]) ** 2 / self.class_likelihoods[c][1]).sum())\n",
    "                                for c in self.classes}, X))\n",
    "        \n",
    "        # predict the class with the highest log posterior probability for each instance in X\n",
    "        y_pred = list(map(lambda p: max(p, key=p.get), log_posteriors))\n",
    "        return y_pred\n",
    "\n",
    "    #create an instance of the NaiveBayesClassifier class\n",
    "nb = NaiveBayesClassifier()\n",
    "\n",
    "#fit the training data\n",
    "nb.fit(X_train.values, y_train.values)\n",
    "\n",
    "#make predictions on the testing data\n",
    "y_pred = nb.predict(X_test.values)\n",
    "\n",
    "#calculate accuracy\n",
    "acc = accuracy_score(y_test, y_pred)\n",
    "print(f'Accuracy: {acc:.2f}')\n",
    "\n",
    "\n",
    "end = time.time()\n",
    "\n",
    "print('\\n')\n",
    "print(\"Time taken to run code in build code in seconds -- \",end - start)\n",
    "\n",
    "print('\\n')\n",
    "print(\"Time taken to run code in Sklearn in milli seconds -- \",((end - start)*1000))\n"
   ]
  },
  {
   "cell_type": "code",
   "execution_count": 7,
   "id": "818bbc9c",
   "metadata": {},
   "outputs": [
    {
     "name": "stdout",
     "output_type": "stream",
     "text": [
      "\n",
      "\n",
      "Time taken to run code in build code in seconds --  4.004955291748047\n"
     ]
    }
   ],
   "source": [
    "import time\n",
    "\n",
    "start = time.time()\n",
    "\n",
    "\n",
    "#create an instance of the NaiveBayesClassifier class\n",
    "nb = NaiveBayesClassifier1()\n",
    "\n",
    "#fit the training data\n",
    "nb.fit(X_train.values, y_train.values)\n",
    "\n",
    "end = time.time()\n",
    "\n",
    "print('\\n')\n",
    "print(\"Time taken to run code in build code in seconds -- \",(end - start)*1000)\n"
   ]
  },
  {
   "cell_type": "markdown",
   "id": "548172d4",
   "metadata": {},
   "source": [
    "### Using Sklearn :"
   ]
  },
  {
   "cell_type": "code",
   "execution_count": 8,
   "id": "9e0a840c",
   "metadata": {},
   "outputs": [
    {
     "name": "stdout",
     "output_type": "stream",
     "text": [
      "Accuracy: 0.97, Precision: 1.00, Recall: 0.93\n",
      "\n",
      "\n",
      "Time taken to run code in Sklearn in seconds --  0.016437530517578125\n",
      "\n",
      "\n",
      "Time taken to run code in Sklearn in milli seconds --  16.437530517578125\n"
     ]
    }
   ],
   "source": [
    "import time\n",
    "\n",
    "start = time.time()\n",
    "\n",
    "from sklearn.naive_bayes import GaussianNB\n",
    "clf = GaussianNB()\n",
    "clf.fit(X_train, y_train)\n",
    "\n",
    "\n",
    "\n",
    "from sklearn.metrics import accuracy_score, precision_score, recall_score\n",
    "y_pred = clf.predict(X_test)\n",
    "accuracy = accuracy_score(y_test, y_pred)\n",
    "precision = precision_score(y_test, y_pred)\n",
    "recall = recall_score(y_test, y_pred)\n",
    "print(\"Accuracy: {:.2f}, Precision: {:.2f}, Recall: {:.2f}\".format(accuracy, precision, recall))\n",
    "\n",
    "\n",
    "end = time.time()\n",
    "\n",
    "print('\\n')\n",
    "print(\"Time taken to run code in Sklearn in seconds -- \",end - start)\n",
    "\n",
    "print('\\n')\n",
    "print(\"Time taken to run code in Sklearn in milli seconds -- \",((end - start)*1000))"
   ]
  },
  {
   "cell_type": "code",
   "execution_count": 9,
   "id": "17a41d17",
   "metadata": {},
   "outputs": [
    {
     "name": "stdout",
     "output_type": "stream",
     "text": [
      "\n",
      "\n",
      "Time taken to run code in Sklearn in seconds --  2.996683120727539\n"
     ]
    }
   ],
   "source": [
    "import time\n",
    "\n",
    "start = time.time()\n",
    "\n",
    "clf.fit(X_train, y_train)\n",
    "\n",
    "end = time.time()\n",
    "\n",
    "print('\\n')\n",
    "print(\"Time taken to run code in Sklearn in seconds -- \",(end - start)*1000)\n"
   ]
  },
  {
   "cell_type": "markdown",
   "id": "fcbc91a1",
   "metadata": {},
   "source": [
    "### Final Report : "
   ]
  },
  {
   "cell_type": "code",
   "execution_count": 10,
   "id": "1e056072",
   "metadata": {},
   "outputs": [
    {
     "name": "stdout",
     "output_type": "stream",
     "text": [
      "\n",
      "\n",
      "       Column without using lambda  using lambda using sklearn\n",
      "0  Time stamp                2.0039      4.00495        2.9966\n",
      "1    accuracy                  96 %         92 %          97 %\n"
     ]
    }
   ],
   "source": [
    "import pandas as pd\n",
    "\n",
    "# code 2\n",
    "result1 = [2.0039, \"96 %\"]\n",
    "df1 = pd.DataFrame({'without using lambda ': result1})\n",
    "\n",
    "# code 3\n",
    "result2 = [4.00495, \"92 %\"]\n",
    "df2 = pd.DataFrame({'using lambda': result2})\n",
    "\n",
    "# code 1\n",
    "result4 = [2.9966, \"97 %\"]\n",
    "df4 = pd.DataFrame({'using sklearn': result4})\n",
    "\n",
    "# code 4\n",
    "result3 = ['Time stamp', 'accuracy']\n",
    "df3 = pd.DataFrame({'Column': result3})\n",
    "\n",
    "\n",
    "# display the results in a table\n",
    "df = pd.concat([df3, df1, df2, df4], axis=1)\n",
    "\n",
    "print(\"\\n\")\n",
    "print(df)\n"
   ]
  },
  {
   "cell_type": "markdown",
   "id": "3b81c648",
   "metadata": {},
   "source": [
    "#### * Thank you"
   ]
  }
 ],
 "metadata": {
  "kernelspec": {
   "display_name": "Python 3 (ipykernel)",
   "language": "python",
   "name": "python3"
  },
  "language_info": {
   "codemirror_mode": {
    "name": "ipython",
    "version": 3
   },
   "file_extension": ".py",
   "mimetype": "text/x-python",
   "name": "python",
   "nbconvert_exporter": "python",
   "pygments_lexer": "ipython3",
   "version": "3.9.13"
  }
 },
 "nbformat": 4,
 "nbformat_minor": 5
}
