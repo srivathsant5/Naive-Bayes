{
 "cells": [
  {
   "cell_type": "markdown",
   "id": "11dcd3ca",
   "metadata": {},
   "source": [
    "# Naive Bayes Classifier"
   ]
  },
  {
   "cell_type": "code",
   "execution_count": 1,
   "id": "b3a386a2",
   "metadata": {},
   "outputs": [],
   "source": [
    "import pandas as pd\n",
    "import numpy as np\n",
    "\n",
    "# load the dataset\n",
    "df = pd.read_csv('train.csv')\n",
    "\n",
    "# display the first few rows of the dataset\n",
    "#df.head()"
   ]
  },
  {
   "cell_type": "code",
   "execution_count": 2,
   "id": "ba3546d8",
   "metadata": {},
   "outputs": [],
   "source": [
    "from sklearn.preprocessing import LabelEncoder\n",
    "from sklearn.model_selection import train_test_split\n",
    "from sklearn.metrics import accuracy_score\n",
    "\n",
    "# drop columns that we don't need\n",
    "df = df.drop(['PassengerId', 'Name', 'Ticket', 'Cabin'], axis=1)\n",
    "\n",
    "# convert categorical variables to numerical variables\n",
    "le = LabelEncoder()\n",
    "df['Sex'] = le.fit_transform(df['Sex'])\n",
    "df['Embarked'] = le.fit_transform(df['Embarked'].astype(str))\n",
    "\n",
    "# drop rows with missing values\n",
    "df = df.dropna()\n"
   ]
  },
  {
   "cell_type": "code",
   "execution_count": 3,
   "id": "67a80ce0",
   "metadata": {},
   "outputs": [
    {
     "name": "stdout",
     "output_type": "stream",
     "text": [
      "Accuracy: 0.68\n",
      "\n",
      "\n",
      "Time taken to run code in build code in seconds --  0.01099848747253418\n"
     ]
    }
   ],
   "source": [
    "import time\n",
    "\n",
    "start = time.time()\n",
    "\n",
    "# split the dataset into training and testing sets\n",
    "X_train, X_test, y_train, y_test = train_test_split(df.drop(['Survived'], axis=1), \n",
    "                                                    df['Survived'], \n",
    "                                                    test_size=0.2, \n",
    "                                                    random_state=42)\n",
    "\n",
    "class NaiveBayesClassifier:\n",
    "    def __init__(self, alpha=1):\n",
    "        self.alpha = alpha  # Laplace smoothing parameter\n",
    "        self.classes = None  # list of class labels\n",
    "        self.class_priors = None  # dictionary of class priors\n",
    "        self.class_likelihoods = None  # dictionary of class conditional likelihoods\n",
    "    \n",
    "    def fit(self, X, y):\n",
    "        self.classes = list(set(y))\n",
    "        self.class_priors = {}\n",
    "        self.class_likelihoods = {}\n",
    "        \n",
    "        # calculate class priors\n",
    "        for c in self.classes:\n",
    "            self.class_priors[c] = (y == c).sum() / len(y)\n",
    "        \n",
    "        # calculate class conditional likelihoods\n",
    "        for c in self.classes:\n",
    "            # get the subset of training data belonging to class c\n",
    "            X_c = X[y == c]\n",
    "            # calculate the mean and variance of each feature in X_c\n",
    "            means = X_c.mean(axis=0)\n",
    "            variances = X_c.var(axis=0) + self.alpha\n",
    "            # store the mean and variance for class c\n",
    "            self.class_likelihoods[c] = (means, variances)\n",
    "    \n",
    "    def predict(self, X):\n",
    "        # calculate the log posterior probability of each class for each instance in X\n",
    "        log_posteriors = []\n",
    "        for x in X:\n",
    "            log_p_c = {}\n",
    "            for c in self.classes:\n",
    "                # calculate the log prior probability of class c\n",
    "                log_p_c[c] = np.log(self.class_priors[c])\n",
    "                # calculate the log likelihood of x given class c\n",
    "                means, variances = self.class_likelihoods[c]\n",
    "                log_likelihood = np.sum(-0.5 * np.log(2 * np.pi * variances) - 0.5 * ((x - means) ** 2 / variances), axis=0)\n",
    "                log_p_c[c] += log_likelihood.sum()\n",
    "            log_posteriors.append(log_p_c)\n",
    "        \n",
    "        # predict the class with the highest log posterior probability for each instance in X\n",
    "        y_pred = []\n",
    "        for log_p_c in log_posteriors:\n",
    "            max_log_p = -np.inf\n",
    "            max_c = None\n",
    "            for c, log_p in log_p_c.items():\n",
    "                if log_p > max_log_p:\n",
    "                    max_log_p = log_p\n",
    "                    max_c = c\n",
    "            y_pred.append(max_c)\n",
    "        return y_pred\n",
    "    \n",
    "#create an instance of the NaiveBayesClassifier class\n",
    "nb = NaiveBayesClassifier()\n",
    "\n",
    "#fit the training data\n",
    "nb.fit(X_train.values, y_train.values)\n",
    "\n",
    "#make predictions on the testing data\n",
    "y_pred = nb.predict(X_test.values)\n",
    "\n",
    "#calculate accuracy\n",
    "acc = accuracy_score(y_test, y_pred)\n",
    "print(f'Accuracy: {acc:.2f}')\n",
    "\n",
    "\n",
    "end = time.time()\n",
    "\n",
    "print('\\n')\n",
    "print(\"Time taken to run code in build code in seconds -- \",end - start)\n",
    "    \n"
   ]
  },
  {
   "cell_type": "code",
   "execution_count": null,
   "id": "fc89a9a3",
   "metadata": {},
   "outputs": [],
   "source": []
  }
 ],
 "metadata": {
  "kernelspec": {
   "display_name": "Python 3 (ipykernel)",
   "language": "python",
   "name": "python3"
  },
  "language_info": {
   "codemirror_mode": {
    "name": "ipython",
    "version": 3
   },
   "file_extension": ".py",
   "mimetype": "text/x-python",
   "name": "python",
   "nbconvert_exporter": "python",
   "pygments_lexer": "ipython3",
   "version": "3.9.13"
  }
 },
 "nbformat": 4,
 "nbformat_minor": 5
}
