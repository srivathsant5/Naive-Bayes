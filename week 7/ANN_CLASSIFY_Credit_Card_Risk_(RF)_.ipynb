{
  "nbformat": 4,
  "nbformat_minor": 0,
  "metadata": {
    "colab": {
      "provenance": []
    },
    "kernelspec": {
      "name": "python3",
      "display_name": "Python 3"
    },
    "language_info": {
      "name": "python"
    },
    "accelerator": "GPU",
    "gpuClass": "standard"
  },
  "cells": [
    {
      "cell_type": "markdown",
      "source": [
        "# CLASSIFY Credit Card Risk (RF)"
      ],
      "metadata": {
        "id": "XQrnoHmGpfCM"
      }
    },
    {
      "cell_type": "code",
      "execution_count": 1,
      "metadata": {
        "id": "EgH1MCpapXvh"
      },
      "outputs": [],
      "source": [
        "#import Neccessory libraries\n",
        "import pandas as pd\n",
        "import numpy as np\n",
        "import matplotlib.pyplot as plt\n",
        "import seaborn as sns\n",
        "import missingno\n",
        "import datetime\n",
        "\n",
        "from sklearn.preprocessing import StandardScaler\n",
        "\n",
        "from sklearn.model_selection import train_test_split, GridSearchCV\n",
        "\n",
        "#import required accuracy metrics\n",
        "from sklearn.metrics import accuracy_score, confusion_matrix, classification_report\n",
        "from sklearn.metrics import roc_curve, roc_auc_score\n",
        "from sklearn.model_selection import KFold, cross_val_score\n",
        "\n",
        "import warnings\n",
        "warnings.filterwarnings('ignore')\n",
        "%matplotlib inline"
      ]
    },
    {
      "cell_type": "code",
      "source": [
        "cr = pd.read_csv('/content/credit_record.csv')\n",
        "cr.head(3)"
      ],
      "metadata": {
        "colab": {
          "base_uri": "https://localhost:8080/",
          "height": 143
        },
        "id": "-_Mcn_ZEp7MI",
        "outputId": "49ffb386-283f-4643-a684-38561ec22a8c"
      },
      "execution_count": 2,
      "outputs": [
        {
          "output_type": "execute_result",
          "data": {
            "text/plain": [
              "        ID  MONTHS_BALANCE STATUS\n",
              "0  5001711               0      X\n",
              "1  5001711              -1      0\n",
              "2  5001711              -2      0"
            ],
            "text/html": [
              "\n",
              "  <div id=\"df-4ecbcb8f-4b7b-4b54-8bd3-d4edea7722fd\">\n",
              "    <div class=\"colab-df-container\">\n",
              "      <div>\n",
              "<style scoped>\n",
              "    .dataframe tbody tr th:only-of-type {\n",
              "        vertical-align: middle;\n",
              "    }\n",
              "\n",
              "    .dataframe tbody tr th {\n",
              "        vertical-align: top;\n",
              "    }\n",
              "\n",
              "    .dataframe thead th {\n",
              "        text-align: right;\n",
              "    }\n",
              "</style>\n",
              "<table border=\"1\" class=\"dataframe\">\n",
              "  <thead>\n",
              "    <tr style=\"text-align: right;\">\n",
              "      <th></th>\n",
              "      <th>ID</th>\n",
              "      <th>MONTHS_BALANCE</th>\n",
              "      <th>STATUS</th>\n",
              "    </tr>\n",
              "  </thead>\n",
              "  <tbody>\n",
              "    <tr>\n",
              "      <th>0</th>\n",
              "      <td>5001711</td>\n",
              "      <td>0</td>\n",
              "      <td>X</td>\n",
              "    </tr>\n",
              "    <tr>\n",
              "      <th>1</th>\n",
              "      <td>5001711</td>\n",
              "      <td>-1</td>\n",
              "      <td>0</td>\n",
              "    </tr>\n",
              "    <tr>\n",
              "      <th>2</th>\n",
              "      <td>5001711</td>\n",
              "      <td>-2</td>\n",
              "      <td>0</td>\n",
              "    </tr>\n",
              "  </tbody>\n",
              "</table>\n",
              "</div>\n",
              "      <button class=\"colab-df-convert\" onclick=\"convertToInteractive('df-4ecbcb8f-4b7b-4b54-8bd3-d4edea7722fd')\"\n",
              "              title=\"Convert this dataframe to an interactive table.\"\n",
              "              style=\"display:none;\">\n",
              "        \n",
              "  <svg xmlns=\"http://www.w3.org/2000/svg\" height=\"24px\"viewBox=\"0 0 24 24\"\n",
              "       width=\"24px\">\n",
              "    <path d=\"M0 0h24v24H0V0z\" fill=\"none\"/>\n",
              "    <path d=\"M18.56 5.44l.94 2.06.94-2.06 2.06-.94-2.06-.94-.94-2.06-.94 2.06-2.06.94zm-11 1L8.5 8.5l.94-2.06 2.06-.94-2.06-.94L8.5 2.5l-.94 2.06-2.06.94zm10 10l.94 2.06.94-2.06 2.06-.94-2.06-.94-.94-2.06-.94 2.06-2.06.94z\"/><path d=\"M17.41 7.96l-1.37-1.37c-.4-.4-.92-.59-1.43-.59-.52 0-1.04.2-1.43.59L10.3 9.45l-7.72 7.72c-.78.78-.78 2.05 0 2.83L4 21.41c.39.39.9.59 1.41.59.51 0 1.02-.2 1.41-.59l7.78-7.78 2.81-2.81c.8-.78.8-2.07 0-2.86zM5.41 20L4 18.59l7.72-7.72 1.47 1.35L5.41 20z\"/>\n",
              "  </svg>\n",
              "      </button>\n",
              "      \n",
              "  <style>\n",
              "    .colab-df-container {\n",
              "      display:flex;\n",
              "      flex-wrap:wrap;\n",
              "      gap: 12px;\n",
              "    }\n",
              "\n",
              "    .colab-df-convert {\n",
              "      background-color: #E8F0FE;\n",
              "      border: none;\n",
              "      border-radius: 50%;\n",
              "      cursor: pointer;\n",
              "      display: none;\n",
              "      fill: #1967D2;\n",
              "      height: 32px;\n",
              "      padding: 0 0 0 0;\n",
              "      width: 32px;\n",
              "    }\n",
              "\n",
              "    .colab-df-convert:hover {\n",
              "      background-color: #E2EBFA;\n",
              "      box-shadow: 0px 1px 2px rgba(60, 64, 67, 0.3), 0px 1px 3px 1px rgba(60, 64, 67, 0.15);\n",
              "      fill: #174EA6;\n",
              "    }\n",
              "\n",
              "    [theme=dark] .colab-df-convert {\n",
              "      background-color: #3B4455;\n",
              "      fill: #D2E3FC;\n",
              "    }\n",
              "\n",
              "    [theme=dark] .colab-df-convert:hover {\n",
              "      background-color: #434B5C;\n",
              "      box-shadow: 0px 1px 3px 1px rgba(0, 0, 0, 0.15);\n",
              "      filter: drop-shadow(0px 1px 2px rgba(0, 0, 0, 0.3));\n",
              "      fill: #FFFFFF;\n",
              "    }\n",
              "  </style>\n",
              "\n",
              "      <script>\n",
              "        const buttonEl =\n",
              "          document.querySelector('#df-4ecbcb8f-4b7b-4b54-8bd3-d4edea7722fd button.colab-df-convert');\n",
              "        buttonEl.style.display =\n",
              "          google.colab.kernel.accessAllowed ? 'block' : 'none';\n",
              "\n",
              "        async function convertToInteractive(key) {\n",
              "          const element = document.querySelector('#df-4ecbcb8f-4b7b-4b54-8bd3-d4edea7722fd');\n",
              "          const dataTable =\n",
              "            await google.colab.kernel.invokeFunction('convertToInteractive',\n",
              "                                                     [key], {});\n",
              "          if (!dataTable) return;\n",
              "\n",
              "          const docLinkHtml = 'Like what you see? Visit the ' +\n",
              "            '<a target=\"_blank\" href=https://colab.research.google.com/notebooks/data_table.ipynb>data table notebook</a>'\n",
              "            + ' to learn more about interactive tables.';\n",
              "          element.innerHTML = '';\n",
              "          dataTable['output_type'] = 'display_data';\n",
              "          await google.colab.output.renderOutput(dataTable, element);\n",
              "          const docLink = document.createElement('div');\n",
              "          docLink.innerHTML = docLinkHtml;\n",
              "          element.appendChild(docLink);\n",
              "        }\n",
              "      </script>\n",
              "    </div>\n",
              "  </div>\n",
              "  "
            ]
          },
          "metadata": {},
          "execution_count": 2
        }
      ]
    },
    {
      "cell_type": "code",
      "source": [
        "application = pd.read_csv('/content/application_record.csv')\n",
        "application.head(3)"
      ],
      "metadata": {
        "colab": {
          "base_uri": "https://localhost:8080/",
          "height": 224
        },
        "id": "hbQyPEaPqp52",
        "outputId": "73d65267-0044-4545-9ce1-bc74893d3aa0"
      },
      "execution_count": 3,
      "outputs": [
        {
          "output_type": "execute_result",
          "data": {
            "text/plain": [
              "        ID CODE_GENDER FLAG_OWN_CAR FLAG_OWN_REALTY  CNT_CHILDREN  \\\n",
              "0  5008804           M            Y               Y             0   \n",
              "1  5008805           M            Y               Y             0   \n",
              "2  5008806           M            Y               Y             0   \n",
              "\n",
              "   AMT_INCOME_TOTAL NAME_INCOME_TYPE            NAME_EDUCATION_TYPE  \\\n",
              "0          427500.0          Working               Higher education   \n",
              "1          427500.0          Working               Higher education   \n",
              "2          112500.0          Working  Secondary / secondary special   \n",
              "\n",
              "  NAME_FAMILY_STATUS  NAME_HOUSING_TYPE  DAYS_BIRTH  DAYS_EMPLOYED  \\\n",
              "0     Civil marriage   Rented apartment      -12005          -4542   \n",
              "1     Civil marriage   Rented apartment      -12005          -4542   \n",
              "2            Married  House / apartment      -21474          -1134   \n",
              "\n",
              "   FLAG_MOBIL  FLAG_WORK_PHONE  FLAG_PHONE  FLAG_EMAIL OCCUPATION_TYPE  \\\n",
              "0           1                1           0           0             NaN   \n",
              "1           1                1           0           0             NaN   \n",
              "2           1                0           0           0  Security staff   \n",
              "\n",
              "   CNT_FAM_MEMBERS  \n",
              "0              2.0  \n",
              "1              2.0  \n",
              "2              2.0  "
            ],
            "text/html": [
              "\n",
              "  <div id=\"df-40939976-8187-48a3-9a98-cef51d2467c2\">\n",
              "    <div class=\"colab-df-container\">\n",
              "      <div>\n",
              "<style scoped>\n",
              "    .dataframe tbody tr th:only-of-type {\n",
              "        vertical-align: middle;\n",
              "    }\n",
              "\n",
              "    .dataframe tbody tr th {\n",
              "        vertical-align: top;\n",
              "    }\n",
              "\n",
              "    .dataframe thead th {\n",
              "        text-align: right;\n",
              "    }\n",
              "</style>\n",
              "<table border=\"1\" class=\"dataframe\">\n",
              "  <thead>\n",
              "    <tr style=\"text-align: right;\">\n",
              "      <th></th>\n",
              "      <th>ID</th>\n",
              "      <th>CODE_GENDER</th>\n",
              "      <th>FLAG_OWN_CAR</th>\n",
              "      <th>FLAG_OWN_REALTY</th>\n",
              "      <th>CNT_CHILDREN</th>\n",
              "      <th>AMT_INCOME_TOTAL</th>\n",
              "      <th>NAME_INCOME_TYPE</th>\n",
              "      <th>NAME_EDUCATION_TYPE</th>\n",
              "      <th>NAME_FAMILY_STATUS</th>\n",
              "      <th>NAME_HOUSING_TYPE</th>\n",
              "      <th>DAYS_BIRTH</th>\n",
              "      <th>DAYS_EMPLOYED</th>\n",
              "      <th>FLAG_MOBIL</th>\n",
              "      <th>FLAG_WORK_PHONE</th>\n",
              "      <th>FLAG_PHONE</th>\n",
              "      <th>FLAG_EMAIL</th>\n",
              "      <th>OCCUPATION_TYPE</th>\n",
              "      <th>CNT_FAM_MEMBERS</th>\n",
              "    </tr>\n",
              "  </thead>\n",
              "  <tbody>\n",
              "    <tr>\n",
              "      <th>0</th>\n",
              "      <td>5008804</td>\n",
              "      <td>M</td>\n",
              "      <td>Y</td>\n",
              "      <td>Y</td>\n",
              "      <td>0</td>\n",
              "      <td>427500.0</td>\n",
              "      <td>Working</td>\n",
              "      <td>Higher education</td>\n",
              "      <td>Civil marriage</td>\n",
              "      <td>Rented apartment</td>\n",
              "      <td>-12005</td>\n",
              "      <td>-4542</td>\n",
              "      <td>1</td>\n",
              "      <td>1</td>\n",
              "      <td>0</td>\n",
              "      <td>0</td>\n",
              "      <td>NaN</td>\n",
              "      <td>2.0</td>\n",
              "    </tr>\n",
              "    <tr>\n",
              "      <th>1</th>\n",
              "      <td>5008805</td>\n",
              "      <td>M</td>\n",
              "      <td>Y</td>\n",
              "      <td>Y</td>\n",
              "      <td>0</td>\n",
              "      <td>427500.0</td>\n",
              "      <td>Working</td>\n",
              "      <td>Higher education</td>\n",
              "      <td>Civil marriage</td>\n",
              "      <td>Rented apartment</td>\n",
              "      <td>-12005</td>\n",
              "      <td>-4542</td>\n",
              "      <td>1</td>\n",
              "      <td>1</td>\n",
              "      <td>0</td>\n",
              "      <td>0</td>\n",
              "      <td>NaN</td>\n",
              "      <td>2.0</td>\n",
              "    </tr>\n",
              "    <tr>\n",
              "      <th>2</th>\n",
              "      <td>5008806</td>\n",
              "      <td>M</td>\n",
              "      <td>Y</td>\n",
              "      <td>Y</td>\n",
              "      <td>0</td>\n",
              "      <td>112500.0</td>\n",
              "      <td>Working</td>\n",
              "      <td>Secondary / secondary special</td>\n",
              "      <td>Married</td>\n",
              "      <td>House / apartment</td>\n",
              "      <td>-21474</td>\n",
              "      <td>-1134</td>\n",
              "      <td>1</td>\n",
              "      <td>0</td>\n",
              "      <td>0</td>\n",
              "      <td>0</td>\n",
              "      <td>Security staff</td>\n",
              "      <td>2.0</td>\n",
              "    </tr>\n",
              "  </tbody>\n",
              "</table>\n",
              "</div>\n",
              "      <button class=\"colab-df-convert\" onclick=\"convertToInteractive('df-40939976-8187-48a3-9a98-cef51d2467c2')\"\n",
              "              title=\"Convert this dataframe to an interactive table.\"\n",
              "              style=\"display:none;\">\n",
              "        \n",
              "  <svg xmlns=\"http://www.w3.org/2000/svg\" height=\"24px\"viewBox=\"0 0 24 24\"\n",
              "       width=\"24px\">\n",
              "    <path d=\"M0 0h24v24H0V0z\" fill=\"none\"/>\n",
              "    <path d=\"M18.56 5.44l.94 2.06.94-2.06 2.06-.94-2.06-.94-.94-2.06-.94 2.06-2.06.94zm-11 1L8.5 8.5l.94-2.06 2.06-.94-2.06-.94L8.5 2.5l-.94 2.06-2.06.94zm10 10l.94 2.06.94-2.06 2.06-.94-2.06-.94-.94-2.06-.94 2.06-2.06.94z\"/><path d=\"M17.41 7.96l-1.37-1.37c-.4-.4-.92-.59-1.43-.59-.52 0-1.04.2-1.43.59L10.3 9.45l-7.72 7.72c-.78.78-.78 2.05 0 2.83L4 21.41c.39.39.9.59 1.41.59.51 0 1.02-.2 1.41-.59l7.78-7.78 2.81-2.81c.8-.78.8-2.07 0-2.86zM5.41 20L4 18.59l7.72-7.72 1.47 1.35L5.41 20z\"/>\n",
              "  </svg>\n",
              "      </button>\n",
              "      \n",
              "  <style>\n",
              "    .colab-df-container {\n",
              "      display:flex;\n",
              "      flex-wrap:wrap;\n",
              "      gap: 12px;\n",
              "    }\n",
              "\n",
              "    .colab-df-convert {\n",
              "      background-color: #E8F0FE;\n",
              "      border: none;\n",
              "      border-radius: 50%;\n",
              "      cursor: pointer;\n",
              "      display: none;\n",
              "      fill: #1967D2;\n",
              "      height: 32px;\n",
              "      padding: 0 0 0 0;\n",
              "      width: 32px;\n",
              "    }\n",
              "\n",
              "    .colab-df-convert:hover {\n",
              "      background-color: #E2EBFA;\n",
              "      box-shadow: 0px 1px 2px rgba(60, 64, 67, 0.3), 0px 1px 3px 1px rgba(60, 64, 67, 0.15);\n",
              "      fill: #174EA6;\n",
              "    }\n",
              "\n",
              "    [theme=dark] .colab-df-convert {\n",
              "      background-color: #3B4455;\n",
              "      fill: #D2E3FC;\n",
              "    }\n",
              "\n",
              "    [theme=dark] .colab-df-convert:hover {\n",
              "      background-color: #434B5C;\n",
              "      box-shadow: 0px 1px 3px 1px rgba(0, 0, 0, 0.15);\n",
              "      filter: drop-shadow(0px 1px 2px rgba(0, 0, 0, 0.3));\n",
              "      fill: #FFFFFF;\n",
              "    }\n",
              "  </style>\n",
              "\n",
              "      <script>\n",
              "        const buttonEl =\n",
              "          document.querySelector('#df-40939976-8187-48a3-9a98-cef51d2467c2 button.colab-df-convert');\n",
              "        buttonEl.style.display =\n",
              "          google.colab.kernel.accessAllowed ? 'block' : 'none';\n",
              "\n",
              "        async function convertToInteractive(key) {\n",
              "          const element = document.querySelector('#df-40939976-8187-48a3-9a98-cef51d2467c2');\n",
              "          const dataTable =\n",
              "            await google.colab.kernel.invokeFunction('convertToInteractive',\n",
              "                                                     [key], {});\n",
              "          if (!dataTable) return;\n",
              "\n",
              "          const docLinkHtml = 'Like what you see? Visit the ' +\n",
              "            '<a target=\"_blank\" href=https://colab.research.google.com/notebooks/data_table.ipynb>data table notebook</a>'\n",
              "            + ' to learn more about interactive tables.';\n",
              "          element.innerHTML = '';\n",
              "          dataTable['output_type'] = 'display_data';\n",
              "          await google.colab.output.renderOutput(dataTable, element);\n",
              "          const docLink = document.createElement('div');\n",
              "          docLink.innerHTML = docLinkHtml;\n",
              "          element.appendChild(docLink);\n",
              "        }\n",
              "      </script>\n",
              "    </div>\n",
              "  </div>\n",
              "  "
            ]
          },
          "metadata": {},
          "execution_count": 3
        }
      ]
    },
    {
      "cell_type": "code",
      "source": [
        "# merging 2 datasets\n",
        "df = pd.merge(cr,application, on =['ID'], how='inner')\n",
        "df.head(6)"
      ],
      "metadata": {
        "colab": {
          "base_uri": "https://localhost:8080/",
          "height": 301
        },
        "id": "c9Pu91q3qp8e",
        "outputId": "1be6e9c1-6dec-438e-809e-6decf86a559b"
      },
      "execution_count": 4,
      "outputs": [
        {
          "output_type": "execute_result",
          "data": {
            "text/plain": [
              "        ID  MONTHS_BALANCE STATUS CODE_GENDER FLAG_OWN_CAR FLAG_OWN_REALTY  \\\n",
              "0  5008804               0      C           M            Y               Y   \n",
              "1  5008804              -1      C           M            Y               Y   \n",
              "2  5008804              -2      C           M            Y               Y   \n",
              "3  5008804              -3      C           M            Y               Y   \n",
              "4  5008804              -4      C           M            Y               Y   \n",
              "5  5008804              -5      C           M            Y               Y   \n",
              "\n",
              "   CNT_CHILDREN  AMT_INCOME_TOTAL NAME_INCOME_TYPE NAME_EDUCATION_TYPE  \\\n",
              "0             0          427500.0          Working    Higher education   \n",
              "1             0          427500.0          Working    Higher education   \n",
              "2             0          427500.0          Working    Higher education   \n",
              "3             0          427500.0          Working    Higher education   \n",
              "4             0          427500.0          Working    Higher education   \n",
              "5             0          427500.0          Working    Higher education   \n",
              "\n",
              "  NAME_FAMILY_STATUS NAME_HOUSING_TYPE  DAYS_BIRTH  DAYS_EMPLOYED  FLAG_MOBIL  \\\n",
              "0     Civil marriage  Rented apartment      -12005          -4542           1   \n",
              "1     Civil marriage  Rented apartment      -12005          -4542           1   \n",
              "2     Civil marriage  Rented apartment      -12005          -4542           1   \n",
              "3     Civil marriage  Rented apartment      -12005          -4542           1   \n",
              "4     Civil marriage  Rented apartment      -12005          -4542           1   \n",
              "5     Civil marriage  Rented apartment      -12005          -4542           1   \n",
              "\n",
              "   FLAG_WORK_PHONE  FLAG_PHONE  FLAG_EMAIL OCCUPATION_TYPE  CNT_FAM_MEMBERS  \n",
              "0                1           0           0             NaN              2.0  \n",
              "1                1           0           0             NaN              2.0  \n",
              "2                1           0           0             NaN              2.0  \n",
              "3                1           0           0             NaN              2.0  \n",
              "4                1           0           0             NaN              2.0  \n",
              "5                1           0           0             NaN              2.0  "
            ],
            "text/html": [
              "\n",
              "  <div id=\"df-4c200435-e08a-4b7f-b741-f163f80f0f38\">\n",
              "    <div class=\"colab-df-container\">\n",
              "      <div>\n",
              "<style scoped>\n",
              "    .dataframe tbody tr th:only-of-type {\n",
              "        vertical-align: middle;\n",
              "    }\n",
              "\n",
              "    .dataframe tbody tr th {\n",
              "        vertical-align: top;\n",
              "    }\n",
              "\n",
              "    .dataframe thead th {\n",
              "        text-align: right;\n",
              "    }\n",
              "</style>\n",
              "<table border=\"1\" class=\"dataframe\">\n",
              "  <thead>\n",
              "    <tr style=\"text-align: right;\">\n",
              "      <th></th>\n",
              "      <th>ID</th>\n",
              "      <th>MONTHS_BALANCE</th>\n",
              "      <th>STATUS</th>\n",
              "      <th>CODE_GENDER</th>\n",
              "      <th>FLAG_OWN_CAR</th>\n",
              "      <th>FLAG_OWN_REALTY</th>\n",
              "      <th>CNT_CHILDREN</th>\n",
              "      <th>AMT_INCOME_TOTAL</th>\n",
              "      <th>NAME_INCOME_TYPE</th>\n",
              "      <th>NAME_EDUCATION_TYPE</th>\n",
              "      <th>NAME_FAMILY_STATUS</th>\n",
              "      <th>NAME_HOUSING_TYPE</th>\n",
              "      <th>DAYS_BIRTH</th>\n",
              "      <th>DAYS_EMPLOYED</th>\n",
              "      <th>FLAG_MOBIL</th>\n",
              "      <th>FLAG_WORK_PHONE</th>\n",
              "      <th>FLAG_PHONE</th>\n",
              "      <th>FLAG_EMAIL</th>\n",
              "      <th>OCCUPATION_TYPE</th>\n",
              "      <th>CNT_FAM_MEMBERS</th>\n",
              "    </tr>\n",
              "  </thead>\n",
              "  <tbody>\n",
              "    <tr>\n",
              "      <th>0</th>\n",
              "      <td>5008804</td>\n",
              "      <td>0</td>\n",
              "      <td>C</td>\n",
              "      <td>M</td>\n",
              "      <td>Y</td>\n",
              "      <td>Y</td>\n",
              "      <td>0</td>\n",
              "      <td>427500.0</td>\n",
              "      <td>Working</td>\n",
              "      <td>Higher education</td>\n",
              "      <td>Civil marriage</td>\n",
              "      <td>Rented apartment</td>\n",
              "      <td>-12005</td>\n",
              "      <td>-4542</td>\n",
              "      <td>1</td>\n",
              "      <td>1</td>\n",
              "      <td>0</td>\n",
              "      <td>0</td>\n",
              "      <td>NaN</td>\n",
              "      <td>2.0</td>\n",
              "    </tr>\n",
              "    <tr>\n",
              "      <th>1</th>\n",
              "      <td>5008804</td>\n",
              "      <td>-1</td>\n",
              "      <td>C</td>\n",
              "      <td>M</td>\n",
              "      <td>Y</td>\n",
              "      <td>Y</td>\n",
              "      <td>0</td>\n",
              "      <td>427500.0</td>\n",
              "      <td>Working</td>\n",
              "      <td>Higher education</td>\n",
              "      <td>Civil marriage</td>\n",
              "      <td>Rented apartment</td>\n",
              "      <td>-12005</td>\n",
              "      <td>-4542</td>\n",
              "      <td>1</td>\n",
              "      <td>1</td>\n",
              "      <td>0</td>\n",
              "      <td>0</td>\n",
              "      <td>NaN</td>\n",
              "      <td>2.0</td>\n",
              "    </tr>\n",
              "    <tr>\n",
              "      <th>2</th>\n",
              "      <td>5008804</td>\n",
              "      <td>-2</td>\n",
              "      <td>C</td>\n",
              "      <td>M</td>\n",
              "      <td>Y</td>\n",
              "      <td>Y</td>\n",
              "      <td>0</td>\n",
              "      <td>427500.0</td>\n",
              "      <td>Working</td>\n",
              "      <td>Higher education</td>\n",
              "      <td>Civil marriage</td>\n",
              "      <td>Rented apartment</td>\n",
              "      <td>-12005</td>\n",
              "      <td>-4542</td>\n",
              "      <td>1</td>\n",
              "      <td>1</td>\n",
              "      <td>0</td>\n",
              "      <td>0</td>\n",
              "      <td>NaN</td>\n",
              "      <td>2.0</td>\n",
              "    </tr>\n",
              "    <tr>\n",
              "      <th>3</th>\n",
              "      <td>5008804</td>\n",
              "      <td>-3</td>\n",
              "      <td>C</td>\n",
              "      <td>M</td>\n",
              "      <td>Y</td>\n",
              "      <td>Y</td>\n",
              "      <td>0</td>\n",
              "      <td>427500.0</td>\n",
              "      <td>Working</td>\n",
              "      <td>Higher education</td>\n",
              "      <td>Civil marriage</td>\n",
              "      <td>Rented apartment</td>\n",
              "      <td>-12005</td>\n",
              "      <td>-4542</td>\n",
              "      <td>1</td>\n",
              "      <td>1</td>\n",
              "      <td>0</td>\n",
              "      <td>0</td>\n",
              "      <td>NaN</td>\n",
              "      <td>2.0</td>\n",
              "    </tr>\n",
              "    <tr>\n",
              "      <th>4</th>\n",
              "      <td>5008804</td>\n",
              "      <td>-4</td>\n",
              "      <td>C</td>\n",
              "      <td>M</td>\n",
              "      <td>Y</td>\n",
              "      <td>Y</td>\n",
              "      <td>0</td>\n",
              "      <td>427500.0</td>\n",
              "      <td>Working</td>\n",
              "      <td>Higher education</td>\n",
              "      <td>Civil marriage</td>\n",
              "      <td>Rented apartment</td>\n",
              "      <td>-12005</td>\n",
              "      <td>-4542</td>\n",
              "      <td>1</td>\n",
              "      <td>1</td>\n",
              "      <td>0</td>\n",
              "      <td>0</td>\n",
              "      <td>NaN</td>\n",
              "      <td>2.0</td>\n",
              "    </tr>\n",
              "    <tr>\n",
              "      <th>5</th>\n",
              "      <td>5008804</td>\n",
              "      <td>-5</td>\n",
              "      <td>C</td>\n",
              "      <td>M</td>\n",
              "      <td>Y</td>\n",
              "      <td>Y</td>\n",
              "      <td>0</td>\n",
              "      <td>427500.0</td>\n",
              "      <td>Working</td>\n",
              "      <td>Higher education</td>\n",
              "      <td>Civil marriage</td>\n",
              "      <td>Rented apartment</td>\n",
              "      <td>-12005</td>\n",
              "      <td>-4542</td>\n",
              "      <td>1</td>\n",
              "      <td>1</td>\n",
              "      <td>0</td>\n",
              "      <td>0</td>\n",
              "      <td>NaN</td>\n",
              "      <td>2.0</td>\n",
              "    </tr>\n",
              "  </tbody>\n",
              "</table>\n",
              "</div>\n",
              "      <button class=\"colab-df-convert\" onclick=\"convertToInteractive('df-4c200435-e08a-4b7f-b741-f163f80f0f38')\"\n",
              "              title=\"Convert this dataframe to an interactive table.\"\n",
              "              style=\"display:none;\">\n",
              "        \n",
              "  <svg xmlns=\"http://www.w3.org/2000/svg\" height=\"24px\"viewBox=\"0 0 24 24\"\n",
              "       width=\"24px\">\n",
              "    <path d=\"M0 0h24v24H0V0z\" fill=\"none\"/>\n",
              "    <path d=\"M18.56 5.44l.94 2.06.94-2.06 2.06-.94-2.06-.94-.94-2.06-.94 2.06-2.06.94zm-11 1L8.5 8.5l.94-2.06 2.06-.94-2.06-.94L8.5 2.5l-.94 2.06-2.06.94zm10 10l.94 2.06.94-2.06 2.06-.94-2.06-.94-.94-2.06-.94 2.06-2.06.94z\"/><path d=\"M17.41 7.96l-1.37-1.37c-.4-.4-.92-.59-1.43-.59-.52 0-1.04.2-1.43.59L10.3 9.45l-7.72 7.72c-.78.78-.78 2.05 0 2.83L4 21.41c.39.39.9.59 1.41.59.51 0 1.02-.2 1.41-.59l7.78-7.78 2.81-2.81c.8-.78.8-2.07 0-2.86zM5.41 20L4 18.59l7.72-7.72 1.47 1.35L5.41 20z\"/>\n",
              "  </svg>\n",
              "      </button>\n",
              "      \n",
              "  <style>\n",
              "    .colab-df-container {\n",
              "      display:flex;\n",
              "      flex-wrap:wrap;\n",
              "      gap: 12px;\n",
              "    }\n",
              "\n",
              "    .colab-df-convert {\n",
              "      background-color: #E8F0FE;\n",
              "      border: none;\n",
              "      border-radius: 50%;\n",
              "      cursor: pointer;\n",
              "      display: none;\n",
              "      fill: #1967D2;\n",
              "      height: 32px;\n",
              "      padding: 0 0 0 0;\n",
              "      width: 32px;\n",
              "    }\n",
              "\n",
              "    .colab-df-convert:hover {\n",
              "      background-color: #E2EBFA;\n",
              "      box-shadow: 0px 1px 2px rgba(60, 64, 67, 0.3), 0px 1px 3px 1px rgba(60, 64, 67, 0.15);\n",
              "      fill: #174EA6;\n",
              "    }\n",
              "\n",
              "    [theme=dark] .colab-df-convert {\n",
              "      background-color: #3B4455;\n",
              "      fill: #D2E3FC;\n",
              "    }\n",
              "\n",
              "    [theme=dark] .colab-df-convert:hover {\n",
              "      background-color: #434B5C;\n",
              "      box-shadow: 0px 1px 3px 1px rgba(0, 0, 0, 0.15);\n",
              "      filter: drop-shadow(0px 1px 2px rgba(0, 0, 0, 0.3));\n",
              "      fill: #FFFFFF;\n",
              "    }\n",
              "  </style>\n",
              "\n",
              "      <script>\n",
              "        const buttonEl =\n",
              "          document.querySelector('#df-4c200435-e08a-4b7f-b741-f163f80f0f38 button.colab-df-convert');\n",
              "        buttonEl.style.display =\n",
              "          google.colab.kernel.accessAllowed ? 'block' : 'none';\n",
              "\n",
              "        async function convertToInteractive(key) {\n",
              "          const element = document.querySelector('#df-4c200435-e08a-4b7f-b741-f163f80f0f38');\n",
              "          const dataTable =\n",
              "            await google.colab.kernel.invokeFunction('convertToInteractive',\n",
              "                                                     [key], {});\n",
              "          if (!dataTable) return;\n",
              "\n",
              "          const docLinkHtml = 'Like what you see? Visit the ' +\n",
              "            '<a target=\"_blank\" href=https://colab.research.google.com/notebooks/data_table.ipynb>data table notebook</a>'\n",
              "            + ' to learn more about interactive tables.';\n",
              "          element.innerHTML = '';\n",
              "          dataTable['output_type'] = 'display_data';\n",
              "          await google.colab.output.renderOutput(dataTable, element);\n",
              "          const docLink = document.createElement('div');\n",
              "          docLink.innerHTML = docLinkHtml;\n",
              "          element.appendChild(docLink);\n",
              "        }\n",
              "      </script>\n",
              "    </div>\n",
              "  </div>\n",
              "  "
            ]
          },
          "metadata": {},
          "execution_count": 4
        }
      ]
    },
    {
      "cell_type": "code",
      "source": [
        "\n",
        "#lets check the shape \n",
        "print('Shape of train dataset:',df.shape)"
      ],
      "metadata": {
        "colab": {
          "base_uri": "https://localhost:8080/"
        },
        "id": "rNrVOwIQqp-j",
        "outputId": "ebffd084-5b91-4e4b-c05a-a9316edd294d"
      },
      "execution_count": 5,
      "outputs": [
        {
          "output_type": "stream",
          "name": "stdout",
          "text": [
            "Shape of train dataset: (777715, 20)\n"
          ]
        }
      ]
    },
    {
      "cell_type": "code",
      "source": [
        "df.drop_duplicates(keep = 'first',inplace=True)\n",
        "print(df.shape)"
      ],
      "metadata": {
        "colab": {
          "base_uri": "https://localhost:8080/"
        },
        "id": "Vb47y-qcqqEA",
        "outputId": "da0b2532-1fbf-4100-b804-dad24ba24bd9"
      },
      "execution_count": 6,
      "outputs": [
        {
          "output_type": "stream",
          "name": "stdout",
          "text": [
            "(777715, 20)\n"
          ]
        }
      ]
    },
    {
      "cell_type": "code",
      "source": [
        "# checking missing values\n",
        "df.isnull().sum()[df.isnull().sum()>0]"
      ],
      "metadata": {
        "colab": {
          "base_uri": "https://localhost:8080/"
        },
        "id": "nEXgXwsYqqI4",
        "outputId": "67c8bf70-d273-4962-f8c8-09c805297985"
      },
      "execution_count": 7,
      "outputs": [
        {
          "output_type": "execute_result",
          "data": {
            "text/plain": [
              "OCCUPATION_TYPE    240048\n",
              "dtype: int64"
            ]
          },
          "metadata": {},
          "execution_count": 7
        }
      ]
    },
    {
      "cell_type": "code",
      "source": [
        "# dealing with missing values\n",
        "df['OCCUPATION_TYPE'].fillna('others',inplace=True)"
      ],
      "metadata": {
        "id": "XLdvESC8qqL0"
      },
      "execution_count": 8,
      "outputs": []
    },
    {
      "cell_type": "code",
      "source": [
        "def calc_day_of_birth (day_num):\n",
        "    today = date.today() \n",
        "    birthDay = (today + timedelta(days=day_num)).strftime('%Y-%m-%d')\n",
        "    return birthDay\n",
        "    \n",
        "def calc_day_of_employed(day_num):\n",
        "    today = date.today() \n",
        "    employedDay = (today + timedelta(days=day_num)).strftime('%Y-%m-%d')\n",
        "    result = 0\n",
        "    if employedDay > date.today().strftime('%Y-%m-%d') :\n",
        "         result = 0\n",
        "    else:\n",
        "         result = employedDay\n",
        "    return result\n",
        "\n",
        "def get_label_for_data(status):\n",
        "    if status in (2,3,4,5):\n",
        "        return 1  # Risky\n",
        "    else:\n",
        "        return 0 # Not Risky"
      ],
      "metadata": {
        "id": "lpZhgpZUqqO8"
      },
      "execution_count": 9,
      "outputs": []
    },
    {
      "cell_type": "code",
      "source": [
        "from datetime import date,datetime, timedelta\n",
        "#get the day of birth for each person   \n",
        "df['BIRTH_DAY']   = df['DAYS_BIRTH'].apply(calc_day_of_birth)\n",
        "#get the day of birth for each person   \n",
        "df['EMPLOYED_DAY']   = df['DAYS_EMPLOYED'].apply(calc_day_of_employed)"
      ],
      "metadata": {
        "id": "x1BBPkXCqqRO"
      },
      "execution_count": 10,
      "outputs": []
    },
    {
      "cell_type": "code",
      "source": [
        "# replacing the value of C,X to numeric value \n",
        "df['STATUS'].replace({'C': 6, 'X' : 7}, inplace=True)\n",
        "df['STATUS']=df['STATUS'].astype(int)"
      ],
      "metadata": {
        "id": "SQfQJ-wOqqTp"
      },
      "execution_count": 11,
      "outputs": []
    },
    {
      "cell_type": "code",
      "source": [
        "df['TARGET'] = df['STATUS'].apply(get_label_for_data)"
      ],
      "metadata": {
        "id": "rrdJ4pBmrT__"
      },
      "execution_count": 12,
      "outputs": []
    },
    {
      "cell_type": "code",
      "source": [
        "df['TARGET'].unique()"
      ],
      "metadata": {
        "colab": {
          "base_uri": "https://localhost:8080/"
        },
        "id": "VU1fhQTarUDQ",
        "outputId": "adb0e78b-efbf-4659-b898-11b14a9e462d"
      },
      "execution_count": 13,
      "outputs": [
        {
          "output_type": "execute_result",
          "data": {
            "text/plain": [
              "array([0, 1])"
            ]
          },
          "metadata": {},
          "execution_count": 13
        }
      ]
    },
    {
      "cell_type": "code",
      "source": [
        "#drop un nessesary columns\n",
        "df = df.drop(['ID','DAYS_BIRTH','MONTHS_BALANCE','DAYS_EMPLOYED','EMPLOYED_DAY','BIRTH_DAY','STATUS','FLAG_MOBIL'],axis=1)"
      ],
      "metadata": {
        "id": "VAu4R-O2rUF0"
      },
      "execution_count": 14,
      "outputs": []
    },
    {
      "cell_type": "code",
      "source": [
        "df.info()"
      ],
      "metadata": {
        "colab": {
          "base_uri": "https://localhost:8080/"
        },
        "id": "6ZSm3q2PrUIg",
        "outputId": "2a3947a6-35d5-4ce5-c471-b6f6ed579b8f"
      },
      "execution_count": 15,
      "outputs": [
        {
          "output_type": "stream",
          "name": "stdout",
          "text": [
            "<class 'pandas.core.frame.DataFrame'>\n",
            "Int64Index: 777715 entries, 0 to 777714\n",
            "Data columns (total 15 columns):\n",
            " #   Column               Non-Null Count   Dtype  \n",
            "---  ------               --------------   -----  \n",
            " 0   CODE_GENDER          777715 non-null  object \n",
            " 1   FLAG_OWN_CAR         777715 non-null  object \n",
            " 2   FLAG_OWN_REALTY      777715 non-null  object \n",
            " 3   CNT_CHILDREN         777715 non-null  int64  \n",
            " 4   AMT_INCOME_TOTAL     777715 non-null  float64\n",
            " 5   NAME_INCOME_TYPE     777715 non-null  object \n",
            " 6   NAME_EDUCATION_TYPE  777715 non-null  object \n",
            " 7   NAME_FAMILY_STATUS   777715 non-null  object \n",
            " 8   NAME_HOUSING_TYPE    777715 non-null  object \n",
            " 9   FLAG_WORK_PHONE      777715 non-null  int64  \n",
            " 10  FLAG_PHONE           777715 non-null  int64  \n",
            " 11  FLAG_EMAIL           777715 non-null  int64  \n",
            " 12  OCCUPATION_TYPE      777715 non-null  object \n",
            " 13  CNT_FAM_MEMBERS      777715 non-null  float64\n",
            " 14  TARGET               777715 non-null  int64  \n",
            "dtypes: float64(2), int64(5), object(8)\n",
            "memory usage: 94.9+ MB\n"
          ]
        }
      ]
    },
    {
      "cell_type": "code",
      "source": [
        "df.shape"
      ],
      "metadata": {
        "colab": {
          "base_uri": "https://localhost:8080/"
        },
        "id": "lvhr-e2Qu7eA",
        "outputId": "3768110b-0e77-4e87-c343-421069a38e88"
      },
      "execution_count": 17,
      "outputs": [
        {
          "output_type": "execute_result",
          "data": {
            "text/plain": [
              "(777715, 15)"
            ]
          },
          "metadata": {},
          "execution_count": 17
        }
      ]
    },
    {
      "cell_type": "markdown",
      "source": [
        "# Data processing"
      ],
      "metadata": {
        "id": "HSLtjnpvrncw"
      }
    },
    {
      "cell_type": "markdown",
      "source": [
        "## Apply label encoder to target variable"
      ],
      "metadata": {
        "id": "pw1ouXs-rpYt"
      }
    },
    {
      "cell_type": "code",
      "source": [
        "from sklearn.preprocessing import LabelEncoder\n",
        "leb_enc = LabelEncoder()\n",
        "df2 = leb_enc.fit_transform(df[\"TARGET\"])\n",
        "pd.Series(df2)\n",
        "df[\"TARGET\"] = df2"
      ],
      "metadata": {
        "id": "ibbtafe2rULN"
      },
      "execution_count": 18,
      "outputs": []
    },
    {
      "cell_type": "markdown",
      "source": [
        "# Heat map for checking correlation ¶"
      ],
      "metadata": {
        "id": "jMvstqDir0R0"
      }
    },
    {
      "cell_type": "code",
      "source": [
        "#Lets plot heatmap to check correlation among differnt features and label\n",
        "df_corr = df.corr()\n",
        "plt.figure(figsize = (20,15))\n",
        "sns.heatmap(df_corr,vmin=-1,vmax=1,annot=True,center=0,fmt='.2g',linewidths=0.1)\n",
        "plt.tight_layout()"
      ],
      "metadata": {
        "colab": {
          "base_uri": "https://localhost:8080/",
          "height": 1000
        },
        "id": "Yy0JLZf9rUNU",
        "outputId": "083cdb26-29a2-4c53-db2b-a2e330b1f158"
      },
      "execution_count": 19,
      "outputs": [
        {
          "output_type": "display_data",
          "data": {
            "text/plain": [
              "<Figure size 1440x1080 with 2 Axes>"
            ],
            "image/png": "[encoded data removed]"
          },
          "metadata": {
            "needs_background": "light"
          }
        }
      ]
    },
    {
      "cell_type": "markdown",
      "source": [
        "# Separate features and label as x & y respectively"
      ],
      "metadata": {
        "id": "SYasOfjYsGzU"
      }
    },
    {
      "cell_type": "code",
      "source": [
        "x = df.drop(columns = 'TARGET')\n",
        "y = df['TARGET']"
      ],
      "metadata": {
        "id": "SuXZPtwerUSW"
      },
      "execution_count": 20,
      "outputs": []
    },
    {
      "cell_type": "code",
      "source": [
        "#lets separate numerical and categorical features for scaling and encoding\n",
        "num = x._get_numeric_data()\n",
        "cat = x.select_dtypes(include=['object'])"
      ],
      "metadata": {
        "id": "Vb7kGEE7qqWb"
      },
      "execution_count": 21,
      "outputs": []
    },
    {
      "cell_type": "code",
      "source": [
        "#Lets bring all numerical features to common scale by applying standard scaler\n",
        "scaler = StandardScaler()\n",
        "x_num = scaler.fit_transform(num)\n",
        "x_num = pd.DataFrame(x_num,columns=num.columns)"
      ],
      "metadata": {
        "id": "uJKKUjY0qqY1"
      },
      "execution_count": 22,
      "outputs": []
    },
    {
      "cell_type": "code",
      "source": [
        "#combine both numerical and categorical features\n",
        "X = pd.concat([x_num,cat], axis = 1)"
      ],
      "metadata": {
        "id": "iWJnc_d9sYZ5"
      },
      "execution_count": 23,
      "outputs": []
    },
    {
      "cell_type": "code",
      "source": [
        "#lets have a look at our features\n",
        "X.head()"
      ],
      "metadata": {
        "colab": {
          "base_uri": "https://localhost:8080/",
          "height": 270
        },
        "id": "jLK4Urt8sYcb",
        "outputId": "65ac143b-f8ec-4507-cbc1-f69a655fa8d4"
      },
      "execution_count": 24,
      "outputs": [
        {
          "output_type": "execute_result",
          "data": {
            "text/plain": [
              "   CNT_CHILDREN  AMT_INCOME_TOTAL  FLAG_WORK_PHONE  FLAG_PHONE  FLAG_EMAIL  \\\n",
              "0     -0.574026          2.351502         1.820367   -0.656158   -0.317691   \n",
              "1     -0.574026          2.351502         1.820367   -0.656158   -0.317691   \n",
              "2     -0.574026          2.351502         1.820367   -0.656158   -0.317691   \n",
              "3     -0.574026          2.351502         1.820367   -0.656158   -0.317691   \n",
              "4     -0.574026          2.351502         1.820367   -0.656158   -0.317691   \n",
              "\n",
              "   CNT_FAM_MEMBERS CODE_GENDER FLAG_OWN_CAR FLAG_OWN_REALTY NAME_INCOME_TYPE  \\\n",
              "0        -0.230155           M            Y               Y          Working   \n",
              "1        -0.230155           M            Y               Y          Working   \n",
              "2        -0.230155           M            Y               Y          Working   \n",
              "3        -0.230155           M            Y               Y          Working   \n",
              "4        -0.230155           M            Y               Y          Working   \n",
              "\n",
              "  NAME_EDUCATION_TYPE NAME_FAMILY_STATUS NAME_HOUSING_TYPE OCCUPATION_TYPE  \n",
              "0    Higher education     Civil marriage  Rented apartment          others  \n",
              "1    Higher education     Civil marriage  Rented apartment          others  \n",
              "2    Higher education     Civil marriage  Rented apartment          others  \n",
              "3    Higher education     Civil marriage  Rented apartment          others  \n",
              "4    Higher education     Civil marriage  Rented apartment          others  "
            ],
            "text/html": [
              "\n",
              "  <div id=\"df-5bda6881-c2f2-4a9d-bb62-13ddc813befc\">\n",
              "    <div class=\"colab-df-container\">\n",
              "      <div>\n",
              "<style scoped>\n",
              "    .dataframe tbody tr th:only-of-type {\n",
              "        vertical-align: middle;\n",
              "    }\n",
              "\n",
              "    .dataframe tbody tr th {\n",
              "        vertical-align: top;\n",
              "    }\n",
              "\n",
              "    .dataframe thead th {\n",
              "        text-align: right;\n",
              "    }\n",
              "</style>\n",
              "<table border=\"1\" class=\"dataframe\">\n",
              "  <thead>\n",
              "    <tr style=\"text-align: right;\">\n",
              "      <th></th>\n",
              "      <th>CNT_CHILDREN</th>\n",
              "      <th>AMT_INCOME_TOTAL</th>\n",
              "      <th>FLAG_WORK_PHONE</th>\n",
              "      <th>FLAG_PHONE</th>\n",
              "      <th>FLAG_EMAIL</th>\n",
              "      <th>CNT_FAM_MEMBERS</th>\n",
              "      <th>CODE_GENDER</th>\n",
              "      <th>FLAG_OWN_CAR</th>\n",
              "      <th>FLAG_OWN_REALTY</th>\n",
              "      <th>NAME_INCOME_TYPE</th>\n",
              "      <th>NAME_EDUCATION_TYPE</th>\n",
              "      <th>NAME_FAMILY_STATUS</th>\n",
              "      <th>NAME_HOUSING_TYPE</th>\n",
              "      <th>OCCUPATION_TYPE</th>\n",
              "    </tr>\n",
              "  </thead>\n",
              "  <tbody>\n",
              "    <tr>\n",
              "      <th>0</th>\n",
              "      <td>-0.574026</td>\n",
              "      <td>2.351502</td>\n",
              "      <td>1.820367</td>\n",
              "      <td>-0.656158</td>\n",
              "      <td>-0.317691</td>\n",
              "      <td>-0.230155</td>\n",
              "      <td>M</td>\n",
              "      <td>Y</td>\n",
              "      <td>Y</td>\n",
              "      <td>Working</td>\n",
              "      <td>Higher education</td>\n",
              "      <td>Civil marriage</td>\n",
              "      <td>Rented apartment</td>\n",
              "      <td>others</td>\n",
              "    </tr>\n",
              "    <tr>\n",
              "      <th>1</th>\n",
              "      <td>-0.574026</td>\n",
              "      <td>2.351502</td>\n",
              "      <td>1.820367</td>\n",
              "      <td>-0.656158</td>\n",
              "      <td>-0.317691</td>\n",
              "      <td>-0.230155</td>\n",
              "      <td>M</td>\n",
              "      <td>Y</td>\n",
              "      <td>Y</td>\n",
              "      <td>Working</td>\n",
              "      <td>Higher education</td>\n",
              "      <td>Civil marriage</td>\n",
              "      <td>Rented apartment</td>\n",
              "      <td>others</td>\n",
              "    </tr>\n",
              "    <tr>\n",
              "      <th>2</th>\n",
              "      <td>-0.574026</td>\n",
              "      <td>2.351502</td>\n",
              "      <td>1.820367</td>\n",
              "      <td>-0.656158</td>\n",
              "      <td>-0.317691</td>\n",
              "      <td>-0.230155</td>\n",
              "      <td>M</td>\n",
              "      <td>Y</td>\n",
              "      <td>Y</td>\n",
              "      <td>Working</td>\n",
              "      <td>Higher education</td>\n",
              "      <td>Civil marriage</td>\n",
              "      <td>Rented apartment</td>\n",
              "      <td>others</td>\n",
              "    </tr>\n",
              "    <tr>\n",
              "      <th>3</th>\n",
              "      <td>-0.574026</td>\n",
              "      <td>2.351502</td>\n",
              "      <td>1.820367</td>\n",
              "      <td>-0.656158</td>\n",
              "      <td>-0.317691</td>\n",
              "      <td>-0.230155</td>\n",
              "      <td>M</td>\n",
              "      <td>Y</td>\n",
              "      <td>Y</td>\n",
              "      <td>Working</td>\n",
              "      <td>Higher education</td>\n",
              "      <td>Civil marriage</td>\n",
              "      <td>Rented apartment</td>\n",
              "      <td>others</td>\n",
              "    </tr>\n",
              "    <tr>\n",
              "      <th>4</th>\n",
              "      <td>-0.574026</td>\n",
              "      <td>2.351502</td>\n",
              "      <td>1.820367</td>\n",
              "      <td>-0.656158</td>\n",
              "      <td>-0.317691</td>\n",
              "      <td>-0.230155</td>\n",
              "      <td>M</td>\n",
              "      <td>Y</td>\n",
              "      <td>Y</td>\n",
              "      <td>Working</td>\n",
              "      <td>Higher education</td>\n",
              "      <td>Civil marriage</td>\n",
              "      <td>Rented apartment</td>\n",
              "      <td>others</td>\n",
              "    </tr>\n",
              "  </tbody>\n",
              "</table>\n",
              "</div>\n",
              "      <button class=\"colab-df-convert\" onclick=\"convertToInteractive('df-5bda6881-c2f2-4a9d-bb62-13ddc813befc')\"\n",
              "              title=\"Convert this dataframe to an interactive table.\"\n",
              "              style=\"display:none;\">\n",
              "        \n",
              "  <svg xmlns=\"http://www.w3.org/2000/svg\" height=\"24px\"viewBox=\"0 0 24 24\"\n",
              "       width=\"24px\">\n",
              "    <path d=\"M0 0h24v24H0V0z\" fill=\"none\"/>\n",
              "    <path d=\"M18.56 5.44l.94 2.06.94-2.06 2.06-.94-2.06-.94-.94-2.06-.94 2.06-2.06.94zm-11 1L8.5 8.5l.94-2.06 2.06-.94-2.06-.94L8.5 2.5l-.94 2.06-2.06.94zm10 10l.94 2.06.94-2.06 2.06-.94-2.06-.94-.94-2.06-.94 2.06-2.06.94z\"/><path d=\"M17.41 7.96l-1.37-1.37c-.4-.4-.92-.59-1.43-.59-.52 0-1.04.2-1.43.59L10.3 9.45l-7.72 7.72c-.78.78-.78 2.05 0 2.83L4 21.41c.39.39.9.59 1.41.59.51 0 1.02-.2 1.41-.59l7.78-7.78 2.81-2.81c.8-.78.8-2.07 0-2.86zM5.41 20L4 18.59l7.72-7.72 1.47 1.35L5.41 20z\"/>\n",
              "  </svg>\n",
              "      </button>\n",
              "      \n",
              "  <style>\n",
              "    .colab-df-container {\n",
              "      display:flex;\n",
              "      flex-wrap:wrap;\n",
              "      gap: 12px;\n",
              "    }\n",
              "\n",
              "    .colab-df-convert {\n",
              "      background-color: #E8F0FE;\n",
              "      border: none;\n",
              "      border-radius: 50%;\n",
              "      cursor: pointer;\n",
              "      display: none;\n",
              "      fill: #1967D2;\n",
              "      height: 32px;\n",
              "      padding: 0 0 0 0;\n",
              "      width: 32px;\n",
              "    }\n",
              "\n",
              "    .colab-df-convert:hover {\n",
              "      background-color: #E2EBFA;\n",
              "      box-shadow: 0px 1px 2px rgba(60, 64, 67, 0.3), 0px 1px 3px 1px rgba(60, 64, 67, 0.15);\n",
              "      fill: #174EA6;\n",
              "    }\n",
              "\n",
              "    [theme=dark] .colab-df-convert {\n",
              "      background-color: #3B4455;\n",
              "      fill: #D2E3FC;\n",
              "    }\n",
              "\n",
              "    [theme=dark] .colab-df-convert:hover {\n",
              "      background-color: #434B5C;\n",
              "      box-shadow: 0px 1px 3px 1px rgba(0, 0, 0, 0.15);\n",
              "      filter: drop-shadow(0px 1px 2px rgba(0, 0, 0, 0.3));\n",
              "      fill: #FFFFFF;\n",
              "    }\n",
              "  </style>\n",
              "\n",
              "      <script>\n",
              "        const buttonEl =\n",
              "          document.querySelector('#df-5bda6881-c2f2-4a9d-bb62-13ddc813befc button.colab-df-convert');\n",
              "        buttonEl.style.display =\n",
              "          google.colab.kernel.accessAllowed ? 'block' : 'none';\n",
              "\n",
              "        async function convertToInteractive(key) {\n",
              "          const element = document.querySelector('#df-5bda6881-c2f2-4a9d-bb62-13ddc813befc');\n",
              "          const dataTable =\n",
              "            await google.colab.kernel.invokeFunction('convertToInteractive',\n",
              "                                                     [key], {});\n",
              "          if (!dataTable) return;\n",
              "\n",
              "          const docLinkHtml = 'Like what you see? Visit the ' +\n",
              "            '<a target=\"_blank\" href=https://colab.research.google.com/notebooks/data_table.ipynb>data table notebook</a>'\n",
              "            + ' to learn more about interactive tables.';\n",
              "          element.innerHTML = '';\n",
              "          dataTable['output_type'] = 'display_data';\n",
              "          await google.colab.output.renderOutput(dataTable, element);\n",
              "          const docLink = document.createElement('div');\n",
              "          docLink.innerHTML = docLinkHtml;\n",
              "          element.appendChild(docLink);\n",
              "        }\n",
              "      </script>\n",
              "    </div>\n",
              "  </div>\n",
              "  "
            ]
          },
          "metadata": {},
          "execution_count": 24
        }
      ]
    },
    {
      "cell_type": "markdown",
      "source": [
        "## Encoding ¶"
      ],
      "metadata": {
        "id": "lGyT33AGsf50"
      }
    },
    {
      "cell_type": "code",
      "source": [
        "\n",
        "#lets convert categorical data into numeric values, using OrdinalEncoder\n",
        "from sklearn.preprocessing import OrdinalEncoder\n",
        "enc = OrdinalEncoder()\n",
        "for i in X.columns:\n",
        "    if X[i].dtypes == \"object\" :\n",
        "        X[i] = enc.fit_transform(X[i].values.reshape(-1,1))"
      ],
      "metadata": {
        "id": "SOvzAJGwsYhQ"
      },
      "execution_count": 25,
      "outputs": []
    },
    {
      "cell_type": "code",
      "source": [
        "#lets have a look at data after encoding\n",
        "X.head()"
      ],
      "metadata": {
        "colab": {
          "base_uri": "https://localhost:8080/",
          "height": 270
        },
        "id": "YJ1BROtJsYj0",
        "outputId": "f359ca04-22a5-48d0-cb82-174bb15311b7"
      },
      "execution_count": 26,
      "outputs": [
        {
          "output_type": "execute_result",
          "data": {
            "text/plain": [
              "   CNT_CHILDREN  AMT_INCOME_TOTAL  FLAG_WORK_PHONE  FLAG_PHONE  FLAG_EMAIL  \\\n",
              "0     -0.574026          2.351502         1.820367   -0.656158   -0.317691   \n",
              "1     -0.574026          2.351502         1.820367   -0.656158   -0.317691   \n",
              "2     -0.574026          2.351502         1.820367   -0.656158   -0.317691   \n",
              "3     -0.574026          2.351502         1.820367   -0.656158   -0.317691   \n",
              "4     -0.574026          2.351502         1.820367   -0.656158   -0.317691   \n",
              "\n",
              "   CNT_FAM_MEMBERS  CODE_GENDER  FLAG_OWN_CAR  FLAG_OWN_REALTY  \\\n",
              "0        -0.230155          1.0           1.0              1.0   \n",
              "1        -0.230155          1.0           1.0              1.0   \n",
              "2        -0.230155          1.0           1.0              1.0   \n",
              "3        -0.230155          1.0           1.0              1.0   \n",
              "4        -0.230155          1.0           1.0              1.0   \n",
              "\n",
              "   NAME_INCOME_TYPE  NAME_EDUCATION_TYPE  NAME_FAMILY_STATUS  \\\n",
              "0               4.0                  1.0                 0.0   \n",
              "1               4.0                  1.0                 0.0   \n",
              "2               4.0                  1.0                 0.0   \n",
              "3               4.0                  1.0                 0.0   \n",
              "4               4.0                  1.0                 0.0   \n",
              "\n",
              "   NAME_HOUSING_TYPE  OCCUPATION_TYPE  \n",
              "0                4.0             18.0  \n",
              "1                4.0             18.0  \n",
              "2                4.0             18.0  \n",
              "3                4.0             18.0  \n",
              "4                4.0             18.0  "
            ],
            "text/html": [
              "\n",
              "  <div id=\"df-f387da44-bf15-4525-8e45-03b04b4f0a59\">\n",
              "    <div class=\"colab-df-container\">\n",
              "      <div>\n",
              "<style scoped>\n",
              "    .dataframe tbody tr th:only-of-type {\n",
              "        vertical-align: middle;\n",
              "    }\n",
              "\n",
              "    .dataframe tbody tr th {\n",
              "        vertical-align: top;\n",
              "    }\n",
              "\n",
              "    .dataframe thead th {\n",
              "        text-align: right;\n",
              "    }\n",
              "</style>\n",
              "<table border=\"1\" class=\"dataframe\">\n",
              "  <thead>\n",
              "    <tr style=\"text-align: right;\">\n",
              "      <th></th>\n",
              "      <th>CNT_CHILDREN</th>\n",
              "      <th>AMT_INCOME_TOTAL</th>\n",
              "      <th>FLAG_WORK_PHONE</th>\n",
              "      <th>FLAG_PHONE</th>\n",
              "      <th>FLAG_EMAIL</th>\n",
              "      <th>CNT_FAM_MEMBERS</th>\n",
              "      <th>CODE_GENDER</th>\n",
              "      <th>FLAG_OWN_CAR</th>\n",
              "      <th>FLAG_OWN_REALTY</th>\n",
              "      <th>NAME_INCOME_TYPE</th>\n",
              "      <th>NAME_EDUCATION_TYPE</th>\n",
              "      <th>NAME_FAMILY_STATUS</th>\n",
              "      <th>NAME_HOUSING_TYPE</th>\n",
              "      <th>OCCUPATION_TYPE</th>\n",
              "    </tr>\n",
              "  </thead>\n",
              "  <tbody>\n",
              "    <tr>\n",
              "      <th>0</th>\n",
              "      <td>-0.574026</td>\n",
              "      <td>2.351502</td>\n",
              "      <td>1.820367</td>\n",
              "      <td>-0.656158</td>\n",
              "      <td>-0.317691</td>\n",
              "      <td>-0.230155</td>\n",
              "      <td>1.0</td>\n",
              "      <td>1.0</td>\n",
              "      <td>1.0</td>\n",
              "      <td>4.0</td>\n",
              "      <td>1.0</td>\n",
              "      <td>0.0</td>\n",
              "      <td>4.0</td>\n",
              "      <td>18.0</td>\n",
              "    </tr>\n",
              "    <tr>\n",
              "      <th>1</th>\n",
              "      <td>-0.574026</td>\n",
              "      <td>2.351502</td>\n",
              "      <td>1.820367</td>\n",
              "      <td>-0.656158</td>\n",
              "      <td>-0.317691</td>\n",
              "      <td>-0.230155</td>\n",
              "      <td>1.0</td>\n",
              "      <td>1.0</td>\n",
              "      <td>1.0</td>\n",
              "      <td>4.0</td>\n",
              "      <td>1.0</td>\n",
              "      <td>0.0</td>\n",
              "      <td>4.0</td>\n",
              "      <td>18.0</td>\n",
              "    </tr>\n",
              "    <tr>\n",
              "      <th>2</th>\n",
              "      <td>-0.574026</td>\n",
              "      <td>2.351502</td>\n",
              "      <td>1.820367</td>\n",
              "      <td>-0.656158</td>\n",
              "      <td>-0.317691</td>\n",
              "      <td>-0.230155</td>\n",
              "      <td>1.0</td>\n",
              "      <td>1.0</td>\n",
              "      <td>1.0</td>\n",
              "      <td>4.0</td>\n",
              "      <td>1.0</td>\n",
              "      <td>0.0</td>\n",
              "      <td>4.0</td>\n",
              "      <td>18.0</td>\n",
              "    </tr>\n",
              "    <tr>\n",
              "      <th>3</th>\n",
              "      <td>-0.574026</td>\n",
              "      <td>2.351502</td>\n",
              "      <td>1.820367</td>\n",
              "      <td>-0.656158</td>\n",
              "      <td>-0.317691</td>\n",
              "      <td>-0.230155</td>\n",
              "      <td>1.0</td>\n",
              "      <td>1.0</td>\n",
              "      <td>1.0</td>\n",
              "      <td>4.0</td>\n",
              "      <td>1.0</td>\n",
              "      <td>0.0</td>\n",
              "      <td>4.0</td>\n",
              "      <td>18.0</td>\n",
              "    </tr>\n",
              "    <tr>\n",
              "      <th>4</th>\n",
              "      <td>-0.574026</td>\n",
              "      <td>2.351502</td>\n",
              "      <td>1.820367</td>\n",
              "      <td>-0.656158</td>\n",
              "      <td>-0.317691</td>\n",
              "      <td>-0.230155</td>\n",
              "      <td>1.0</td>\n",
              "      <td>1.0</td>\n",
              "      <td>1.0</td>\n",
              "      <td>4.0</td>\n",
              "      <td>1.0</td>\n",
              "      <td>0.0</td>\n",
              "      <td>4.0</td>\n",
              "      <td>18.0</td>\n",
              "    </tr>\n",
              "  </tbody>\n",
              "</table>\n",
              "</div>\n",
              "      <button class=\"colab-df-convert\" onclick=\"convertToInteractive('df-f387da44-bf15-4525-8e45-03b04b4f0a59')\"\n",
              "              title=\"Convert this dataframe to an interactive table.\"\n",
              "              style=\"display:none;\">\n",
              "        \n",
              "  <svg xmlns=\"http://www.w3.org/2000/svg\" height=\"24px\"viewBox=\"0 0 24 24\"\n",
              "       width=\"24px\">\n",
              "    <path d=\"M0 0h24v24H0V0z\" fill=\"none\"/>\n",
              "    <path d=\"M18.56 5.44l.94 2.06.94-2.06 2.06-.94-2.06-.94-.94-2.06-.94 2.06-2.06.94zm-11 1L8.5 8.5l.94-2.06 2.06-.94-2.06-.94L8.5 2.5l-.94 2.06-2.06.94zm10 10l.94 2.06.94-2.06 2.06-.94-2.06-.94-.94-2.06-.94 2.06-2.06.94z\"/><path d=\"M17.41 7.96l-1.37-1.37c-.4-.4-.92-.59-1.43-.59-.52 0-1.04.2-1.43.59L10.3 9.45l-7.72 7.72c-.78.78-.78 2.05 0 2.83L4 21.41c.39.39.9.59 1.41.59.51 0 1.02-.2 1.41-.59l7.78-7.78 2.81-2.81c.8-.78.8-2.07 0-2.86zM5.41 20L4 18.59l7.72-7.72 1.47 1.35L5.41 20z\"/>\n",
              "  </svg>\n",
              "      </button>\n",
              "      \n",
              "  <style>\n",
              "    .colab-df-container {\n",
              "      display:flex;\n",
              "      flex-wrap:wrap;\n",
              "      gap: 12px;\n",
              "    }\n",
              "\n",
              "    .colab-df-convert {\n",
              "      background-color: #E8F0FE;\n",
              "      border: none;\n",
              "      border-radius: 50%;\n",
              "      cursor: pointer;\n",
              "      display: none;\n",
              "      fill: #1967D2;\n",
              "      height: 32px;\n",
              "      padding: 0 0 0 0;\n",
              "      width: 32px;\n",
              "    }\n",
              "\n",
              "    .colab-df-convert:hover {\n",
              "      background-color: #E2EBFA;\n",
              "      box-shadow: 0px 1px 2px rgba(60, 64, 67, 0.3), 0px 1px 3px 1px rgba(60, 64, 67, 0.15);\n",
              "      fill: #174EA6;\n",
              "    }\n",
              "\n",
              "    [theme=dark] .colab-df-convert {\n",
              "      background-color: #3B4455;\n",
              "      fill: #D2E3FC;\n",
              "    }\n",
              "\n",
              "    [theme=dark] .colab-df-convert:hover {\n",
              "      background-color: #434B5C;\n",
              "      box-shadow: 0px 1px 3px 1px rgba(0, 0, 0, 0.15);\n",
              "      filter: drop-shadow(0px 1px 2px rgba(0, 0, 0, 0.3));\n",
              "      fill: #FFFFFF;\n",
              "    }\n",
              "  </style>\n",
              "\n",
              "      <script>\n",
              "        const buttonEl =\n",
              "          document.querySelector('#df-f387da44-bf15-4525-8e45-03b04b4f0a59 button.colab-df-convert');\n",
              "        buttonEl.style.display =\n",
              "          google.colab.kernel.accessAllowed ? 'block' : 'none';\n",
              "\n",
              "        async function convertToInteractive(key) {\n",
              "          const element = document.querySelector('#df-f387da44-bf15-4525-8e45-03b04b4f0a59');\n",
              "          const dataTable =\n",
              "            await google.colab.kernel.invokeFunction('convertToInteractive',\n",
              "                                                     [key], {});\n",
              "          if (!dataTable) return;\n",
              "\n",
              "          const docLinkHtml = 'Like what you see? Visit the ' +\n",
              "            '<a target=\"_blank\" href=https://colab.research.google.com/notebooks/data_table.ipynb>data table notebook</a>'\n",
              "            + ' to learn more about interactive tables.';\n",
              "          element.innerHTML = '';\n",
              "          dataTable['output_type'] = 'display_data';\n",
              "          await google.colab.output.renderOutput(dataTable, element);\n",
              "          const docLink = document.createElement('div');\n",
              "          docLink.innerHTML = docLinkHtml;\n",
              "          element.appendChild(docLink);\n",
              "        }\n",
              "      </script>\n",
              "    </div>\n",
              "  </div>\n",
              "  "
            ]
          },
          "metadata": {},
          "execution_count": 26
        }
      ]
    },
    {
      "cell_type": "code",
      "source": [
        "\n",
        "#check the shape\n",
        "X.shape"
      ],
      "metadata": {
        "colab": {
          "base_uri": "https://localhost:8080/"
        },
        "id": "mfU79mfysYme",
        "outputId": "2113e25d-afd8-484c-e8af-d7dfd3648d50"
      },
      "execution_count": 27,
      "outputs": [
        {
          "output_type": "execute_result",
          "data": {
            "text/plain": [
              "(777715, 14)"
            ]
          },
          "metadata": {},
          "execution_count": 27
        }
      ]
    },
    {
      "cell_type": "code",
      "source": [
        "\n",
        "#check value count for target variable\n",
        "y.value_counts()"
      ],
      "metadata": {
        "colab": {
          "base_uri": "https://localhost:8080/"
        },
        "id": "5sKuSJ31sYow",
        "outputId": "fc27357e-3fb5-4ab0-9ea9-77da61eb10ad"
      },
      "execution_count": 28,
      "outputs": [
        {
          "output_type": "execute_result",
          "data": {
            "text/plain": [
              "0    774887\n",
              "1      2828\n",
              "Name: TARGET, dtype: int64"
            ]
          },
          "metadata": {},
          "execution_count": 28
        }
      ]
    },
    {
      "cell_type": "markdown",
      "source": [
        "# Over sampling"
      ],
      "metadata": {
        "id": "o1lNnDlSsynM"
      }
    },
    {
      "cell_type": "code",
      "source": [
        "#lets do oversampling using SMOTE\n",
        "import imblearn\n",
        "from imblearn.over_sampling import SMOTE\n",
        "SM = SMOTE()\n",
        "x_over,y_over = SM.fit_resample(X,y)"
      ],
      "metadata": {
        "id": "X6815D3WsYsM"
      },
      "execution_count": 29,
      "outputs": []
    },
    {
      "cell_type": "code",
      "source": [
        "#lets check the count of target variable now\n",
        "y_over.value_counts()"
      ],
      "metadata": {
        "colab": {
          "base_uri": "https://localhost:8080/"
        },
        "id": "rYeMKZdPsYzF",
        "outputId": "73788a4e-3a73-40f2-fa6d-665ec132267e"
      },
      "execution_count": 30,
      "outputs": [
        {
          "output_type": "execute_result",
          "data": {
            "text/plain": [
              "0    774887\n",
              "1    774887\n",
              "Name: TARGET, dtype: int64"
            ]
          },
          "metadata": {},
          "execution_count": 30
        }
      ]
    },
    {
      "cell_type": "markdown",
      "source": [
        "# Finding Best random state"
      ],
      "metadata": {
        "id": "LxCGmlmvtDWl"
      }
    },
    {
      "cell_type": "code",
      "source": [
        "\n",
        "#Lets find the best random state using LogisticRegression\n",
        "from sklearn.linear_model import LogisticRegression\n",
        "max_accu = 0\n",
        "max_rs = 0\n",
        "for i in range(50,100):\n",
        "    x_train,x_test,y_train,y_test = train_test_split(x_over,y_over,test_size = 0.25, random_state = i)\n",
        "    LR = LogisticRegression()\n",
        "    LR.fit(x_train,y_train)\n",
        "    pred = LR.predict(x_test)\n",
        "    acc = accuracy_score(y_test,pred)\n",
        "    if acc > max_accu:\n",
        "        max_accu = acc\n",
        "        max_rs = i\n",
        "print(\"Best accuracy is\",max_accu,\"on Random State\",max_rs)"
      ],
      "metadata": {
        "colab": {
          "base_uri": "https://localhost:8080/"
        },
        "id": "fnIUp_Iis3la",
        "outputId": "732bbe0b-6101-4481-9fb6-c3dbfb69a24c"
      },
      "execution_count": 31,
      "outputs": [
        {
          "output_type": "stream",
          "name": "stdout",
          "text": [
            "Best accuracy is 0.5750121307853522 on Random State 93\n"
          ]
        }
      ]
    },
    {
      "cell_type": "code",
      "source": [
        "#lets split our data into train and test parts with best random_state\n",
        "x_train,x_test,y_train,y_test = train_test_split(x_over, y_over, test_size = 0.25, random_state = 93)"
      ],
      "metadata": {
        "id": "_w48O2eos3nx"
      },
      "execution_count": 32,
      "outputs": []
    },
    {
      "cell_type": "markdown",
      "source": [
        "# ***Model Building***"
      ],
      "metadata": {
        "id": "w2n8X4TttQf5"
      }
    },
    {
      "cell_type": "code",
      "source": [
        "import tensorflow\n",
        "from tensorflow import keras\n",
        "from tensorflow.keras import Sequential \n",
        "from tensorflow.keras.layers import Dense"
      ],
      "metadata": {
        "id": "zPWo0llbs3qZ"
      },
      "execution_count": 43,
      "outputs": []
    },
    {
      "cell_type": "code",
      "source": [
        "model = Sequential()\n",
        "\n",
        "model.add(Dense(100,activation='relu',input_dim=14))\n",
        "model.add(Dense(80,activation='tanh'))\n",
        "model.add(Dense(40,activation='relu'))\n",
        "model.add(Dense(20,activation='relu'))\n",
        "\n",
        "model.add(Dense(15,activation='relu'))\n",
        "model.add(Dense(5,activation='relu'))\n",
        "model.add(Dense(1,activation='sigmoid'))"
      ],
      "metadata": {
        "id": "LsAI4btCs3sq"
      },
      "execution_count": 154,
      "outputs": []
    },
    {
      "cell_type": "code",
      "source": [
        "model.summary()"
      ],
      "metadata": {
        "colab": {
          "base_uri": "https://localhost:8080/"
        },
        "id": "HRfx1hPss3vk",
        "outputId": "57795847-f81d-4a49-8555-3aa182fd9419"
      },
      "execution_count": 155,
      "outputs": [
        {
          "output_type": "stream",
          "name": "stdout",
          "text": [
            "Model: \"sequential_8\"\n",
            "_________________________________________________________________\n",
            " Layer (type)                Output Shape              Param #   \n",
            "=================================================================\n",
            " dense_41 (Dense)            (None, 100)               1500      \n",
            "                                                                 \n",
            " dense_42 (Dense)            (None, 80)                8080      \n",
            "                                                                 \n",
            " dense_43 (Dense)            (None, 40)                3240      \n",
            "                                                                 \n",
            " dense_44 (Dense)            (None, 20)                820       \n",
            "                                                                 \n",
            " dense_45 (Dense)            (None, 15)                315       \n",
            "                                                                 \n",
            " dense_46 (Dense)            (None, 5)                 80        \n",
            "                                                                 \n",
            " dense_47 (Dense)            (None, 1)                 6         \n",
            "                                                                 \n",
            "=================================================================\n",
            "Total params: 14,041\n",
            "Trainable params: 14,041\n",
            "Non-trainable params: 0\n",
            "_________________________________________________________________\n"
          ]
        }
      ]
    },
    {
      "cell_type": "code",
      "source": [
        "model.compile(optimizer='Adam',loss='binary_crossentropy',metrics=['accuracy'])"
      ],
      "metadata": {
        "id": "mkenE0Qcs30K"
      },
      "execution_count": 156,
      "outputs": []
    },
    {
      "cell_type": "code",
      "source": [
        "from pandas.core.dtypes.common import validate_all_hashable\n",
        "history = model.fit(x_train,y_train,batch_size=round(len(x_train)/90),epochs=50,verbose=1,validation_split=0.2, validation_data= (x_test,y_test))"
      ],
      "metadata": {
        "colab": {
          "base_uri": "https://localhost:8080/"
        },
        "id": "wYlfPeY_tqio",
        "outputId": "fe584510-c06c-41cc-9575-73e4bc4bb017"
      },
      "execution_count": 165,
      "outputs": [
        {
          "output_type": "stream",
          "name": "stdout",
          "text": [
            "Epoch 1/50\n",
            "90/90 [==============================] - 1s 9ms/step - loss: 0.1121 - accuracy: 0.9613 - val_loss: 0.0976 - val_accuracy: 0.9667\n",
            "Epoch 2/50\n",
            "90/90 [==============================] - 1s 7ms/step - loss: 0.0952 - accuracy: 0.9672 - val_loss: 0.0943 - val_accuracy: 0.9684\n",
            "Epoch 3/50\n",
            "90/90 [==============================] - 1s 6ms/step - loss: 0.0940 - accuracy: 0.9678 - val_loss: 0.0941 - val_accuracy: 0.9681\n",
            "Epoch 4/50\n",
            "90/90 [==============================] - 1s 7ms/step - loss: 0.0937 - accuracy: 0.9678 - val_loss: 0.0936 - val_accuracy: 0.9682\n",
            "Epoch 5/50\n",
            "90/90 [==============================] - 1s 6ms/step - loss: 0.0936 - accuracy: 0.9678 - val_loss: 0.0936 - val_accuracy: 0.9669\n",
            "Epoch 6/50\n",
            "90/90 [==============================] - 1s 7ms/step - loss: 0.0933 - accuracy: 0.9679 - val_loss: 0.0941 - val_accuracy: 0.9678\n",
            "Epoch 7/50\n",
            "90/90 [==============================] - 1s 7ms/step - loss: 0.0943 - accuracy: 0.9675 - val_loss: 0.0943 - val_accuracy: 0.9674\n",
            "Epoch 8/50\n",
            "90/90 [==============================] - 1s 7ms/step - loss: 0.0936 - accuracy: 0.9678 - val_loss: 0.0945 - val_accuracy: 0.9673\n",
            "Epoch 9/50\n",
            "90/90 [==============================] - 1s 7ms/step - loss: 0.0934 - accuracy: 0.9678 - val_loss: 0.0938 - val_accuracy: 0.9685\n",
            "Epoch 10/50\n",
            "90/90 [==============================] - 1s 7ms/step - loss: 0.0930 - accuracy: 0.9679 - val_loss: 0.0937 - val_accuracy: 0.9676\n",
            "Epoch 11/50\n",
            "90/90 [==============================] - 1s 10ms/step - loss: 0.0938 - accuracy: 0.9675 - val_loss: 0.0931 - val_accuracy: 0.9681\n",
            "Epoch 12/50\n",
            "90/90 [==============================] - 1s 10ms/step - loss: 0.0930 - accuracy: 0.9680 - val_loss: 0.0941 - val_accuracy: 0.9673\n",
            "Epoch 13/50\n",
            "90/90 [==============================] - 1s 9ms/step - loss: 0.0947 - accuracy: 0.9670 - val_loss: 0.0971 - val_accuracy: 0.9652\n",
            "Epoch 14/50\n",
            "90/90 [==============================] - 1s 8ms/step - loss: 0.0935 - accuracy: 0.9677 - val_loss: 0.0932 - val_accuracy: 0.9677\n",
            "Epoch 15/50\n",
            "90/90 [==============================] - 1s 8ms/step - loss: 0.0929 - accuracy: 0.9680 - val_loss: 0.0929 - val_accuracy: 0.9681\n",
            "Epoch 16/50\n",
            "90/90 [==============================] - 1s 8ms/step - loss: 0.0934 - accuracy: 0.9679 - val_loss: 0.0974 - val_accuracy: 0.9668\n",
            "Epoch 17/50\n",
            "90/90 [==============================] - 1s 7ms/step - loss: 0.0934 - accuracy: 0.9676 - val_loss: 0.0939 - val_accuracy: 0.9674\n",
            "Epoch 18/50\n",
            "90/90 [==============================] - 1s 7ms/step - loss: 0.0934 - accuracy: 0.9677 - val_loss: 0.0953 - val_accuracy: 0.9669\n",
            "Epoch 19/50\n",
            "90/90 [==============================] - 1s 7ms/step - loss: 0.0934 - accuracy: 0.9677 - val_loss: 0.0934 - val_accuracy: 0.9682\n",
            "Epoch 20/50\n",
            "90/90 [==============================] - 1s 7ms/step - loss: 0.0933 - accuracy: 0.9677 - val_loss: 0.0928 - val_accuracy: 0.9676\n",
            "Epoch 21/50\n",
            "90/90 [==============================] - 1s 7ms/step - loss: 0.0954 - accuracy: 0.9667 - val_loss: 0.0933 - val_accuracy: 0.9676\n",
            "Epoch 22/50\n",
            "90/90 [==============================] - 1s 7ms/step - loss: 0.0930 - accuracy: 0.9678 - val_loss: 0.0932 - val_accuracy: 0.9680\n",
            "Epoch 23/50\n",
            "90/90 [==============================] - 1s 7ms/step - loss: 0.0925 - accuracy: 0.9680 - val_loss: 0.0922 - val_accuracy: 0.9683\n",
            "Epoch 24/50\n",
            "90/90 [==============================] - 1s 7ms/step - loss: 0.0929 - accuracy: 0.9680 - val_loss: 0.0939 - val_accuracy: 0.9679\n",
            "Epoch 25/50\n",
            "90/90 [==============================] - 1s 7ms/step - loss: 0.0925 - accuracy: 0.9680 - val_loss: 0.0940 - val_accuracy: 0.9675\n",
            "Epoch 26/50\n",
            "90/90 [==============================] - 1s 7ms/step - loss: 0.0940 - accuracy: 0.9672 - val_loss: 0.0925 - val_accuracy: 0.9686\n",
            "Epoch 27/50\n",
            "90/90 [==============================] - 1s 7ms/step - loss: 0.0928 - accuracy: 0.9680 - val_loss: 0.0933 - val_accuracy: 0.9674\n",
            "Epoch 28/50\n",
            "90/90 [==============================] - 1s 8ms/step - loss: 0.0933 - accuracy: 0.9674 - val_loss: 0.0942 - val_accuracy: 0.9658\n",
            "Epoch 29/50\n",
            "90/90 [==============================] - 1s 10ms/step - loss: 0.0927 - accuracy: 0.9679 - val_loss: 0.0931 - val_accuracy: 0.9671\n",
            "Epoch 30/50\n",
            "90/90 [==============================] - 1s 10ms/step - loss: 0.0929 - accuracy: 0.9678 - val_loss: 0.0929 - val_accuracy: 0.9683\n",
            "Epoch 31/50\n",
            "90/90 [==============================] - 1s 8ms/step - loss: 0.0921 - accuracy: 0.9681 - val_loss: 0.0926 - val_accuracy: 0.9682\n",
            "Epoch 32/50\n",
            "90/90 [==============================] - 1s 7ms/step - loss: 0.0924 - accuracy: 0.9679 - val_loss: 0.0925 - val_accuracy: 0.9686\n",
            "Epoch 33/50\n",
            "90/90 [==============================] - 1s 7ms/step - loss: 0.0922 - accuracy: 0.9681 - val_loss: 0.0919 - val_accuracy: 0.9682\n",
            "Epoch 34/50\n",
            "90/90 [==============================] - 1s 7ms/step - loss: 0.0930 - accuracy: 0.9677 - val_loss: 0.0933 - val_accuracy: 0.9675\n",
            "Epoch 35/50\n",
            "90/90 [==============================] - 1s 7ms/step - loss: 0.0931 - accuracy: 0.9677 - val_loss: 0.0928 - val_accuracy: 0.9676\n",
            "Epoch 36/50\n",
            "90/90 [==============================] - 1s 7ms/step - loss: 0.0936 - accuracy: 0.9674 - val_loss: 0.0944 - val_accuracy: 0.9675\n",
            "Epoch 37/50\n",
            "90/90 [==============================] - 1s 7ms/step - loss: 0.0936 - accuracy: 0.9675 - val_loss: 0.0934 - val_accuracy: 0.9672\n",
            "Epoch 38/50\n",
            "90/90 [==============================] - 1s 7ms/step - loss: 0.0920 - accuracy: 0.9681 - val_loss: 0.0923 - val_accuracy: 0.9686\n",
            "Epoch 39/50\n",
            "90/90 [==============================] - 1s 6ms/step - loss: 0.0924 - accuracy: 0.9679 - val_loss: 0.0922 - val_accuracy: 0.9681\n",
            "Epoch 40/50\n",
            "90/90 [==============================] - 1s 6ms/step - loss: 0.0918 - accuracy: 0.9683 - val_loss: 0.0927 - val_accuracy: 0.9676\n",
            "Epoch 41/50\n",
            "90/90 [==============================] - 1s 6ms/step - loss: 0.0918 - accuracy: 0.9682 - val_loss: 0.0927 - val_accuracy: 0.9677\n",
            "Epoch 42/50\n",
            "90/90 [==============================] - 1s 7ms/step - loss: 0.0925 - accuracy: 0.9679 - val_loss: 0.0926 - val_accuracy: 0.9683\n",
            "Epoch 43/50\n",
            "90/90 [==============================] - 1s 7ms/step - loss: 0.0919 - accuracy: 0.9682 - val_loss: 0.0937 - val_accuracy: 0.9677\n",
            "Epoch 44/50\n",
            "90/90 [==============================] - 1s 7ms/step - loss: 0.0925 - accuracy: 0.9679 - val_loss: 0.0935 - val_accuracy: 0.9669\n",
            "Epoch 45/50\n",
            "90/90 [==============================] - 1s 7ms/step - loss: 0.0919 - accuracy: 0.9682 - val_loss: 0.0923 - val_accuracy: 0.9677\n",
            "Epoch 46/50\n",
            "90/90 [==============================] - 1s 8ms/step - loss: 0.0920 - accuracy: 0.9680 - val_loss: 0.0918 - val_accuracy: 0.9684\n",
            "Epoch 47/50\n",
            "90/90 [==============================] - 1s 10ms/step - loss: 0.0909 - accuracy: 0.9685 - val_loss: 0.0939 - val_accuracy: 0.9670\n",
            "Epoch 48/50\n",
            "90/90 [==============================] - 1s 10ms/step - loss: 0.0921 - accuracy: 0.9679 - val_loss: 0.0919 - val_accuracy: 0.9686\n",
            "Epoch 49/50\n",
            "90/90 [==============================] - 1s 7ms/step - loss: 0.0914 - accuracy: 0.9683 - val_loss: 0.0923 - val_accuracy: 0.9684\n",
            "Epoch 50/50\n",
            "90/90 [==============================] - 1s 7ms/step - loss: 0.0923 - accuracy: 0.9679 - val_loss: 0.0931 - val_accuracy: 0.9683\n"
          ]
        }
      ]
    },
    {
      "cell_type": "code",
      "source": [
        "y_pred = model.predict(x_test)"
      ],
      "metadata": {
        "colab": {
          "base_uri": "https://localhost:8080/"
        },
        "id": "a4Mw7xeGtql-",
        "outputId": "c0cd6db0-d31f-4695-ed8b-84df0b1bed1b"
      },
      "execution_count": 166,
      "outputs": [
        {
          "output_type": "stream",
          "name": "stdout",
          "text": [
            "12108/12108 [==============================] - 20s 2ms/step\n"
          ]
        }
      ]
    },
    {
      "cell_type": "code",
      "source": [
        "pred = []\n",
        "for i in y_pred:\n",
        "  if i <= 0.5:\n",
        "    pred.append(0)\n",
        "  else:\n",
        "    pred.append(1)\n",
        "\n",
        "pred = np.array(pred)"
      ],
      "metadata": {
        "id": "7a7Ba7Zptqq5"
      },
      "execution_count": 167,
      "outputs": []
    },
    {
      "cell_type": "code",
      "source": [
        "np.unique(pred,return_counts=True)"
      ],
      "metadata": {
        "colab": {
          "base_uri": "https://localhost:8080/"
        },
        "id": "TnbsiEil-5cT",
        "outputId": "52512f59-0e3a-4a2d-9c1b-c34b5af4ab8b"
      },
      "execution_count": 168,
      "outputs": [
        {
          "output_type": "execute_result",
          "data": {
            "text/plain": [
              "(array([0, 1]), array([186193, 201251]))"
            ]
          },
          "metadata": {},
          "execution_count": 168
        }
      ]
    },
    {
      "cell_type": "code",
      "source": [
        "from sklearn.metrics import accuracy_score\n",
        "accuracy_score(y_test,pred)"
      ],
      "metadata": {
        "colab": {
          "base_uri": "https://localhost:8080/"
        },
        "id": "df9ceItdtqtY",
        "outputId": "a2fa4ff1-b679-49de-ff81-453df9001473"
      },
      "execution_count": 169,
      "outputs": [
        {
          "output_type": "execute_result",
          "data": {
            "text/plain": [
              "0.9682741247767419"
            ]
          },
          "metadata": {},
          "execution_count": 169
        }
      ]
    },
    {
      "cell_type": "code",
      "source": [
        "model.evaluate(x_test,y_test)"
      ],
      "metadata": {
        "colab": {
          "base_uri": "https://localhost:8080/"
        },
        "id": "jjF4AZgxAG_B",
        "outputId": "47c688d6-d0d4-4e5f-c7dd-fbfd09f69c92"
      },
      "execution_count": 100,
      "outputs": [
        {
          "output_type": "stream",
          "name": "stdout",
          "text": [
            "12108/12108 [==============================] - 27s 2ms/step - loss: 0.1725 - accuracy: 0.9344\n"
          ]
        },
        {
          "output_type": "execute_result",
          "data": {
            "text/plain": [
              "[0.17252594232559204, 0.9344499111175537]"
            ]
          },
          "metadata": {},
          "execution_count": 100
        }
      ]
    },
    {
      "cell_type": "code",
      "source": [
        "import matplotlib.pyplot as plt\n",
        "\n",
        "plt.plot(history.history['loss'])\n",
        "plt.plot(history.history['val_loss'])"
      ],
      "metadata": {
        "colab": {
          "base_uri": "https://localhost:8080/",
          "height": 283
        },
        "id": "hmoYjbMCtqv9",
        "outputId": "2f17af80-4b3d-4245-f443-a16ba512fd60"
      },
      "execution_count": 170,
      "outputs": [
        {
          "output_type": "execute_result",
          "data": {
            "text/plain": [
              "[<matplotlib.lines.Line2D at 0x7fcd68502190>]"
            ]
          },
          "metadata": {},
          "execution_count": 170
        },
        {
          "output_type": "display_data",
          "data": {
            "text/plain": [
              "<Figure size 432x288 with 1 Axes>"
            ],
            "image/png": "[encoded data removed]"
          },
          "metadata": {
            "needs_background": "light"
          }
        }
      ]
    },
    {
      "cell_type": "code",
      "source": [
        "plt.plot(history.history['accuracy'])\n",
        "plt.plot(history.history['val_accuracy'])"
      ],
      "metadata": {
        "colab": {
          "base_uri": "https://localhost:8080/",
          "height": 287
        },
        "id": "r3JEhwYht7yf",
        "outputId": "0cbb67d0-9ab8-4301-b0bb-e4b6b319d7b9"
      },
      "execution_count": 171,
      "outputs": [
        {
          "output_type": "execute_result",
          "data": {
            "text/plain": [
              "[<matplotlib.lines.Line2D at 0x7fcd68393670>]"
            ]
          },
          "metadata": {},
          "execution_count": 171
        },
        {
          "output_type": "display_data",
          "data": {
            "text/plain": [
              "<Figure size 432x288 with 1 Axes>"
            ],
            "image/png": "[encoded data removed]"
          },
          "metadata": {
            "needs_background": "light"
          }
        }
      ]
    },
    {
      "cell_type": "markdown",
      "source": [
        "# **THANK YOU !!!**"
      ],
      "metadata": {
        "id": "0VDsBnx8uBXe"
      }
    }
  ]
}