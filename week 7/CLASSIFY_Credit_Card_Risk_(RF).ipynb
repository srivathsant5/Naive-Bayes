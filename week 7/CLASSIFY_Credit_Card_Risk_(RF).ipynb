{
 "cells": [
  {
   "cell_type": "markdown",
   "metadata": {
    "id": "wWyOwaSkxZCz"
   },
   "source": [
    "# ***CLASSIFY Credit Card Risk (RF)***"
   ]
  },
  {
   "cell_type": "markdown",
   "metadata": {
    "id": "GZNxYlEKxi13"
   },
   "source": [
    "## Problem:\n",
    "\n",
    "* Credit score cards are a common risk control method in the financial industry.\n",
    "\n",
    "* It uses personal information and data submitted by credit card applicants to predict the probability of future defaults and credit card borrowings.\n",
    "\n",
    "* The bank is able to decide whether to issue a credit card to the applicant. Credit scores can objectively quantify the magnitude of risk.\n",
    "\n",
    "* This is important because it can be risky to issue credit cards to customers who are likely to default on their payments."
   ]
  },
  {
   "cell_type": "code",
   "execution_count": 123,
   "metadata": {
    "id": "g4MVFfg2xVaP"
   },
   "outputs": [],
   "source": [
    "#import Neccessory libraries\n",
    "import pandas as pd\n",
    "import numpy as np\n",
    "import matplotlib.pyplot as plt\n",
    "import seaborn as sns\n",
    "import missingno\n",
    "import datetime\n",
    "\n",
    "from sklearn.preprocessing import StandardScaler\n",
    "\n",
    "from sklearn.model_selection import train_test_split, GridSearchCV\n",
    "\n",
    "#import required accuracy metrics\n",
    "from sklearn.metrics import accuracy_score, confusion_matrix, classification_report\n",
    "from sklearn.metrics import roc_curve, roc_auc_score\n",
    "from sklearn.model_selection import KFold, cross_val_score\n",
    "\n",
    "import warnings\n",
    "warnings.filterwarnings('ignore')\n",
    "%matplotlib inline"
   ]
  },
  {
   "cell_type": "code",
   "execution_count": 124,
   "metadata": {
    "colab": {
     "base_uri": "https://localhost:8080/",
     "height": 143
    },
    "id": "oHIfokf3yEom",
    "outputId": "62b9c046-6f23-4f0f-c511-29f39fdae524"
   },
   "outputs": [
    {
     "data": {
      "text/html": [
       "\n",
       "  <div id=\"df-6ab22125-b89f-439a-9e9b-6b87a25fa29a\">\n",
       "    <div class=\"colab-df-container\">\n",
       "      <div>\n",
       "<style scoped>\n",
       "    .dataframe tbody tr th:only-of-type {\n",
       "        vertical-align: middle;\n",
       "    }\n",
       "\n",
       "    .dataframe tbody tr th {\n",
       "        vertical-align: top;\n",
       "    }\n",
       "\n",
       "    .dataframe thead th {\n",
       "        text-align: right;\n",
       "    }\n",
       "</style>\n",
       "<table border=\"1\" class=\"dataframe\">\n",
       "  <thead>\n",
       "    <tr style=\"text-align: right;\">\n",
       "      <th></th>\n",
       "      <th>ID</th>\n",
       "      <th>MONTHS_BALANCE</th>\n",
       "      <th>STATUS</th>\n",
       "    </tr>\n",
       "  </thead>\n",
       "  <tbody>\n",
       "    <tr>\n",
       "      <th>0</th>\n",
       "      <td>5001711</td>\n",
       "      <td>0</td>\n",
       "      <td>X</td>\n",
       "    </tr>\n",
       "    <tr>\n",
       "      <th>1</th>\n",
       "      <td>5001711</td>\n",
       "      <td>-1</td>\n",
       "      <td>0</td>\n",
       "    </tr>\n",
       "    <tr>\n",
       "      <th>2</th>\n",
       "      <td>5001711</td>\n",
       "      <td>-2</td>\n",
       "      <td>0</td>\n",
       "    </tr>\n",
       "  </tbody>\n",
       "</table>\n",
       "</div>\n",
       "      <button class=\"colab-df-convert\" onclick=\"convertToInteractive('df-6ab22125-b89f-439a-9e9b-6b87a25fa29a')\"\n",
       "              title=\"Convert this dataframe to an interactive table.\"\n",
       "              style=\"display:none;\">\n",
       "        \n",
       "  <svg xmlns=\"http://www.w3.org/2000/svg\" height=\"24px\"viewBox=\"0 0 24 24\"\n",
       "       width=\"24px\">\n",
       "    <path d=\"M0 0h24v24H0V0z\" fill=\"none\"/>\n",
       "    <path d=\"M18.56 5.44l.94 2.06.94-2.06 2.06-.94-2.06-.94-.94-2.06-.94 2.06-2.06.94zm-11 1L8.5 8.5l.94-2.06 2.06-.94-2.06-.94L8.5 2.5l-.94 2.06-2.06.94zm10 10l.94 2.06.94-2.06 2.06-.94-2.06-.94-.94-2.06-.94 2.06-2.06.94z\"/><path d=\"M17.41 7.96l-1.37-1.37c-.4-.4-.92-.59-1.43-.59-.52 0-1.04.2-1.43.59L10.3 9.45l-7.72 7.72c-.78.78-.78 2.05 0 2.83L4 21.41c.39.39.9.59 1.41.59.51 0 1.02-.2 1.41-.59l7.78-7.78 2.81-2.81c.8-.78.8-2.07 0-2.86zM5.41 20L4 18.59l7.72-7.72 1.47 1.35L5.41 20z\"/>\n",
       "  </svg>\n",
       "      </button>\n",
       "      \n",
       "  <style>\n",
       "    .colab-df-container {\n",
       "      display:flex;\n",
       "      flex-wrap:wrap;\n",
       "      gap: 12px;\n",
       "    }\n",
       "\n",
       "    .colab-df-convert {\n",
       "      background-color: #E8F0FE;\n",
       "      border: none;\n",
       "      border-radius: 50%;\n",
       "      cursor: pointer;\n",
       "      display: none;\n",
       "      fill: #1967D2;\n",
       "      height: 32px;\n",
       "      padding: 0 0 0 0;\n",
       "      width: 32px;\n",
       "    }\n",
       "\n",
       "    .colab-df-convert:hover {\n",
       "      background-color: #E2EBFA;\n",
       "      box-shadow: 0px 1px 2px rgba(60, 64, 67, 0.3), 0px 1px 3px 1px rgba(60, 64, 67, 0.15);\n",
       "      fill: #174EA6;\n",
       "    }\n",
       "\n",
       "    [theme=dark] .colab-df-convert {\n",
       "      background-color: #3B4455;\n",
       "      fill: #D2E3FC;\n",
       "    }\n",
       "\n",
       "    [theme=dark] .colab-df-convert:hover {\n",
       "      background-color: #434B5C;\n",
       "      box-shadow: 0px 1px 3px 1px rgba(0, 0, 0, 0.15);\n",
       "      filter: drop-shadow(0px 1px 2px rgba(0, 0, 0, 0.3));\n",
       "      fill: #FFFFFF;\n",
       "    }\n",
       "  </style>\n",
       "\n",
       "      <script>\n",
       "        const buttonEl =\n",
       "          document.querySelector('#df-6ab22125-b89f-439a-9e9b-6b87a25fa29a button.colab-df-convert');\n",
       "        buttonEl.style.display =\n",
       "          google.colab.kernel.accessAllowed ? 'block' : 'none';\n",
       "\n",
       "        async function convertToInteractive(key) {\n",
       "          const element = document.querySelector('#df-6ab22125-b89f-439a-9e9b-6b87a25fa29a');\n",
       "          const dataTable =\n",
       "            await google.colab.kernel.invokeFunction('convertToInteractive',\n",
       "                                                     [key], {});\n",
       "          if (!dataTable) return;\n",
       "\n",
       "          const docLinkHtml = 'Like what you see? Visit the ' +\n",
       "            '<a target=\"_blank\" href=https://colab.research.google.com/notebooks/data_table.ipynb>data table notebook</a>'\n",
       "            + ' to learn more about interactive tables.';\n",
       "          element.innerHTML = '';\n",
       "          dataTable['output_type'] = 'display_data';\n",
       "          await google.colab.output.renderOutput(dataTable, element);\n",
       "          const docLink = document.createElement('div');\n",
       "          docLink.innerHTML = docLinkHtml;\n",
       "          element.appendChild(docLink);\n",
       "        }\n",
       "      </script>\n",
       "    </div>\n",
       "  </div>\n",
       "  "
      ],
      "text/plain": [
       "        ID  MONTHS_BALANCE STATUS\n",
       "0  5001711               0      X\n",
       "1  5001711              -1      0\n",
       "2  5001711              -2      0"
      ]
     },
     "execution_count": 124,
     "metadata": {},
     "output_type": "execute_result"
    }
   ],
   "source": [
    "cr = pd.read_csv('/content/credit_record.csv')\n",
    "cr.head(3)"
   ]
  },
  {
   "cell_type": "code",
   "execution_count": 125,
   "metadata": {
    "colab": {
     "base_uri": "https://localhost:8080/",
     "height": 224
    },
    "id": "MObV-MbRyM8J",
    "outputId": "d54c1827-840f-411d-fbf9-674c603bdc4d"
   },
   "outputs": [
    {
     "data": {
      "text/html": [
       "\n",
       "  <div id=\"df-825385fc-b154-46d1-80cf-123969660c1f\">\n",
       "    <div class=\"colab-df-container\">\n",
       "      <div>\n",
       "<style scoped>\n",
       "    .dataframe tbody tr th:only-of-type {\n",
       "        vertical-align: middle;\n",
       "    }\n",
       "\n",
       "    .dataframe tbody tr th {\n",
       "        vertical-align: top;\n",
       "    }\n",
       "\n",
       "    .dataframe thead th {\n",
       "        text-align: right;\n",
       "    }\n",
       "</style>\n",
       "<table border=\"1\" class=\"dataframe\">\n",
       "  <thead>\n",
       "    <tr style=\"text-align: right;\">\n",
       "      <th></th>\n",
       "      <th>ID</th>\n",
       "      <th>CODE_GENDER</th>\n",
       "      <th>FLAG_OWN_CAR</th>\n",
       "      <th>FLAG_OWN_REALTY</th>\n",
       "      <th>CNT_CHILDREN</th>\n",
       "      <th>AMT_INCOME_TOTAL</th>\n",
       "      <th>NAME_INCOME_TYPE</th>\n",
       "      <th>NAME_EDUCATION_TYPE</th>\n",
       "      <th>NAME_FAMILY_STATUS</th>\n",
       "      <th>NAME_HOUSING_TYPE</th>\n",
       "      <th>DAYS_BIRTH</th>\n",
       "      <th>DAYS_EMPLOYED</th>\n",
       "      <th>FLAG_MOBIL</th>\n",
       "      <th>FLAG_WORK_PHONE</th>\n",
       "      <th>FLAG_PHONE</th>\n",
       "      <th>FLAG_EMAIL</th>\n",
       "      <th>OCCUPATION_TYPE</th>\n",
       "      <th>CNT_FAM_MEMBERS</th>\n",
       "    </tr>\n",
       "  </thead>\n",
       "  <tbody>\n",
       "    <tr>\n",
       "      <th>0</th>\n",
       "      <td>5008804</td>\n",
       "      <td>M</td>\n",
       "      <td>Y</td>\n",
       "      <td>Y</td>\n",
       "      <td>0</td>\n",
       "      <td>427500.0</td>\n",
       "      <td>Working</td>\n",
       "      <td>Higher education</td>\n",
       "      <td>Civil marriage</td>\n",
       "      <td>Rented apartment</td>\n",
       "      <td>-12005</td>\n",
       "      <td>-4542</td>\n",
       "      <td>1</td>\n",
       "      <td>1</td>\n",
       "      <td>0</td>\n",
       "      <td>0</td>\n",
       "      <td>NaN</td>\n",
       "      <td>2.0</td>\n",
       "    </tr>\n",
       "    <tr>\n",
       "      <th>1</th>\n",
       "      <td>5008805</td>\n",
       "      <td>M</td>\n",
       "      <td>Y</td>\n",
       "      <td>Y</td>\n",
       "      <td>0</td>\n",
       "      <td>427500.0</td>\n",
       "      <td>Working</td>\n",
       "      <td>Higher education</td>\n",
       "      <td>Civil marriage</td>\n",
       "      <td>Rented apartment</td>\n",
       "      <td>-12005</td>\n",
       "      <td>-4542</td>\n",
       "      <td>1</td>\n",
       "      <td>1</td>\n",
       "      <td>0</td>\n",
       "      <td>0</td>\n",
       "      <td>NaN</td>\n",
       "      <td>2.0</td>\n",
       "    </tr>\n",
       "    <tr>\n",
       "      <th>2</th>\n",
       "      <td>5008806</td>\n",
       "      <td>M</td>\n",
       "      <td>Y</td>\n",
       "      <td>Y</td>\n",
       "      <td>0</td>\n",
       "      <td>112500.0</td>\n",
       "      <td>Working</td>\n",
       "      <td>Secondary / secondary special</td>\n",
       "      <td>Married</td>\n",
       "      <td>House / apartment</td>\n",
       "      <td>-21474</td>\n",
       "      <td>-1134</td>\n",
       "      <td>1</td>\n",
       "      <td>0</td>\n",
       "      <td>0</td>\n",
       "      <td>0</td>\n",
       "      <td>Security staff</td>\n",
       "      <td>2.0</td>\n",
       "    </tr>\n",
       "  </tbody>\n",
       "</table>\n",
       "</div>\n",
       "      <button class=\"colab-df-convert\" onclick=\"convertToInteractive('df-825385fc-b154-46d1-80cf-123969660c1f')\"\n",
       "              title=\"Convert this dataframe to an interactive table.\"\n",
       "              style=\"display:none;\">\n",
       "        \n",
       "  <svg xmlns=\"http://www.w3.org/2000/svg\" height=\"24px\"viewBox=\"0 0 24 24\"\n",
       "       width=\"24px\">\n",
       "    <path d=\"M0 0h24v24H0V0z\" fill=\"none\"/>\n",
       "    <path d=\"M18.56 5.44l.94 2.06.94-2.06 2.06-.94-2.06-.94-.94-2.06-.94 2.06-2.06.94zm-11 1L8.5 8.5l.94-2.06 2.06-.94-2.06-.94L8.5 2.5l-.94 2.06-2.06.94zm10 10l.94 2.06.94-2.06 2.06-.94-2.06-.94-.94-2.06-.94 2.06-2.06.94z\"/><path d=\"M17.41 7.96l-1.37-1.37c-.4-.4-.92-.59-1.43-.59-.52 0-1.04.2-1.43.59L10.3 9.45l-7.72 7.72c-.78.78-.78 2.05 0 2.83L4 21.41c.39.39.9.59 1.41.59.51 0 1.02-.2 1.41-.59l7.78-7.78 2.81-2.81c.8-.78.8-2.07 0-2.86zM5.41 20L4 18.59l7.72-7.72 1.47 1.35L5.41 20z\"/>\n",
       "  </svg>\n",
       "      </button>\n",
       "      \n",
       "  <style>\n",
       "    .colab-df-container {\n",
       "      display:flex;\n",
       "      flex-wrap:wrap;\n",
       "      gap: 12px;\n",
       "    }\n",
       "\n",
       "    .colab-df-convert {\n",
       "      background-color: #E8F0FE;\n",
       "      border: none;\n",
       "      border-radius: 50%;\n",
       "      cursor: pointer;\n",
       "      display: none;\n",
       "      fill: #1967D2;\n",
       "      height: 32px;\n",
       "      padding: 0 0 0 0;\n",
       "      width: 32px;\n",
       "    }\n",
       "\n",
       "    .colab-df-convert:hover {\n",
       "      background-color: #E2EBFA;\n",
       "      box-shadow: 0px 1px 2px rgba(60, 64, 67, 0.3), 0px 1px 3px 1px rgba(60, 64, 67, 0.15);\n",
       "      fill: #174EA6;\n",
       "    }\n",
       "\n",
       "    [theme=dark] .colab-df-convert {\n",
       "      background-color: #3B4455;\n",
       "      fill: #D2E3FC;\n",
       "    }\n",
       "\n",
       "    [theme=dark] .colab-df-convert:hover {\n",
       "      background-color: #434B5C;\n",
       "      box-shadow: 0px 1px 3px 1px rgba(0, 0, 0, 0.15);\n",
       "      filter: drop-shadow(0px 1px 2px rgba(0, 0, 0, 0.3));\n",
       "      fill: #FFFFFF;\n",
       "    }\n",
       "  </style>\n",
       "\n",
       "      <script>\n",
       "        const buttonEl =\n",
       "          document.querySelector('#df-825385fc-b154-46d1-80cf-123969660c1f button.colab-df-convert');\n",
       "        buttonEl.style.display =\n",
       "          google.colab.kernel.accessAllowed ? 'block' : 'none';\n",
       "\n",
       "        async function convertToInteractive(key) {\n",
       "          const element = document.querySelector('#df-825385fc-b154-46d1-80cf-123969660c1f');\n",
       "          const dataTable =\n",
       "            await google.colab.kernel.invokeFunction('convertToInteractive',\n",
       "                                                     [key], {});\n",
       "          if (!dataTable) return;\n",
       "\n",
       "          const docLinkHtml = 'Like what you see? Visit the ' +\n",
       "            '<a target=\"_blank\" href=https://colab.research.google.com/notebooks/data_table.ipynb>data table notebook</a>'\n",
       "            + ' to learn more about interactive tables.';\n",
       "          element.innerHTML = '';\n",
       "          dataTable['output_type'] = 'display_data';\n",
       "          await google.colab.output.renderOutput(dataTable, element);\n",
       "          const docLink = document.createElement('div');\n",
       "          docLink.innerHTML = docLinkHtml;\n",
       "          element.appendChild(docLink);\n",
       "        }\n",
       "      </script>\n",
       "    </div>\n",
       "  </div>\n",
       "  "
      ],
      "text/plain": [
       "        ID CODE_GENDER FLAG_OWN_CAR FLAG_OWN_REALTY  CNT_CHILDREN  \\\n",
       "0  5008804           M            Y               Y             0   \n",
       "1  5008805           M            Y               Y             0   \n",
       "2  5008806           M            Y               Y             0   \n",
       "\n",
       "   AMT_INCOME_TOTAL NAME_INCOME_TYPE            NAME_EDUCATION_TYPE  \\\n",
       "0          427500.0          Working               Higher education   \n",
       "1          427500.0          Working               Higher education   \n",
       "2          112500.0          Working  Secondary / secondary special   \n",
       "\n",
       "  NAME_FAMILY_STATUS  NAME_HOUSING_TYPE  DAYS_BIRTH  DAYS_EMPLOYED  \\\n",
       "0     Civil marriage   Rented apartment      -12005          -4542   \n",
       "1     Civil marriage   Rented apartment      -12005          -4542   \n",
       "2            Married  House / apartment      -21474          -1134   \n",
       "\n",
       "   FLAG_MOBIL  FLAG_WORK_PHONE  FLAG_PHONE  FLAG_EMAIL OCCUPATION_TYPE  \\\n",
       "0           1                1           0           0             NaN   \n",
       "1           1                1           0           0             NaN   \n",
       "2           1                0           0           0  Security staff   \n",
       "\n",
       "   CNT_FAM_MEMBERS  \n",
       "0              2.0  \n",
       "1              2.0  \n",
       "2              2.0  "
      ]
     },
     "execution_count": 125,
     "metadata": {},
     "output_type": "execute_result"
    }
   ],
   "source": [
    "application = pd.read_csv('/content/application_record.csv')\n",
    "application.head(3)"
   ]
  },
  {
   "cell_type": "code",
   "execution_count": 126,
   "metadata": {
    "colab": {
     "base_uri": "https://localhost:8080/",
     "height": 301
    },
    "id": "2qH9kR-YyM5h",
    "outputId": "44ebfefe-8b14-47af-b729-ac178cb69f83"
   },
   "outputs": [
    {
     "data": {
      "text/html": [
       "\n",
       "  <div id=\"df-dcd6fc1e-aed4-4bb3-b39f-5d96574c213e\">\n",
       "    <div class=\"colab-df-container\">\n",
       "      <div>\n",
       "<style scoped>\n",
       "    .dataframe tbody tr th:only-of-type {\n",
       "        vertical-align: middle;\n",
       "    }\n",
       "\n",
       "    .dataframe tbody tr th {\n",
       "        vertical-align: top;\n",
       "    }\n",
       "\n",
       "    .dataframe thead th {\n",
       "        text-align: right;\n",
       "    }\n",
       "</style>\n",
       "<table border=\"1\" class=\"dataframe\">\n",
       "  <thead>\n",
       "    <tr style=\"text-align: right;\">\n",
       "      <th></th>\n",
       "      <th>ID</th>\n",
       "      <th>MONTHS_BALANCE</th>\n",
       "      <th>STATUS</th>\n",
       "      <th>CODE_GENDER</th>\n",
       "      <th>FLAG_OWN_CAR</th>\n",
       "      <th>FLAG_OWN_REALTY</th>\n",
       "      <th>CNT_CHILDREN</th>\n",
       "      <th>AMT_INCOME_TOTAL</th>\n",
       "      <th>NAME_INCOME_TYPE</th>\n",
       "      <th>NAME_EDUCATION_TYPE</th>\n",
       "      <th>NAME_FAMILY_STATUS</th>\n",
       "      <th>NAME_HOUSING_TYPE</th>\n",
       "      <th>DAYS_BIRTH</th>\n",
       "      <th>DAYS_EMPLOYED</th>\n",
       "      <th>FLAG_MOBIL</th>\n",
       "      <th>FLAG_WORK_PHONE</th>\n",
       "      <th>FLAG_PHONE</th>\n",
       "      <th>FLAG_EMAIL</th>\n",
       "      <th>OCCUPATION_TYPE</th>\n",
       "      <th>CNT_FAM_MEMBERS</th>\n",
       "    </tr>\n",
       "  </thead>\n",
       "  <tbody>\n",
       "    <tr>\n",
       "      <th>0</th>\n",
       "      <td>5008804</td>\n",
       "      <td>0</td>\n",
       "      <td>C</td>\n",
       "      <td>M</td>\n",
       "      <td>Y</td>\n",
       "      <td>Y</td>\n",
       "      <td>0</td>\n",
       "      <td>427500.0</td>\n",
       "      <td>Working</td>\n",
       "      <td>Higher education</td>\n",
       "      <td>Civil marriage</td>\n",
       "      <td>Rented apartment</td>\n",
       "      <td>-12005</td>\n",
       "      <td>-4542</td>\n",
       "      <td>1</td>\n",
       "      <td>1</td>\n",
       "      <td>0</td>\n",
       "      <td>0</td>\n",
       "      <td>NaN</td>\n",
       "      <td>2.0</td>\n",
       "    </tr>\n",
       "    <tr>\n",
       "      <th>1</th>\n",
       "      <td>5008804</td>\n",
       "      <td>-1</td>\n",
       "      <td>C</td>\n",
       "      <td>M</td>\n",
       "      <td>Y</td>\n",
       "      <td>Y</td>\n",
       "      <td>0</td>\n",
       "      <td>427500.0</td>\n",
       "      <td>Working</td>\n",
       "      <td>Higher education</td>\n",
       "      <td>Civil marriage</td>\n",
       "      <td>Rented apartment</td>\n",
       "      <td>-12005</td>\n",
       "      <td>-4542</td>\n",
       "      <td>1</td>\n",
       "      <td>1</td>\n",
       "      <td>0</td>\n",
       "      <td>0</td>\n",
       "      <td>NaN</td>\n",
       "      <td>2.0</td>\n",
       "    </tr>\n",
       "    <tr>\n",
       "      <th>2</th>\n",
       "      <td>5008804</td>\n",
       "      <td>-2</td>\n",
       "      <td>C</td>\n",
       "      <td>M</td>\n",
       "      <td>Y</td>\n",
       "      <td>Y</td>\n",
       "      <td>0</td>\n",
       "      <td>427500.0</td>\n",
       "      <td>Working</td>\n",
       "      <td>Higher education</td>\n",
       "      <td>Civil marriage</td>\n",
       "      <td>Rented apartment</td>\n",
       "      <td>-12005</td>\n",
       "      <td>-4542</td>\n",
       "      <td>1</td>\n",
       "      <td>1</td>\n",
       "      <td>0</td>\n",
       "      <td>0</td>\n",
       "      <td>NaN</td>\n",
       "      <td>2.0</td>\n",
       "    </tr>\n",
       "    <tr>\n",
       "      <th>3</th>\n",
       "      <td>5008804</td>\n",
       "      <td>-3</td>\n",
       "      <td>C</td>\n",
       "      <td>M</td>\n",
       "      <td>Y</td>\n",
       "      <td>Y</td>\n",
       "      <td>0</td>\n",
       "      <td>427500.0</td>\n",
       "      <td>Working</td>\n",
       "      <td>Higher education</td>\n",
       "      <td>Civil marriage</td>\n",
       "      <td>Rented apartment</td>\n",
       "      <td>-12005</td>\n",
       "      <td>-4542</td>\n",
       "      <td>1</td>\n",
       "      <td>1</td>\n",
       "      <td>0</td>\n",
       "      <td>0</td>\n",
       "      <td>NaN</td>\n",
       "      <td>2.0</td>\n",
       "    </tr>\n",
       "    <tr>\n",
       "      <th>4</th>\n",
       "      <td>5008804</td>\n",
       "      <td>-4</td>\n",
       "      <td>C</td>\n",
       "      <td>M</td>\n",
       "      <td>Y</td>\n",
       "      <td>Y</td>\n",
       "      <td>0</td>\n",
       "      <td>427500.0</td>\n",
       "      <td>Working</td>\n",
       "      <td>Higher education</td>\n",
       "      <td>Civil marriage</td>\n",
       "      <td>Rented apartment</td>\n",
       "      <td>-12005</td>\n",
       "      <td>-4542</td>\n",
       "      <td>1</td>\n",
       "      <td>1</td>\n",
       "      <td>0</td>\n",
       "      <td>0</td>\n",
       "      <td>NaN</td>\n",
       "      <td>2.0</td>\n",
       "    </tr>\n",
       "    <tr>\n",
       "      <th>5</th>\n",
       "      <td>5008804</td>\n",
       "      <td>-5</td>\n",
       "      <td>C</td>\n",
       "      <td>M</td>\n",
       "      <td>Y</td>\n",
       "      <td>Y</td>\n",
       "      <td>0</td>\n",
       "      <td>427500.0</td>\n",
       "      <td>Working</td>\n",
       "      <td>Higher education</td>\n",
       "      <td>Civil marriage</td>\n",
       "      <td>Rented apartment</td>\n",
       "      <td>-12005</td>\n",
       "      <td>-4542</td>\n",
       "      <td>1</td>\n",
       "      <td>1</td>\n",
       "      <td>0</td>\n",
       "      <td>0</td>\n",
       "      <td>NaN</td>\n",
       "      <td>2.0</td>\n",
       "    </tr>\n",
       "  </tbody>\n",
       "</table>\n",
       "</div>\n",
       "      <button class=\"colab-df-convert\" onclick=\"convertToInteractive('df-dcd6fc1e-aed4-4bb3-b39f-5d96574c213e')\"\n",
       "              title=\"Convert this dataframe to an interactive table.\"\n",
       "              style=\"display:none;\">\n",
       "        \n",
       "  <svg xmlns=\"http://www.w3.org/2000/svg\" height=\"24px\"viewBox=\"0 0 24 24\"\n",
       "       width=\"24px\">\n",
       "    <path d=\"M0 0h24v24H0V0z\" fill=\"none\"/>\n",
       "    <path d=\"M18.56 5.44l.94 2.06.94-2.06 2.06-.94-2.06-.94-.94-2.06-.94 2.06-2.06.94zm-11 1L8.5 8.5l.94-2.06 2.06-.94-2.06-.94L8.5 2.5l-.94 2.06-2.06.94zm10 10l.94 2.06.94-2.06 2.06-.94-2.06-.94-.94-2.06-.94 2.06-2.06.94z\"/><path d=\"M17.41 7.96l-1.37-1.37c-.4-.4-.92-.59-1.43-.59-.52 0-1.04.2-1.43.59L10.3 9.45l-7.72 7.72c-.78.78-.78 2.05 0 2.83L4 21.41c.39.39.9.59 1.41.59.51 0 1.02-.2 1.41-.59l7.78-7.78 2.81-2.81c.8-.78.8-2.07 0-2.86zM5.41 20L4 18.59l7.72-7.72 1.47 1.35L5.41 20z\"/>\n",
       "  </svg>\n",
       "      </button>\n",
       "      \n",
       "  <style>\n",
       "    .colab-df-container {\n",
       "      display:flex;\n",
       "      flex-wrap:wrap;\n",
       "      gap: 12px;\n",
       "    }\n",
       "\n",
       "    .colab-df-convert {\n",
       "      background-color: #E8F0FE;\n",
       "      border: none;\n",
       "      border-radius: 50%;\n",
       "      cursor: pointer;\n",
       "      display: none;\n",
       "      fill: #1967D2;\n",
       "      height: 32px;\n",
       "      padding: 0 0 0 0;\n",
       "      width: 32px;\n",
       "    }\n",
       "\n",
       "    .colab-df-convert:hover {\n",
       "      background-color: #E2EBFA;\n",
       "      box-shadow: 0px 1px 2px rgba(60, 64, 67, 0.3), 0px 1px 3px 1px rgba(60, 64, 67, 0.15);\n",
       "      fill: #174EA6;\n",
       "    }\n",
       "\n",
       "    [theme=dark] .colab-df-convert {\n",
       "      background-color: #3B4455;\n",
       "      fill: #D2E3FC;\n",
       "    }\n",
       "\n",
       "    [theme=dark] .colab-df-convert:hover {\n",
       "      background-color: #434B5C;\n",
       "      box-shadow: 0px 1px 3px 1px rgba(0, 0, 0, 0.15);\n",
       "      filter: drop-shadow(0px 1px 2px rgba(0, 0, 0, 0.3));\n",
       "      fill: #FFFFFF;\n",
       "    }\n",
       "  </style>\n",
       "\n",
       "      <script>\n",
       "        const buttonEl =\n",
       "          document.querySelector('#df-dcd6fc1e-aed4-4bb3-b39f-5d96574c213e button.colab-df-convert');\n",
       "        buttonEl.style.display =\n",
       "          google.colab.kernel.accessAllowed ? 'block' : 'none';\n",
       "\n",
       "        async function convertToInteractive(key) {\n",
       "          const element = document.querySelector('#df-dcd6fc1e-aed4-4bb3-b39f-5d96574c213e');\n",
       "          const dataTable =\n",
       "            await google.colab.kernel.invokeFunction('convertToInteractive',\n",
       "                                                     [key], {});\n",
       "          if (!dataTable) return;\n",
       "\n",
       "          const docLinkHtml = 'Like what you see? Visit the ' +\n",
       "            '<a target=\"_blank\" href=https://colab.research.google.com/notebooks/data_table.ipynb>data table notebook</a>'\n",
       "            + ' to learn more about interactive tables.';\n",
       "          element.innerHTML = '';\n",
       "          dataTable['output_type'] = 'display_data';\n",
       "          await google.colab.output.renderOutput(dataTable, element);\n",
       "          const docLink = document.createElement('div');\n",
       "          docLink.innerHTML = docLinkHtml;\n",
       "          element.appendChild(docLink);\n",
       "        }\n",
       "      </script>\n",
       "    </div>\n",
       "  </div>\n",
       "  "
      ],
      "text/plain": [
       "        ID  MONTHS_BALANCE STATUS CODE_GENDER FLAG_OWN_CAR FLAG_OWN_REALTY  \\\n",
       "0  5008804               0      C           M            Y               Y   \n",
       "1  5008804              -1      C           M            Y               Y   \n",
       "2  5008804              -2      C           M            Y               Y   \n",
       "3  5008804              -3      C           M            Y               Y   \n",
       "4  5008804              -4      C           M            Y               Y   \n",
       "5  5008804              -5      C           M            Y               Y   \n",
       "\n",
       "   CNT_CHILDREN  AMT_INCOME_TOTAL NAME_INCOME_TYPE NAME_EDUCATION_TYPE  \\\n",
       "0             0          427500.0          Working    Higher education   \n",
       "1             0          427500.0          Working    Higher education   \n",
       "2             0          427500.0          Working    Higher education   \n",
       "3             0          427500.0          Working    Higher education   \n",
       "4             0          427500.0          Working    Higher education   \n",
       "5             0          427500.0          Working    Higher education   \n",
       "\n",
       "  NAME_FAMILY_STATUS NAME_HOUSING_TYPE  DAYS_BIRTH  DAYS_EMPLOYED  FLAG_MOBIL  \\\n",
       "0     Civil marriage  Rented apartment      -12005          -4542           1   \n",
       "1     Civil marriage  Rented apartment      -12005          -4542           1   \n",
       "2     Civil marriage  Rented apartment      -12005          -4542           1   \n",
       "3     Civil marriage  Rented apartment      -12005          -4542           1   \n",
       "4     Civil marriage  Rented apartment      -12005          -4542           1   \n",
       "5     Civil marriage  Rented apartment      -12005          -4542           1   \n",
       "\n",
       "   FLAG_WORK_PHONE  FLAG_PHONE  FLAG_EMAIL OCCUPATION_TYPE  CNT_FAM_MEMBERS  \n",
       "0                1           0           0             NaN              2.0  \n",
       "1                1           0           0             NaN              2.0  \n",
       "2                1           0           0             NaN              2.0  \n",
       "3                1           0           0             NaN              2.0  \n",
       "4                1           0           0             NaN              2.0  \n",
       "5                1           0           0             NaN              2.0  "
      ]
     },
     "execution_count": 126,
     "metadata": {},
     "output_type": "execute_result"
    }
   ],
   "source": [
    "# merging 2 datasets\n",
    "df = pd.merge(cr,application, on =['ID'], how='inner')\n",
    "df.head(6)"
   ]
  },
  {
   "cell_type": "code",
   "execution_count": 127,
   "metadata": {
    "colab": {
     "base_uri": "https://localhost:8080/"
    },
    "id": "5_yJrtqmyM2s",
    "outputId": "75ec527c-a0e4-47ab-89e2-2d304da1f884"
   },
   "outputs": [
    {
     "data": {
      "text/plain": [
       "ID                       int64\n",
       "MONTHS_BALANCE           int64\n",
       "STATUS                  object\n",
       "CODE_GENDER             object\n",
       "FLAG_OWN_CAR            object\n",
       "FLAG_OWN_REALTY         object\n",
       "CNT_CHILDREN             int64\n",
       "AMT_INCOME_TOTAL       float64\n",
       "NAME_INCOME_TYPE        object\n",
       "NAME_EDUCATION_TYPE     object\n",
       "NAME_FAMILY_STATUS      object\n",
       "NAME_HOUSING_TYPE       object\n",
       "DAYS_BIRTH               int64\n",
       "DAYS_EMPLOYED            int64\n",
       "FLAG_MOBIL               int64\n",
       "FLAG_WORK_PHONE          int64\n",
       "FLAG_PHONE               int64\n",
       "FLAG_EMAIL               int64\n",
       "OCCUPATION_TYPE         object\n",
       "CNT_FAM_MEMBERS        float64\n",
       "dtype: object"
      ]
     },
     "execution_count": 127,
     "metadata": {},
     "output_type": "execute_result"
    }
   ],
   "source": [
    "#check the data types\n",
    "df.dtypes"
   ]
  },
  {
   "cell_type": "code",
   "execution_count": 128,
   "metadata": {
    "colab": {
     "base_uri": "https://localhost:8080/"
    },
    "id": "Fux6guDgyM1l",
    "outputId": "9f706826-e2b3-424a-f9bc-502143b54b9e"
   },
   "outputs": [
    {
     "name": "stdout",
     "output_type": "stream",
     "text": [
      "Shape of train dataset: (777715, 20)\n"
     ]
    }
   ],
   "source": [
    "\n",
    "#lets check the shape \n",
    "print('Shape of train dataset:',df.shape)"
   ]
  },
  {
   "cell_type": "code",
   "execution_count": 129,
   "metadata": {
    "colab": {
     "base_uri": "https://localhost:8080/"
    },
    "id": "PQ-kF_dWyMyH",
    "outputId": "3a2fc09a-f3a7-4a21-ff31-1b4d853f29cc"
   },
   "outputs": [
    {
     "name": "stdout",
     "output_type": "stream",
     "text": [
      "<class 'pandas.core.frame.DataFrame'>\n",
      "Int64Index: 777715 entries, 0 to 777714\n",
      "Data columns (total 20 columns):\n",
      " #   Column               Non-Null Count   Dtype  \n",
      "---  ------               --------------   -----  \n",
      " 0   ID                   777715 non-null  int64  \n",
      " 1   MONTHS_BALANCE       777715 non-null  int64  \n",
      " 2   STATUS               777715 non-null  object \n",
      " 3   CODE_GENDER          777715 non-null  object \n",
      " 4   FLAG_OWN_CAR         777715 non-null  object \n",
      " 5   FLAG_OWN_REALTY      777715 non-null  object \n",
      " 6   CNT_CHILDREN         777715 non-null  int64  \n",
      " 7   AMT_INCOME_TOTAL     777715 non-null  float64\n",
      " 8   NAME_INCOME_TYPE     777715 non-null  object \n",
      " 9   NAME_EDUCATION_TYPE  777715 non-null  object \n",
      " 10  NAME_FAMILY_STATUS   777715 non-null  object \n",
      " 11  NAME_HOUSING_TYPE    777715 non-null  object \n",
      " 12  DAYS_BIRTH           777715 non-null  int64  \n",
      " 13  DAYS_EMPLOYED        777715 non-null  int64  \n",
      " 14  FLAG_MOBIL           777715 non-null  int64  \n",
      " 15  FLAG_WORK_PHONE      777715 non-null  int64  \n",
      " 16  FLAG_PHONE           777715 non-null  int64  \n",
      " 17  FLAG_EMAIL           777715 non-null  int64  \n",
      " 18  OCCUPATION_TYPE      537667 non-null  object \n",
      " 19  CNT_FAM_MEMBERS      777715 non-null  float64\n",
      "dtypes: float64(2), int64(9), object(9)\n",
      "memory usage: 124.6+ MB\n"
     ]
    }
   ],
   "source": [
    "#df['date'] = pd.to_datetime(df['date'])\n",
    "df.info()"
   ]
  },
  {
   "cell_type": "code",
   "execution_count": 130,
   "metadata": {
    "colab": {
     "base_uri": "https://localhost:8080/"
    },
    "id": "he7IAVlN2VHN",
    "outputId": "e86ba277-cfae-4e47-afeb-7204a48e1db5"
   },
   "outputs": [
    {
     "data": {
      "text/plain": [
       "ID                          0\n",
       "MONTHS_BALANCE              0\n",
       "STATUS                      0\n",
       "CODE_GENDER                 0\n",
       "FLAG_OWN_CAR                0\n",
       "FLAG_OWN_REALTY             0\n",
       "CNT_CHILDREN                0\n",
       "AMT_INCOME_TOTAL            0\n",
       "NAME_INCOME_TYPE            0\n",
       "NAME_EDUCATION_TYPE         0\n",
       "NAME_FAMILY_STATUS          0\n",
       "NAME_HOUSING_TYPE           0\n",
       "DAYS_BIRTH                  0\n",
       "DAYS_EMPLOYED               0\n",
       "FLAG_MOBIL                  0\n",
       "FLAG_WORK_PHONE             0\n",
       "FLAG_PHONE                  0\n",
       "FLAG_EMAIL                  0\n",
       "OCCUPATION_TYPE        240048\n",
       "CNT_FAM_MEMBERS             0\n",
       "dtype: int64"
      ]
     },
     "execution_count": 130,
     "metadata": {},
     "output_type": "execute_result"
    }
   ],
   "source": [
    "#lets check for Null Values\n",
    "df.isnull().sum()"
   ]
  },
  {
   "cell_type": "code",
   "execution_count": 131,
   "metadata": {
    "colab": {
     "base_uri": "https://localhost:8080/",
     "height": 1000
    },
    "id": "mCPrN3QL2VDj",
    "outputId": "907fe0e7-aa7a-4a81-c351-ffca0f1b0a5e"
   },
   "outputs": [
    {
     "data": {
      "text/plain": [
       "<AxesSubplot:>"
      ]
     },
     "execution_count": 131,
     "metadata": {},
     "output_type": "execute_result"
    },
    {
     "data": {
      "image/png": "[encoded data removed]",
      "text/plain": [
       "<Figure size 720x1440 with 3 Axes>"
      ]
     },
     "metadata": {
      "needs_background": "light"
     },
     "output_type": "display_data"
    }
   ],
   "source": [
    "missingno.bar(df,figsize = (10,20), color=\"tab:red\")"
   ]
  },
  {
   "cell_type": "code",
   "execution_count": 132,
   "metadata": {
    "colab": {
     "base_uri": "https://localhost:8080/"
    },
    "id": "ePmnkth72VA-",
    "outputId": "a70fb929-397f-4fa9-ad56-9008240e5d79"
   },
   "outputs": [
    {
     "data": {
      "text/plain": [
       "ID                     36457\n",
       "MONTHS_BALANCE            61\n",
       "STATUS                     8\n",
       "CODE_GENDER                2\n",
       "FLAG_OWN_CAR               2\n",
       "FLAG_OWN_REALTY            2\n",
       "CNT_CHILDREN               9\n",
       "AMT_INCOME_TOTAL         265\n",
       "NAME_INCOME_TYPE           5\n",
       "NAME_EDUCATION_TYPE        5\n",
       "NAME_FAMILY_STATUS         5\n",
       "NAME_HOUSING_TYPE          6\n",
       "DAYS_BIRTH              7183\n",
       "DAYS_EMPLOYED           3640\n",
       "FLAG_MOBIL                 1\n",
       "FLAG_WORK_PHONE            2\n",
       "FLAG_PHONE                 2\n",
       "FLAG_EMAIL                 2\n",
       "OCCUPATION_TYPE           18\n",
       "CNT_FAM_MEMBERS           10\n",
       "dtype: int64"
      ]
     },
     "execution_count": 132,
     "metadata": {},
     "output_type": "execute_result"
    }
   ],
   "source": [
    "df.nunique()"
   ]
  },
  {
   "cell_type": "code",
   "execution_count": 133,
   "metadata": {
    "colab": {
     "base_uri": "https://localhost:8080/"
    },
    "id": "h7CF0kTO2U-L",
    "outputId": "8c1138e8-9da1-4300-da73-eb1b12093dcd"
   },
   "outputs": [
    {
     "name": "stdout",
     "output_type": "stream",
     "text": [
      "(777715, 20)\n"
     ]
    }
   ],
   "source": [
    "df.drop_duplicates(keep = 'first',inplace=True)\n",
    "print(df.shape)"
   ]
  },
  {
   "cell_type": "code",
   "execution_count": 134,
   "metadata": {
    "colab": {
     "base_uri": "https://localhost:8080/"
    },
    "id": "S7Hd0NGr2U1z",
    "outputId": "92da5a45-95e9-4269-d638-e377d4f79e1d"
   },
   "outputs": [
    {
     "data": {
      "text/plain": [
       "OCCUPATION_TYPE    240048\n",
       "dtype: int64"
      ]
     },
     "execution_count": 134,
     "metadata": {},
     "output_type": "execute_result"
    }
   ],
   "source": [
    "# checking missing values\n",
    "df.isnull().sum()[df.isnull().sum()>0]"
   ]
  },
  {
   "cell_type": "code",
   "execution_count": 135,
   "metadata": {
    "colab": {
     "base_uri": "https://localhost:8080/"
    },
    "id": "lXzLeLQNyMua",
    "outputId": "4333e9e0-c3f6-454b-e3cd-fe55a1caae96"
   },
   "outputs": [
    {
     "data": {
      "text/plain": [
       "array([nan, 'Security staff', 'Sales staff', 'Accountants', 'Laborers',\n",
       "       'Managers', 'Drivers', 'Core staff', 'High skill tech staff',\n",
       "       'Cleaning staff', 'Private service staff', 'Cooking staff',\n",
       "       'Low-skill Laborers', 'Medicine staff', 'Secretaries',\n",
       "       'Waiters/barmen staff', 'HR staff', 'Realty agents', 'IT staff'],\n",
       "      dtype=object)"
      ]
     },
     "execution_count": 135,
     "metadata": {},
     "output_type": "execute_result"
    }
   ],
   "source": [
    "df['OCCUPATION_TYPE'].unique()"
   ]
  },
  {
   "cell_type": "code",
   "execution_count": 47,
   "metadata": {
    "id": "ht2abtqzyMpC"
   },
   "outputs": [],
   "source": [
    "# dealing with missing values\n",
    "df['OCCUPATION_TYPE'].fillna('others',inplace=True)"
   ]
  },
  {
   "cell_type": "code",
   "execution_count": 48,
   "metadata": {
    "colab": {
     "base_uri": "https://localhost:8080/"
    },
    "id": "ZjsO4utnyMmC",
    "outputId": "9d5a7ab0-fed6-42c4-e947-5380073ea68f"
   },
   "outputs": [
    {
     "data": {
      "text/plain": [
       "Series([], dtype: int64)"
      ]
     },
     "execution_count": 48,
     "metadata": {},
     "output_type": "execute_result"
    }
   ],
   "source": [
    "#checking null values\n",
    "df.isna().sum()[df.isnull().sum()>0]"
   ]
  },
  {
   "cell_type": "code",
   "execution_count": 49,
   "metadata": {
    "colab": {
     "base_uri": "https://localhost:8080/"
    },
    "id": "PnzOTga-7dJp",
    "outputId": "8c8239b7-c809-4a2d-828e-899b60f010b3"
   },
   "outputs": [
    {
     "data": {
      "text/plain": [
       "Series([], dtype: float64)"
      ]
     },
     "execution_count": 49,
     "metadata": {},
     "output_type": "execute_result"
    }
   ],
   "source": [
    "\n",
    "#Lets check which columns contains '?'\n",
    "df[df.columns[(df == '?').any()]].nunique()"
   ]
  },
  {
   "cell_type": "code",
   "execution_count": 50,
   "metadata": {
    "colab": {
     "base_uri": "https://localhost:8080/"
    },
    "id": "0QzCgvp58eI6",
    "outputId": "b82b31bf-4029-42d1-f10b-df601c022ca2"
   },
   "outputs": [
    {
     "name": "stdout",
     "output_type": "stream",
     "text": [
      "5148819    61\n",
      "5115964    61\n",
      "5061741    61\n",
      "5078799    61\n",
      "5061685    61\n",
      "           ..\n",
      "5139553     1\n",
      "5069020     1\n",
      "5097025     1\n",
      "5023604     1\n",
      "5092141     1\n",
      "Name: ID, Length: 36457, dtype: int64\n",
      "------------------------------------------------------------------------------------------\n",
      "-1     24963\n",
      "-2     24871\n",
      " 0     24672\n",
      "-3     24644\n",
      "-4     24274\n",
      "       ...  \n",
      "-56     1588\n",
      "-57     1253\n",
      "-58      955\n",
      "-59      627\n",
      "-60      321\n",
      "Name: MONTHS_BALANCE, Length: 61, dtype: int64\n",
      "------------------------------------------------------------------------------------------\n",
      "0     540639\n",
      "1     155638\n",
      "2      70399\n",
      "3       9328\n",
      "4       1224\n",
      "5        324\n",
      "14       111\n",
      "7         46\n",
      "19         6\n",
      "Name: CNT_CHILDREN, dtype: int64\n",
      "------------------------------------------------------------------------------------------\n",
      "-14667    1018\n",
      "-15140     928\n",
      "-15675     835\n",
      "-16995     799\n",
      "-15519     799\n",
      "          ... \n",
      "-18983       1\n",
      "-7489        1\n",
      "-20216       1\n",
      "-22482       1\n",
      "-16837       1\n",
      "Name: DAYS_BIRTH, Length: 7183, dtype: int64\n",
      "------------------------------------------------------------------------------------------\n",
      " 365243    127972\n",
      "-1751        1601\n",
      "-1539        1545\n",
      "-401         1498\n",
      "-2531        1319\n",
      "            ...  \n",
      "-3294           1\n",
      "-7049           1\n",
      "-616            1\n",
      "-738            1\n",
      "-2848           1\n",
      "Name: DAYS_EMPLOYED, Length: 3640, dtype: int64\n",
      "------------------------------------------------------------------------------------------\n",
      "1    777715\n",
      "Name: FLAG_MOBIL, dtype: int64\n",
      "------------------------------------------------------------------------------------------\n",
      "0    597427\n",
      "1    180288\n",
      "Name: FLAG_WORK_PHONE, dtype: int64\n",
      "------------------------------------------------------------------------------------------\n",
      "0    543650\n",
      "1    234065\n",
      "Name: FLAG_PHONE, dtype: int64\n",
      "------------------------------------------------------------------------------------------\n",
      "0    706418\n",
      "1     71297\n",
      "Name: FLAG_EMAIL, dtype: int64\n",
      "------------------------------------------------------------------------------------------\n"
     ]
    }
   ],
   "source": [
    "#Lets chcek the value counts for numerical data\n",
    "for i in df.columns:\n",
    "    if df[i].dtypes == 'int64':\n",
    "        print(df[i].value_counts())\n",
    "        print('---------'*10)"
   ]
  },
  {
   "cell_type": "code",
   "execution_count": 51,
   "metadata": {
    "colab": {
     "base_uri": "https://localhost:8080/"
    },
    "id": "Mpv8V5Np8eFA",
    "outputId": "d52990a7-c225-4fdc-dc66-9c7c4359ce54"
   },
   "outputs": [
    {
     "name": "stdout",
     "output_type": "stream",
     "text": [
      "C    329536\n",
      "0    290654\n",
      "X    145950\n",
      "1      8747\n",
      "5      1527\n",
      "2       801\n",
      "3       286\n",
      "4       214\n",
      "Name: STATUS, dtype: int64\n",
      "------------------------------------------------------------------------------------------\n",
      "F    518851\n",
      "M    258864\n",
      "Name: CODE_GENDER, dtype: int64\n",
      "------------------------------------------------------------------------------------------\n",
      "N    473355\n",
      "Y    304360\n",
      "Name: FLAG_OWN_CAR, dtype: int64\n",
      "------------------------------------------------------------------------------------------\n",
      "Y    512948\n",
      "N    264767\n",
      "Name: FLAG_OWN_REALTY, dtype: int64\n",
      "------------------------------------------------------------------------------------------\n",
      "Working                 400164\n",
      "Commercial associate    183385\n",
      "Pensioner               128392\n",
      "State servant            65437\n",
      "Student                    337\n",
      "Name: NAME_INCOME_TYPE, dtype: int64\n",
      "------------------------------------------------------------------------------------------\n",
      "Secondary / secondary special    524261\n",
      "Higher education                 213633\n",
      "Incomplete higher                 30329\n",
      "Lower secondary                    8655\n",
      "Academic degree                     837\n",
      "Name: NAME_EDUCATION_TYPE, dtype: int64\n",
      "------------------------------------------------------------------------------------------\n",
      "Married                 546619\n",
      "Single / not married     94335\n",
      "Civil marriage           60342\n",
      "Separated                45255\n",
      "Widow                    31164\n",
      "Name: NAME_FAMILY_STATUS, dtype: int64\n",
      "------------------------------------------------------------------------------------------\n",
      "House / apartment      697151\n",
      "With parents            35735\n",
      "Municipal apartment     24640\n",
      "Rented apartment        10898\n",
      "Office apartment         5636\n",
      "Co-op apartment          3655\n",
      "Name: NAME_HOUSING_TYPE, dtype: int64\n",
      "------------------------------------------------------------------------------------------\n",
      "others                   240048\n",
      "Laborers                 131572\n",
      "Core staff                77112\n",
      "Sales staff               70362\n",
      "Managers                  67738\n",
      "Drivers                   47678\n",
      "High skill tech staff     31768\n",
      "Accountants               27223\n",
      "Medicine staff            26691\n",
      "Cooking staff             13416\n",
      "Security staff            12400\n",
      "Cleaning staff            11399\n",
      "Private service staff      6714\n",
      "Low-skill Laborers         3623\n",
      "Secretaries                3149\n",
      "Waiters/barmen staff       2557\n",
      "HR staff                   1686\n",
      "IT staff                   1319\n",
      "Realty agents              1260\n",
      "Name: OCCUPATION_TYPE, dtype: int64\n",
      "------------------------------------------------------------------------------------------\n"
     ]
    }
   ],
   "source": [
    "#Lets chcek the value counts for categorical data\n",
    "for i in df.columns:\n",
    "    if df[i].dtypes == 'object':\n",
    "        print(df[i].value_counts())\n",
    "        print('---------'*10)"
   ]
  },
  {
   "cell_type": "code",
   "execution_count": 52,
   "metadata": {
    "colab": {
     "base_uri": "https://localhost:8080/"
    },
    "id": "HenD-6df8eBY",
    "outputId": "9539a3e2-a67a-428f-df63-e25a9e39c972"
   },
   "outputs": [
    {
     "name": "stdout",
     "output_type": "stream",
     "text": [
      "ID 36457\n",
      "-----------------------------------\n",
      "MONTHS_BALANCE 61\n",
      "-----------------------------------\n",
      "STATUS 8\n",
      "-----------------------------------\n",
      "CODE_GENDER 2\n",
      "-----------------------------------\n",
      "FLAG_OWN_CAR 2\n",
      "-----------------------------------\n",
      "FLAG_OWN_REALTY 2\n",
      "-----------------------------------\n",
      "CNT_CHILDREN 9\n",
      "-----------------------------------\n",
      "AMT_INCOME_TOTAL 265\n",
      "-----------------------------------\n",
      "NAME_INCOME_TYPE 5\n",
      "-----------------------------------\n",
      "NAME_EDUCATION_TYPE 5\n",
      "-----------------------------------\n",
      "NAME_FAMILY_STATUS 5\n",
      "-----------------------------------\n",
      "NAME_HOUSING_TYPE 6\n",
      "-----------------------------------\n",
      "DAYS_BIRTH 7183\n",
      "-----------------------------------\n",
      "DAYS_EMPLOYED 3640\n",
      "-----------------------------------\n",
      "FLAG_MOBIL 1\n",
      "-----------------------------------\n",
      "FLAG_WORK_PHONE 2\n",
      "-----------------------------------\n",
      "FLAG_PHONE 2\n",
      "-----------------------------------\n",
      "FLAG_EMAIL 2\n",
      "-----------------------------------\n",
      "OCCUPATION_TYPE 19\n",
      "-----------------------------------\n",
      "CNT_FAM_MEMBERS 10\n",
      "-----------------------------------\n"
     ]
    }
   ],
   "source": [
    "for col in df.columns:\n",
    "    print(col,df[col].nunique())\n",
    "    print('-'*35)"
   ]
  },
  {
   "cell_type": "code",
   "execution_count": 57,
   "metadata": {
    "id": "n1GSBJ2T9JeL"
   },
   "outputs": [],
   "source": [
    "def calc_day_of_birth (day_num):\n",
    "    today = date.today() \n",
    "    birthDay = (today + timedelta(days=day_num)).strftime('%Y-%m-%d')\n",
    "    return birthDay\n",
    "    \n",
    "def calc_day_of_employed(day_num):\n",
    "    today = date.today() \n",
    "    employedDay = (today + timedelta(days=day_num)).strftime('%Y-%m-%d')\n",
    "    result = 0\n",
    "    if employedDay > date.today().strftime('%Y-%m-%d') :\n",
    "         result = 0\n",
    "    else:\n",
    "         result = employedDay\n",
    "    return result\n",
    "\n",
    "def get_label_for_data(status):\n",
    "    if status in (2,3,4,5):\n",
    "        return 1  # Risky\n",
    "    else:\n",
    "        return 0 # Not Risky\n",
    "    "
   ]
  },
  {
   "cell_type": "code",
   "execution_count": 60,
   "metadata": {
    "id": "MLNNJE6e9JYb"
   },
   "outputs": [],
   "source": [
    "from datetime import date,datetime, timedelta\n",
    "#get the day of birth for each person   \n",
    "df['BIRTH_DAY']   = df['DAYS_BIRTH'].apply(calc_day_of_birth)\n",
    "#get the day of birth for each person   \n",
    "df['EMPLOYED_DAY']   = df['DAYS_EMPLOYED'].apply(calc_day_of_employed)\n"
   ]
  },
  {
   "cell_type": "code",
   "execution_count": 61,
   "metadata": {
    "id": "RaJw8YMy9JVw"
   },
   "outputs": [],
   "source": [
    "# replacing the value of C,X to numeric value \n",
    "df['STATUS'].replace({'C': 6, 'X' : 7}, inplace=True)\n",
    "df['STATUS']=df['STATUS'].astype(int)"
   ]
  },
  {
   "cell_type": "code",
   "execution_count": 62,
   "metadata": {
    "id": "gogwi3j09JSt"
   },
   "outputs": [],
   "source": [
    "df['TARGET'] = df['STATUS'].apply(get_label_for_data)"
   ]
  },
  {
   "cell_type": "code",
   "execution_count": 63,
   "metadata": {
    "colab": {
     "base_uri": "https://localhost:8080/"
    },
    "id": "BPA9tHBd9JQV",
    "outputId": "ddab2fe9-68e2-4980-a331-7dfd5093c6d6"
   },
   "outputs": [
    {
     "data": {
      "text/plain": [
       "array([0, 1])"
      ]
     },
     "execution_count": 63,
     "metadata": {},
     "output_type": "execute_result"
    }
   ],
   "source": [
    "df['TARGET'].unique()"
   ]
  },
  {
   "cell_type": "code",
   "execution_count": 64,
   "metadata": {
    "id": "B1DMMqxm9JNu"
   },
   "outputs": [],
   "source": [
    "#drop un nessesary columns\n",
    "df = df.drop(['ID','DAYS_BIRTH','MONTHS_BALANCE','DAYS_EMPLOYED','EMPLOYED_DAY','BIRTH_DAY','STATUS','FLAG_MOBIL'],axis=1)"
   ]
  },
  {
   "cell_type": "code",
   "execution_count": 65,
   "metadata": {
    "colab": {
     "base_uri": "https://localhost:8080/"
    },
    "id": "HpxedtZn9JKr",
    "outputId": "11b86b6d-d962-44b7-eedd-5f417649fa40"
   },
   "outputs": [
    {
     "name": "stdout",
     "output_type": "stream",
     "text": [
      "<class 'pandas.core.frame.DataFrame'>\n",
      "Int64Index: 777715 entries, 0 to 777714\n",
      "Data columns (total 15 columns):\n",
      " #   Column               Non-Null Count   Dtype  \n",
      "---  ------               --------------   -----  \n",
      " 0   CODE_GENDER          777715 non-null  object \n",
      " 1   FLAG_OWN_CAR         777715 non-null  object \n",
      " 2   FLAG_OWN_REALTY      777715 non-null  object \n",
      " 3   CNT_CHILDREN         777715 non-null  int64  \n",
      " 4   AMT_INCOME_TOTAL     777715 non-null  float64\n",
      " 5   NAME_INCOME_TYPE     777715 non-null  object \n",
      " 6   NAME_EDUCATION_TYPE  777715 non-null  object \n",
      " 7   NAME_FAMILY_STATUS   777715 non-null  object \n",
      " 8   NAME_HOUSING_TYPE    777715 non-null  object \n",
      " 9   FLAG_WORK_PHONE      777715 non-null  int64  \n",
      " 10  FLAG_PHONE           777715 non-null  int64  \n",
      " 11  FLAG_EMAIL           777715 non-null  int64  \n",
      " 12  OCCUPATION_TYPE      777715 non-null  object \n",
      " 13  CNT_FAM_MEMBERS      777715 non-null  float64\n",
      " 14  TARGET               777715 non-null  int64  \n",
      "dtypes: float64(2), int64(5), object(8)\n",
      "memory usage: 94.9+ MB\n"
     ]
    }
   ],
   "source": [
    "df.info()"
   ]
  },
  {
   "cell_type": "markdown",
   "metadata": {
    "id": "41q9zFGWSSge"
   },
   "source": [
    "# Data processing"
   ]
  },
  {
   "cell_type": "markdown",
   "metadata": {
    "id": "VJ_wucNHSYX6"
   },
   "source": [
    "## Apply label encoder to target variable"
   ]
  },
  {
   "cell_type": "code",
   "execution_count": 66,
   "metadata": {
    "id": "MIWJGkHw9JHq"
   },
   "outputs": [],
   "source": [
    "from sklearn.preprocessing import LabelEncoder\n",
    "leb_enc = LabelEncoder()\n",
    "df2 = leb_enc.fit_transform(df[\"TARGET\"])\n",
    "pd.Series(df2)\n",
    "df[\"TARGET\"] = df2"
   ]
  },
  {
   "cell_type": "code",
   "execution_count": 67,
   "metadata": {
    "colab": {
     "base_uri": "https://localhost:8080/"
    },
    "id": "kh7NC5kM8d8D",
    "outputId": "800c5585-4ca8-4ed8-bd00-7c3d9604a5fc"
   },
   "outputs": [
    {
     "data": {
      "text/plain": [
       "Index(['CODE_GENDER', 'FLAG_OWN_CAR', 'FLAG_OWN_REALTY', 'CNT_CHILDREN',\n",
       "       'AMT_INCOME_TOTAL', 'NAME_INCOME_TYPE', 'NAME_EDUCATION_TYPE',\n",
       "       'NAME_FAMILY_STATUS', 'NAME_HOUSING_TYPE', 'FLAG_WORK_PHONE',\n",
       "       'FLAG_PHONE', 'FLAG_EMAIL', 'OCCUPATION_TYPE', 'CNT_FAM_MEMBERS',\n",
       "       'TARGET'],\n",
       "      dtype='object')"
      ]
     },
     "execution_count": 67,
     "metadata": {},
     "output_type": "execute_result"
    }
   ],
   "source": [
    "df.columns"
   ]
  },
  {
   "cell_type": "markdown",
   "metadata": {
    "id": "mTlgMccqSu5L"
   },
   "source": [
    "## Heat map for checking correlation"
   ]
  },
  {
   "cell_type": "code",
   "execution_count": 68,
   "metadata": {
    "colab": {
     "base_uri": "https://localhost:8080/",
     "height": 1000
    },
    "id": "kVgPqWk98d5d",
    "outputId": "3815a463-661b-460f-b119-d8e209449492"
   },
   "outputs": [
    {
     "data": {
      "image/png": "[encoded data removed]",
      "text/plain": [
       "<Figure size 1440x1080 with 2 Axes>"
      ]
     },
     "metadata": {
      "needs_background": "light"
     },
     "output_type": "display_data"
    }
   ],
   "source": [
    "#Lets plot heatmap to check correlation among differnt features and label\n",
    "df_corr = df.corr()\n",
    "plt.figure(figsize = (20,15))\n",
    "sns.heatmap(df_corr,vmin=-1,vmax=1,annot=True,center=0,fmt='.2g',linewidths=0.1)\n",
    "plt.tight_layout()"
   ]
  },
  {
   "cell_type": "code",
   "execution_count": 71,
   "metadata": {
    "colab": {
     "base_uri": "https://localhost:8080/",
     "height": 268
    },
    "id": "j4AC9SSS8d2F",
    "outputId": "7a21ba39-c85c-4c9b-e0f1-28b5f708e274"
   },
   "outputs": [
    {
     "data": {
      "text/html": [
       "\n",
       "  <div id=\"df-4275bd2d-1b9d-4c0b-842b-916b514dcee6\">\n",
       "    <div class=\"colab-df-container\">\n",
       "      <div>\n",
       "<style scoped>\n",
       "    .dataframe tbody tr th:only-of-type {\n",
       "        vertical-align: middle;\n",
       "    }\n",
       "\n",
       "    .dataframe tbody tr th {\n",
       "        vertical-align: top;\n",
       "    }\n",
       "\n",
       "    .dataframe thead th {\n",
       "        text-align: right;\n",
       "    }\n",
       "</style>\n",
       "<table border=\"1\" class=\"dataframe\">\n",
       "  <thead>\n",
       "    <tr style=\"text-align: right;\">\n",
       "      <th></th>\n",
       "      <th>count</th>\n",
       "      <th>mean</th>\n",
       "      <th>std</th>\n",
       "      <th>min</th>\n",
       "      <th>25%</th>\n",
       "      <th>50%</th>\n",
       "      <th>75%</th>\n",
       "      <th>max</th>\n",
       "    </tr>\n",
       "  </thead>\n",
       "  <tbody>\n",
       "    <tr>\n",
       "      <th>CNT_CHILDREN</th>\n",
       "      <td>777715.0</td>\n",
       "      <td>0.428082</td>\n",
       "      <td>0.745755</td>\n",
       "      <td>0.0</td>\n",
       "      <td>0.0</td>\n",
       "      <td>0.0</td>\n",
       "      <td>1.0</td>\n",
       "      <td>19.0</td>\n",
       "    </tr>\n",
       "    <tr>\n",
       "      <th>AMT_INCOME_TOTAL</th>\n",
       "      <td>777715.0</td>\n",
       "      <td>188534.802074</td>\n",
       "      <td>101622.450077</td>\n",
       "      <td>27000.0</td>\n",
       "      <td>121500.0</td>\n",
       "      <td>162000.0</td>\n",
       "      <td>225000.0</td>\n",
       "      <td>1575000.0</td>\n",
       "    </tr>\n",
       "    <tr>\n",
       "      <th>FLAG_WORK_PHONE</th>\n",
       "      <td>777715.0</td>\n",
       "      <td>0.231818</td>\n",
       "      <td>0.421993</td>\n",
       "      <td>0.0</td>\n",
       "      <td>0.0</td>\n",
       "      <td>0.0</td>\n",
       "      <td>0.0</td>\n",
       "      <td>1.0</td>\n",
       "    </tr>\n",
       "    <tr>\n",
       "      <th>FLAG_PHONE</th>\n",
       "      <td>777715.0</td>\n",
       "      <td>0.300965</td>\n",
       "      <td>0.458678</td>\n",
       "      <td>0.0</td>\n",
       "      <td>0.0</td>\n",
       "      <td>0.0</td>\n",
       "      <td>1.0</td>\n",
       "      <td>1.0</td>\n",
       "    </tr>\n",
       "    <tr>\n",
       "      <th>FLAG_EMAIL</th>\n",
       "      <td>777715.0</td>\n",
       "      <td>0.091675</td>\n",
       "      <td>0.288567</td>\n",
       "      <td>0.0</td>\n",
       "      <td>0.0</td>\n",
       "      <td>0.0</td>\n",
       "      <td>0.0</td>\n",
       "      <td>1.0</td>\n",
       "    </tr>\n",
       "    <tr>\n",
       "      <th>CNT_FAM_MEMBERS</th>\n",
       "      <td>777715.0</td>\n",
       "      <td>2.208837</td>\n",
       "      <td>0.907380</td>\n",
       "      <td>1.0</td>\n",
       "      <td>2.0</td>\n",
       "      <td>2.0</td>\n",
       "      <td>3.0</td>\n",
       "      <td>20.0</td>\n",
       "    </tr>\n",
       "    <tr>\n",
       "      <th>TARGET</th>\n",
       "      <td>777715.0</td>\n",
       "      <td>0.003636</td>\n",
       "      <td>0.060192</td>\n",
       "      <td>0.0</td>\n",
       "      <td>0.0</td>\n",
       "      <td>0.0</td>\n",
       "      <td>0.0</td>\n",
       "      <td>1.0</td>\n",
       "    </tr>\n",
       "  </tbody>\n",
       "</table>\n",
       "</div>\n",
       "      <button class=\"colab-df-convert\" onclick=\"convertToInteractive('df-4275bd2d-1b9d-4c0b-842b-916b514dcee6')\"\n",
       "              title=\"Convert this dataframe to an interactive table.\"\n",
       "              style=\"display:none;\">\n",
       "        \n",
       "  <svg xmlns=\"http://www.w3.org/2000/svg\" height=\"24px\"viewBox=\"0 0 24 24\"\n",
       "       width=\"24px\">\n",
       "    <path d=\"M0 0h24v24H0V0z\" fill=\"none\"/>\n",
       "    <path d=\"M18.56 5.44l.94 2.06.94-2.06 2.06-.94-2.06-.94-.94-2.06-.94 2.06-2.06.94zm-11 1L8.5 8.5l.94-2.06 2.06-.94-2.06-.94L8.5 2.5l-.94 2.06-2.06.94zm10 10l.94 2.06.94-2.06 2.06-.94-2.06-.94-.94-2.06-.94 2.06-2.06.94z\"/><path d=\"M17.41 7.96l-1.37-1.37c-.4-.4-.92-.59-1.43-.59-.52 0-1.04.2-1.43.59L10.3 9.45l-7.72 7.72c-.78.78-.78 2.05 0 2.83L4 21.41c.39.39.9.59 1.41.59.51 0 1.02-.2 1.41-.59l7.78-7.78 2.81-2.81c.8-.78.8-2.07 0-2.86zM5.41 20L4 18.59l7.72-7.72 1.47 1.35L5.41 20z\"/>\n",
       "  </svg>\n",
       "      </button>\n",
       "      \n",
       "  <style>\n",
       "    .colab-df-container {\n",
       "      display:flex;\n",
       "      flex-wrap:wrap;\n",
       "      gap: 12px;\n",
       "    }\n",
       "\n",
       "    .colab-df-convert {\n",
       "      background-color: #E8F0FE;\n",
       "      border: none;\n",
       "      border-radius: 50%;\n",
       "      cursor: pointer;\n",
       "      display: none;\n",
       "      fill: #1967D2;\n",
       "      height: 32px;\n",
       "      padding: 0 0 0 0;\n",
       "      width: 32px;\n",
       "    }\n",
       "\n",
       "    .colab-df-convert:hover {\n",
       "      background-color: #E2EBFA;\n",
       "      box-shadow: 0px 1px 2px rgba(60, 64, 67, 0.3), 0px 1px 3px 1px rgba(60, 64, 67, 0.15);\n",
       "      fill: #174EA6;\n",
       "    }\n",
       "\n",
       "    [theme=dark] .colab-df-convert {\n",
       "      background-color: #3B4455;\n",
       "      fill: #D2E3FC;\n",
       "    }\n",
       "\n",
       "    [theme=dark] .colab-df-convert:hover {\n",
       "      background-color: #434B5C;\n",
       "      box-shadow: 0px 1px 3px 1px rgba(0, 0, 0, 0.15);\n",
       "      filter: drop-shadow(0px 1px 2px rgba(0, 0, 0, 0.3));\n",
       "      fill: #FFFFFF;\n",
       "    }\n",
       "  </style>\n",
       "\n",
       "      <script>\n",
       "        const buttonEl =\n",
       "          document.querySelector('#df-4275bd2d-1b9d-4c0b-842b-916b514dcee6 button.colab-df-convert');\n",
       "        buttonEl.style.display =\n",
       "          google.colab.kernel.accessAllowed ? 'block' : 'none';\n",
       "\n",
       "        async function convertToInteractive(key) {\n",
       "          const element = document.querySelector('#df-4275bd2d-1b9d-4c0b-842b-916b514dcee6');\n",
       "          const dataTable =\n",
       "            await google.colab.kernel.invokeFunction('convertToInteractive',\n",
       "                                                     [key], {});\n",
       "          if (!dataTable) return;\n",
       "\n",
       "          const docLinkHtml = 'Like what you see? Visit the ' +\n",
       "            '<a target=\"_blank\" href=https://colab.research.google.com/notebooks/data_table.ipynb>data table notebook</a>'\n",
       "            + ' to learn more about interactive tables.';\n",
       "          element.innerHTML = '';\n",
       "          dataTable['output_type'] = 'display_data';\n",
       "          await google.colab.output.renderOutput(dataTable, element);\n",
       "          const docLink = document.createElement('div');\n",
       "          docLink.innerHTML = docLinkHtml;\n",
       "          element.appendChild(docLink);\n",
       "        }\n",
       "      </script>\n",
       "    </div>\n",
       "  </div>\n",
       "  "
      ],
      "text/plain": [
       "                     count           mean            std      min       25%  \\\n",
       "CNT_CHILDREN      777715.0       0.428082       0.745755      0.0       0.0   \n",
       "AMT_INCOME_TOTAL  777715.0  188534.802074  101622.450077  27000.0  121500.0   \n",
       "FLAG_WORK_PHONE   777715.0       0.231818       0.421993      0.0       0.0   \n",
       "FLAG_PHONE        777715.0       0.300965       0.458678      0.0       0.0   \n",
       "FLAG_EMAIL        777715.0       0.091675       0.288567      0.0       0.0   \n",
       "CNT_FAM_MEMBERS   777715.0       2.208837       0.907380      1.0       2.0   \n",
       "TARGET            777715.0       0.003636       0.060192      0.0       0.0   \n",
       "\n",
       "                       50%       75%        max  \n",
       "CNT_CHILDREN           0.0       1.0       19.0  \n",
       "AMT_INCOME_TOTAL  162000.0  225000.0  1575000.0  \n",
       "FLAG_WORK_PHONE        0.0       0.0        1.0  \n",
       "FLAG_PHONE             0.0       1.0        1.0  \n",
       "FLAG_EMAIL             0.0       0.0        1.0  \n",
       "CNT_FAM_MEMBERS        2.0       3.0       20.0  \n",
       "TARGET                 0.0       0.0        1.0  "
      ]
     },
     "execution_count": 71,
     "metadata": {},
     "output_type": "execute_result"
    }
   ],
   "source": [
    "#lets describe the data\n",
    "df.describe().T"
   ]
  },
  {
   "cell_type": "markdown",
   "metadata": {
    "id": "UL3fdQp2TRjR"
   },
   "source": [
    "## Checking for outliers using box plots"
   ]
  },
  {
   "cell_type": "code",
   "execution_count": 72,
   "metadata": {
    "colab": {
     "base_uri": "https://localhost:8080/",
     "height": 237
    },
    "id": "JZ48McMtS9wh",
    "outputId": "4fe837e9-c29a-4d81-cb69-08777d6f1075"
   },
   "outputs": [
    {
     "data": {
      "image/png": "[encoded data removed]",
      "text/plain": [
       "<Figure size 1800x720 with 7 Axes>"
      ]
     },
     "metadata": {
      "needs_background": "light"
     },
     "output_type": "display_data"
    }
   ],
   "source": [
    "\n",
    "#lets check outliers from continuous columns\n",
    "num_data = df._get_numeric_data()\n",
    "plt.figure(figsize = (25,10))\n",
    "plotnumber = 1\n",
    "for column in num_data:\n",
    "    if plotnumber <=45:\n",
    "        ax = plt.subplot(5,4,plotnumber)\n",
    "        sns.boxplot(num_data[column])\n",
    "        plt.xlabel(column,fontsize = 20)\n",
    "    plotnumber+=1\n",
    "plt.tight_layout()"
   ]
  },
  {
   "cell_type": "code",
   "execution_count": 73,
   "metadata": {
    "colab": {
     "base_uri": "https://localhost:8080/",
     "height": 1000
    },
    "id": "-RTwjmg8S9tE",
    "outputId": "fb68bd06-05ab-4ffb-d751-91ca28b57628"
   },
   "outputs": [
    {
     "data": {
      "image/png": "[encoded data removed]",
      "text/plain": [
       "<Figure size 1800x1440 with 5 Axes>"
      ]
     },
     "metadata": {
      "needs_background": "light"
     },
     "output_type": "display_data"
    }
   ],
   "source": [
    "\n",
    "#lets see the destribution of numerical data\n",
    "num_data = df._get_numeric_data()\n",
    "plt.figure(figsize = (25,20))\n",
    "plt.style.use('fivethirtyeight')\n",
    "plotnumber = 1\n",
    "for column in num_data:\n",
    "    if plotnumber <=5:\n",
    "        ax = plt.subplot(3,2,plotnumber)\n",
    "        sns.distplot(num_data[column])\n",
    "        plt.xlabel(column,fontsize = 20)\n",
    "    plotnumber+=1\n",
    "plt.tight_layout()"
   ]
  },
  {
   "cell_type": "code",
   "execution_count": 74,
   "metadata": {
    "colab": {
     "base_uri": "https://localhost:8080/"
    },
    "id": "7cepThSES9qW",
    "outputId": "c360389d-8f17-403a-86a8-d68e4c00222f"
   },
   "outputs": [
    {
     "data": {
      "text/plain": [
       "CNT_CHILDREN         2.587310\n",
       "AMT_INCOME_TOTAL     2.577642\n",
       "FLAG_WORK_PHONE      1.271030\n",
       "FLAG_PHONE           0.867866\n",
       "FLAG_EMAIL           2.830028\n",
       "CNT_FAM_MEMBERS      1.324175\n",
       "TARGET              16.492726\n",
       "dtype: float64"
      ]
     },
     "execution_count": 74,
     "metadata": {},
     "output_type": "execute_result"
    }
   ],
   "source": [
    "\n",
    "#lets check for skewness\n",
    "df.skew()"
   ]
  },
  {
   "cell_type": "markdown",
   "metadata": {
    "id": "DifsoZ_zTpqG"
   },
   "source": [
    "## Separate features and label as x & y respectively"
   ]
  },
  {
   "cell_type": "code",
   "execution_count": 75,
   "metadata": {
    "id": "m4hXGSfKS9nS"
   },
   "outputs": [],
   "source": [
    "x = df.drop(columns = 'TARGET')\n",
    "y = df['TARGET']"
   ]
  },
  {
   "cell_type": "code",
   "execution_count": 76,
   "metadata": {
    "colab": {
     "base_uri": "https://localhost:8080/"
    },
    "id": "3XgF0QXFS9jy",
    "outputId": "1f53677a-eeab-41f0-d352-2f8ab5c1dc68"
   },
   "outputs": [
    {
     "data": {
      "text/plain": [
       "CNT_CHILDREN        2.587310\n",
       "AMT_INCOME_TOTAL    2.577642\n",
       "FLAG_WORK_PHONE     1.271030\n",
       "FLAG_PHONE          0.867866\n",
       "FLAG_EMAIL          2.830028\n",
       "CNT_FAM_MEMBERS     1.324175\n",
       "dtype: float64"
      ]
     },
     "execution_count": 76,
     "metadata": {},
     "output_type": "execute_result"
    }
   ],
   "source": [
    "\n",
    "x.skew()"
   ]
  },
  {
   "cell_type": "code",
   "execution_count": 77,
   "metadata": {
    "id": "-wFrrti8S9gr"
   },
   "outputs": [],
   "source": [
    "\n",
    "#Lets treat the skewness from numerical columns\n",
    "for index in x.skew().index:\n",
    "    if x.skew().loc[index]>0.5:\n",
    "        x[index]=np.log1p(x[index])\n",
    "    if x.skew().loc[index]<-0.5:\n",
    "        x[index]=np.cbrt(x[index])"
   ]
  },
  {
   "cell_type": "code",
   "execution_count": 78,
   "metadata": {
    "colab": {
     "base_uri": "https://localhost:8080/"
    },
    "id": "FX4KustxS9eF",
    "outputId": "679cf6d5-a144-49c9-c0db-cd81c20fb0e2"
   },
   "outputs": [
    {
     "data": {
      "text/plain": [
       "CNT_CHILDREN        1.205022\n",
       "AMT_INCOME_TOTAL    0.071355\n",
       "FLAG_WORK_PHONE     1.271030\n",
       "FLAG_PHONE          0.867866\n",
       "FLAG_EMAIL          2.830028\n",
       "CNT_FAM_MEMBERS     0.139806\n",
       "dtype: float64"
      ]
     },
     "execution_count": 78,
     "metadata": {},
     "output_type": "execute_result"
    }
   ],
   "source": [
    "\n",
    "#check the skewness again\n",
    "x.skew()"
   ]
  },
  {
   "cell_type": "code",
   "execution_count": 79,
   "metadata": {
    "id": "UK2cqgqLS9az"
   },
   "outputs": [],
   "source": [
    "#lets separate numerical and categorical features for scaling and encoding\n",
    "num = x._get_numeric_data()\n",
    "cat = x.select_dtypes(include=['object'])"
   ]
  },
  {
   "cell_type": "markdown",
   "metadata": {
    "id": "ANCfIWbSUBqq"
   },
   "source": [
    "## Applying StandardScaler to numerical features"
   ]
  },
  {
   "cell_type": "code",
   "execution_count": 80,
   "metadata": {
    "id": "RHeyPaoKS9YB"
   },
   "outputs": [],
   "source": [
    "#Lets bring all numerical features to common scale by applying standard scaler\n",
    "scaler = StandardScaler()\n",
    "x_num = scaler.fit_transform(num)\n",
    "x_num = pd.DataFrame(x_num,columns=num.columns)"
   ]
  },
  {
   "cell_type": "code",
   "execution_count": 81,
   "metadata": {
    "id": "5BSoai3qS9VB"
   },
   "outputs": [],
   "source": [
    "#combine both numerical and categorical features\n",
    "X = pd.concat([x_num,cat], axis = 1)"
   ]
  },
  {
   "cell_type": "code",
   "execution_count": 82,
   "metadata": {
    "colab": {
     "base_uri": "https://localhost:8080/",
     "height": 270
    },
    "id": "OWE_chZ7S9Sr",
    "outputId": "df362aca-45a5-4059-eec1-006f8ab027e2"
   },
   "outputs": [
    {
     "data": {
      "text/html": [
       "\n",
       "  <div id=\"df-25ca22ab-6ba0-4aef-b56c-91c1ae890918\">\n",
       "    <div class=\"colab-df-container\">\n",
       "      <div>\n",
       "<style scoped>\n",
       "    .dataframe tbody tr th:only-of-type {\n",
       "        vertical-align: middle;\n",
       "    }\n",
       "\n",
       "    .dataframe tbody tr th {\n",
       "        vertical-align: top;\n",
       "    }\n",
       "\n",
       "    .dataframe thead th {\n",
       "        text-align: right;\n",
       "    }\n",
       "</style>\n",
       "<table border=\"1\" class=\"dataframe\">\n",
       "  <thead>\n",
       "    <tr style=\"text-align: right;\">\n",
       "      <th></th>\n",
       "      <th>CNT_CHILDREN</th>\n",
       "      <th>AMT_INCOME_TOTAL</th>\n",
       "      <th>FLAG_WORK_PHONE</th>\n",
       "      <th>FLAG_PHONE</th>\n",
       "      <th>FLAG_EMAIL</th>\n",
       "      <th>CNT_FAM_MEMBERS</th>\n",
       "      <th>CODE_GENDER</th>\n",
       "      <th>FLAG_OWN_CAR</th>\n",
       "      <th>FLAG_OWN_REALTY</th>\n",
       "      <th>NAME_INCOME_TYPE</th>\n",
       "      <th>NAME_EDUCATION_TYPE</th>\n",
       "      <th>NAME_FAMILY_STATUS</th>\n",
       "      <th>NAME_HOUSING_TYPE</th>\n",
       "      <th>OCCUPATION_TYPE</th>\n",
       "    </tr>\n",
       "  </thead>\n",
       "  <tbody>\n",
       "    <tr>\n",
       "      <th>0</th>\n",
       "      <td>-0.630236</td>\n",
       "      <td>1.947864</td>\n",
       "      <td>1.820367</td>\n",
       "      <td>-0.656158</td>\n",
       "      <td>-0.317691</td>\n",
       "      <td>-0.111261</td>\n",
       "      <td>M</td>\n",
       "      <td>Y</td>\n",
       "      <td>Y</td>\n",
       "      <td>Working</td>\n",
       "      <td>Higher education</td>\n",
       "      <td>Civil marriage</td>\n",
       "      <td>Rented apartment</td>\n",
       "      <td>others</td>\n",
       "    </tr>\n",
       "    <tr>\n",
       "      <th>1</th>\n",
       "      <td>-0.630236</td>\n",
       "      <td>1.947864</td>\n",
       "      <td>1.820367</td>\n",
       "      <td>-0.656158</td>\n",
       "      <td>-0.317691</td>\n",
       "      <td>-0.111261</td>\n",
       "      <td>M</td>\n",
       "      <td>Y</td>\n",
       "      <td>Y</td>\n",
       "      <td>Working</td>\n",
       "      <td>Higher education</td>\n",
       "      <td>Civil marriage</td>\n",
       "      <td>Rented apartment</td>\n",
       "      <td>others</td>\n",
       "    </tr>\n",
       "    <tr>\n",
       "      <th>2</th>\n",
       "      <td>-0.630236</td>\n",
       "      <td>1.947864</td>\n",
       "      <td>1.820367</td>\n",
       "      <td>-0.656158</td>\n",
       "      <td>-0.317691</td>\n",
       "      <td>-0.111261</td>\n",
       "      <td>M</td>\n",
       "      <td>Y</td>\n",
       "      <td>Y</td>\n",
       "      <td>Working</td>\n",
       "      <td>Higher education</td>\n",
       "      <td>Civil marriage</td>\n",
       "      <td>Rented apartment</td>\n",
       "      <td>others</td>\n",
       "    </tr>\n",
       "    <tr>\n",
       "      <th>3</th>\n",
       "      <td>-0.630236</td>\n",
       "      <td>1.947864</td>\n",
       "      <td>1.820367</td>\n",
       "      <td>-0.656158</td>\n",
       "      <td>-0.317691</td>\n",
       "      <td>-0.111261</td>\n",
       "      <td>M</td>\n",
       "      <td>Y</td>\n",
       "      <td>Y</td>\n",
       "      <td>Working</td>\n",
       "      <td>Higher education</td>\n",
       "      <td>Civil marriage</td>\n",
       "      <td>Rented apartment</td>\n",
       "      <td>others</td>\n",
       "    </tr>\n",
       "    <tr>\n",
       "      <th>4</th>\n",
       "      <td>-0.630236</td>\n",
       "      <td>1.947864</td>\n",
       "      <td>1.820367</td>\n",
       "      <td>-0.656158</td>\n",
       "      <td>-0.317691</td>\n",
       "      <td>-0.111261</td>\n",
       "      <td>M</td>\n",
       "      <td>Y</td>\n",
       "      <td>Y</td>\n",
       "      <td>Working</td>\n",
       "      <td>Higher education</td>\n",
       "      <td>Civil marriage</td>\n",
       "      <td>Rented apartment</td>\n",
       "      <td>others</td>\n",
       "    </tr>\n",
       "  </tbody>\n",
       "</table>\n",
       "</div>\n",
       "      <button class=\"colab-df-convert\" onclick=\"convertToInteractive('df-25ca22ab-6ba0-4aef-b56c-91c1ae890918')\"\n",
       "              title=\"Convert this dataframe to an interactive table.\"\n",
       "              style=\"display:none;\">\n",
       "        \n",
       "  <svg xmlns=\"http://www.w3.org/2000/svg\" height=\"24px\"viewBox=\"0 0 24 24\"\n",
       "       width=\"24px\">\n",
       "    <path d=\"M0 0h24v24H0V0z\" fill=\"none\"/>\n",
       "    <path d=\"M18.56 5.44l.94 2.06.94-2.06 2.06-.94-2.06-.94-.94-2.06-.94 2.06-2.06.94zm-11 1L8.5 8.5l.94-2.06 2.06-.94-2.06-.94L8.5 2.5l-.94 2.06-2.06.94zm10 10l.94 2.06.94-2.06 2.06-.94-2.06-.94-.94-2.06-.94 2.06-2.06.94z\"/><path d=\"M17.41 7.96l-1.37-1.37c-.4-.4-.92-.59-1.43-.59-.52 0-1.04.2-1.43.59L10.3 9.45l-7.72 7.72c-.78.78-.78 2.05 0 2.83L4 21.41c.39.39.9.59 1.41.59.51 0 1.02-.2 1.41-.59l7.78-7.78 2.81-2.81c.8-.78.8-2.07 0-2.86zM5.41 20L4 18.59l7.72-7.72 1.47 1.35L5.41 20z\"/>\n",
       "  </svg>\n",
       "      </button>\n",
       "      \n",
       "  <style>\n",
       "    .colab-df-container {\n",
       "      display:flex;\n",
       "      flex-wrap:wrap;\n",
       "      gap: 12px;\n",
       "    }\n",
       "\n",
       "    .colab-df-convert {\n",
       "      background-color: #E8F0FE;\n",
       "      border: none;\n",
       "      border-radius: 50%;\n",
       "      cursor: pointer;\n",
       "      display: none;\n",
       "      fill: #1967D2;\n",
       "      height: 32px;\n",
       "      padding: 0 0 0 0;\n",
       "      width: 32px;\n",
       "    }\n",
       "\n",
       "    .colab-df-convert:hover {\n",
       "      background-color: #E2EBFA;\n",
       "      box-shadow: 0px 1px 2px rgba(60, 64, 67, 0.3), 0px 1px 3px 1px rgba(60, 64, 67, 0.15);\n",
       "      fill: #174EA6;\n",
       "    }\n",
       "\n",
       "    [theme=dark] .colab-df-convert {\n",
       "      background-color: #3B4455;\n",
       "      fill: #D2E3FC;\n",
       "    }\n",
       "\n",
       "    [theme=dark] .colab-df-convert:hover {\n",
       "      background-color: #434B5C;\n",
       "      box-shadow: 0px 1px 3px 1px rgba(0, 0, 0, 0.15);\n",
       "      filter: drop-shadow(0px 1px 2px rgba(0, 0, 0, 0.3));\n",
       "      fill: #FFFFFF;\n",
       "    }\n",
       "  </style>\n",
       "\n",
       "      <script>\n",
       "        const buttonEl =\n",
       "          document.querySelector('#df-25ca22ab-6ba0-4aef-b56c-91c1ae890918 button.colab-df-convert');\n",
       "        buttonEl.style.display =\n",
       "          google.colab.kernel.accessAllowed ? 'block' : 'none';\n",
       "\n",
       "        async function convertToInteractive(key) {\n",
       "          const element = document.querySelector('#df-25ca22ab-6ba0-4aef-b56c-91c1ae890918');\n",
       "          const dataTable =\n",
       "            await google.colab.kernel.invokeFunction('convertToInteractive',\n",
       "                                                     [key], {});\n",
       "          if (!dataTable) return;\n",
       "\n",
       "          const docLinkHtml = 'Like what you see? Visit the ' +\n",
       "            '<a target=\"_blank\" href=https://colab.research.google.com/notebooks/data_table.ipynb>data table notebook</a>'\n",
       "            + ' to learn more about interactive tables.';\n",
       "          element.innerHTML = '';\n",
       "          dataTable['output_type'] = 'display_data';\n",
       "          await google.colab.output.renderOutput(dataTable, element);\n",
       "          const docLink = document.createElement('div');\n",
       "          docLink.innerHTML = docLinkHtml;\n",
       "          element.appendChild(docLink);\n",
       "        }\n",
       "      </script>\n",
       "    </div>\n",
       "  </div>\n",
       "  "
      ],
      "text/plain": [
       "   CNT_CHILDREN  AMT_INCOME_TOTAL  FLAG_WORK_PHONE  FLAG_PHONE  FLAG_EMAIL  \\\n",
       "0     -0.630236          1.947864         1.820367   -0.656158   -0.317691   \n",
       "1     -0.630236          1.947864         1.820367   -0.656158   -0.317691   \n",
       "2     -0.630236          1.947864         1.820367   -0.656158   -0.317691   \n",
       "3     -0.630236          1.947864         1.820367   -0.656158   -0.317691   \n",
       "4     -0.630236          1.947864         1.820367   -0.656158   -0.317691   \n",
       "\n",
       "   CNT_FAM_MEMBERS CODE_GENDER FLAG_OWN_CAR FLAG_OWN_REALTY NAME_INCOME_TYPE  \\\n",
       "0        -0.111261           M            Y               Y          Working   \n",
       "1        -0.111261           M            Y               Y          Working   \n",
       "2        -0.111261           M            Y               Y          Working   \n",
       "3        -0.111261           M            Y               Y          Working   \n",
       "4        -0.111261           M            Y               Y          Working   \n",
       "\n",
       "  NAME_EDUCATION_TYPE NAME_FAMILY_STATUS NAME_HOUSING_TYPE OCCUPATION_TYPE  \n",
       "0    Higher education     Civil marriage  Rented apartment          others  \n",
       "1    Higher education     Civil marriage  Rented apartment          others  \n",
       "2    Higher education     Civil marriage  Rented apartment          others  \n",
       "3    Higher education     Civil marriage  Rented apartment          others  \n",
       "4    Higher education     Civil marriage  Rented apartment          others  "
      ]
     },
     "execution_count": 82,
     "metadata": {},
     "output_type": "execute_result"
    }
   ],
   "source": [
    "\n",
    "#lets have a look at our features\n",
    "X.head()"
   ]
  },
  {
   "cell_type": "markdown",
   "metadata": {
    "id": "U6XKGJuTUR6q"
   },
   "source": [
    "## Encoding"
   ]
  },
  {
   "cell_type": "code",
   "execution_count": 83,
   "metadata": {
    "id": "B5IbevKDS9QB"
   },
   "outputs": [],
   "source": [
    "\n",
    "#lets convert categorical data into numeric values, using OrdinalEncoder\n",
    "from sklearn.preprocessing import OrdinalEncoder\n",
    "enc = OrdinalEncoder()\n",
    "for i in X.columns:\n",
    "    if X[i].dtypes == \"object\" :\n",
    "        X[i] = enc.fit_transform(X[i].values.reshape(-1,1))"
   ]
  },
  {
   "cell_type": "code",
   "execution_count": 84,
   "metadata": {
    "colab": {
     "base_uri": "https://localhost:8080/",
     "height": 270
    },
    "id": "_EEo89FaS9Mj",
    "outputId": "dfbf2ec3-022d-40c7-d968-9e4ecb7c21c7"
   },
   "outputs": [
    {
     "data": {
      "text/html": [
       "\n",
       "  <div id=\"df-8c5b4318-2536-4946-98d7-de48c5a09bcc\">\n",
       "    <div class=\"colab-df-container\">\n",
       "      <div>\n",
       "<style scoped>\n",
       "    .dataframe tbody tr th:only-of-type {\n",
       "        vertical-align: middle;\n",
       "    }\n",
       "\n",
       "    .dataframe tbody tr th {\n",
       "        vertical-align: top;\n",
       "    }\n",
       "\n",
       "    .dataframe thead th {\n",
       "        text-align: right;\n",
       "    }\n",
       "</style>\n",
       "<table border=\"1\" class=\"dataframe\">\n",
       "  <thead>\n",
       "    <tr style=\"text-align: right;\">\n",
       "      <th></th>\n",
       "      <th>CNT_CHILDREN</th>\n",
       "      <th>AMT_INCOME_TOTAL</th>\n",
       "      <th>FLAG_WORK_PHONE</th>\n",
       "      <th>FLAG_PHONE</th>\n",
       "      <th>FLAG_EMAIL</th>\n",
       "      <th>CNT_FAM_MEMBERS</th>\n",
       "      <th>CODE_GENDER</th>\n",
       "      <th>FLAG_OWN_CAR</th>\n",
       "      <th>FLAG_OWN_REALTY</th>\n",
       "      <th>NAME_INCOME_TYPE</th>\n",
       "      <th>NAME_EDUCATION_TYPE</th>\n",
       "      <th>NAME_FAMILY_STATUS</th>\n",
       "      <th>NAME_HOUSING_TYPE</th>\n",
       "      <th>OCCUPATION_TYPE</th>\n",
       "    </tr>\n",
       "  </thead>\n",
       "  <tbody>\n",
       "    <tr>\n",
       "      <th>0</th>\n",
       "      <td>-0.630236</td>\n",
       "      <td>1.947864</td>\n",
       "      <td>1.820367</td>\n",
       "      <td>-0.656158</td>\n",
       "      <td>-0.317691</td>\n",
       "      <td>-0.111261</td>\n",
       "      <td>1.0</td>\n",
       "      <td>1.0</td>\n",
       "      <td>1.0</td>\n",
       "      <td>4.0</td>\n",
       "      <td>1.0</td>\n",
       "      <td>0.0</td>\n",
       "      <td>4.0</td>\n",
       "      <td>18.0</td>\n",
       "    </tr>\n",
       "    <tr>\n",
       "      <th>1</th>\n",
       "      <td>-0.630236</td>\n",
       "      <td>1.947864</td>\n",
       "      <td>1.820367</td>\n",
       "      <td>-0.656158</td>\n",
       "      <td>-0.317691</td>\n",
       "      <td>-0.111261</td>\n",
       "      <td>1.0</td>\n",
       "      <td>1.0</td>\n",
       "      <td>1.0</td>\n",
       "      <td>4.0</td>\n",
       "      <td>1.0</td>\n",
       "      <td>0.0</td>\n",
       "      <td>4.0</td>\n",
       "      <td>18.0</td>\n",
       "    </tr>\n",
       "    <tr>\n",
       "      <th>2</th>\n",
       "      <td>-0.630236</td>\n",
       "      <td>1.947864</td>\n",
       "      <td>1.820367</td>\n",
       "      <td>-0.656158</td>\n",
       "      <td>-0.317691</td>\n",
       "      <td>-0.111261</td>\n",
       "      <td>1.0</td>\n",
       "      <td>1.0</td>\n",
       "      <td>1.0</td>\n",
       "      <td>4.0</td>\n",
       "      <td>1.0</td>\n",
       "      <td>0.0</td>\n",
       "      <td>4.0</td>\n",
       "      <td>18.0</td>\n",
       "    </tr>\n",
       "    <tr>\n",
       "      <th>3</th>\n",
       "      <td>-0.630236</td>\n",
       "      <td>1.947864</td>\n",
       "      <td>1.820367</td>\n",
       "      <td>-0.656158</td>\n",
       "      <td>-0.317691</td>\n",
       "      <td>-0.111261</td>\n",
       "      <td>1.0</td>\n",
       "      <td>1.0</td>\n",
       "      <td>1.0</td>\n",
       "      <td>4.0</td>\n",
       "      <td>1.0</td>\n",
       "      <td>0.0</td>\n",
       "      <td>4.0</td>\n",
       "      <td>18.0</td>\n",
       "    </tr>\n",
       "    <tr>\n",
       "      <th>4</th>\n",
       "      <td>-0.630236</td>\n",
       "      <td>1.947864</td>\n",
       "      <td>1.820367</td>\n",
       "      <td>-0.656158</td>\n",
       "      <td>-0.317691</td>\n",
       "      <td>-0.111261</td>\n",
       "      <td>1.0</td>\n",
       "      <td>1.0</td>\n",
       "      <td>1.0</td>\n",
       "      <td>4.0</td>\n",
       "      <td>1.0</td>\n",
       "      <td>0.0</td>\n",
       "      <td>4.0</td>\n",
       "      <td>18.0</td>\n",
       "    </tr>\n",
       "  </tbody>\n",
       "</table>\n",
       "</div>\n",
       "      <button class=\"colab-df-convert\" onclick=\"convertToInteractive('df-8c5b4318-2536-4946-98d7-de48c5a09bcc')\"\n",
       "              title=\"Convert this dataframe to an interactive table.\"\n",
       "              style=\"display:none;\">\n",
       "        \n",
       "  <svg xmlns=\"http://www.w3.org/2000/svg\" height=\"24px\"viewBox=\"0 0 24 24\"\n",
       "       width=\"24px\">\n",
       "    <path d=\"M0 0h24v24H0V0z\" fill=\"none\"/>\n",
       "    <path d=\"M18.56 5.44l.94 2.06.94-2.06 2.06-.94-2.06-.94-.94-2.06-.94 2.06-2.06.94zm-11 1L8.5 8.5l.94-2.06 2.06-.94-2.06-.94L8.5 2.5l-.94 2.06-2.06.94zm10 10l.94 2.06.94-2.06 2.06-.94-2.06-.94-.94-2.06-.94 2.06-2.06.94z\"/><path d=\"M17.41 7.96l-1.37-1.37c-.4-.4-.92-.59-1.43-.59-.52 0-1.04.2-1.43.59L10.3 9.45l-7.72 7.72c-.78.78-.78 2.05 0 2.83L4 21.41c.39.39.9.59 1.41.59.51 0 1.02-.2 1.41-.59l7.78-7.78 2.81-2.81c.8-.78.8-2.07 0-2.86zM5.41 20L4 18.59l7.72-7.72 1.47 1.35L5.41 20z\"/>\n",
       "  </svg>\n",
       "      </button>\n",
       "      \n",
       "  <style>\n",
       "    .colab-df-container {\n",
       "      display:flex;\n",
       "      flex-wrap:wrap;\n",
       "      gap: 12px;\n",
       "    }\n",
       "\n",
       "    .colab-df-convert {\n",
       "      background-color: #E8F0FE;\n",
       "      border: none;\n",
       "      border-radius: 50%;\n",
       "      cursor: pointer;\n",
       "      display: none;\n",
       "      fill: #1967D2;\n",
       "      height: 32px;\n",
       "      padding: 0 0 0 0;\n",
       "      width: 32px;\n",
       "    }\n",
       "\n",
       "    .colab-df-convert:hover {\n",
       "      background-color: #E2EBFA;\n",
       "      box-shadow: 0px 1px 2px rgba(60, 64, 67, 0.3), 0px 1px 3px 1px rgba(60, 64, 67, 0.15);\n",
       "      fill: #174EA6;\n",
       "    }\n",
       "\n",
       "    [theme=dark] .colab-df-convert {\n",
       "      background-color: #3B4455;\n",
       "      fill: #D2E3FC;\n",
       "    }\n",
       "\n",
       "    [theme=dark] .colab-df-convert:hover {\n",
       "      background-color: #434B5C;\n",
       "      box-shadow: 0px 1px 3px 1px rgba(0, 0, 0, 0.15);\n",
       "      filter: drop-shadow(0px 1px 2px rgba(0, 0, 0, 0.3));\n",
       "      fill: #FFFFFF;\n",
       "    }\n",
       "  </style>\n",
       "\n",
       "      <script>\n",
       "        const buttonEl =\n",
       "          document.querySelector('#df-8c5b4318-2536-4946-98d7-de48c5a09bcc button.colab-df-convert');\n",
       "        buttonEl.style.display =\n",
       "          google.colab.kernel.accessAllowed ? 'block' : 'none';\n",
       "\n",
       "        async function convertToInteractive(key) {\n",
       "          const element = document.querySelector('#df-8c5b4318-2536-4946-98d7-de48c5a09bcc');\n",
       "          const dataTable =\n",
       "            await google.colab.kernel.invokeFunction('convertToInteractive',\n",
       "                                                     [key], {});\n",
       "          if (!dataTable) return;\n",
       "\n",
       "          const docLinkHtml = 'Like what you see? Visit the ' +\n",
       "            '<a target=\"_blank\" href=https://colab.research.google.com/notebooks/data_table.ipynb>data table notebook</a>'\n",
       "            + ' to learn more about interactive tables.';\n",
       "          element.innerHTML = '';\n",
       "          dataTable['output_type'] = 'display_data';\n",
       "          await google.colab.output.renderOutput(dataTable, element);\n",
       "          const docLink = document.createElement('div');\n",
       "          docLink.innerHTML = docLinkHtml;\n",
       "          element.appendChild(docLink);\n",
       "        }\n",
       "      </script>\n",
       "    </div>\n",
       "  </div>\n",
       "  "
      ],
      "text/plain": [
       "   CNT_CHILDREN  AMT_INCOME_TOTAL  FLAG_WORK_PHONE  FLAG_PHONE  FLAG_EMAIL  \\\n",
       "0     -0.630236          1.947864         1.820367   -0.656158   -0.317691   \n",
       "1     -0.630236          1.947864         1.820367   -0.656158   -0.317691   \n",
       "2     -0.630236          1.947864         1.820367   -0.656158   -0.317691   \n",
       "3     -0.630236          1.947864         1.820367   -0.656158   -0.317691   \n",
       "4     -0.630236          1.947864         1.820367   -0.656158   -0.317691   \n",
       "\n",
       "   CNT_FAM_MEMBERS  CODE_GENDER  FLAG_OWN_CAR  FLAG_OWN_REALTY  \\\n",
       "0        -0.111261          1.0           1.0              1.0   \n",
       "1        -0.111261          1.0           1.0              1.0   \n",
       "2        -0.111261          1.0           1.0              1.0   \n",
       "3        -0.111261          1.0           1.0              1.0   \n",
       "4        -0.111261          1.0           1.0              1.0   \n",
       "\n",
       "   NAME_INCOME_TYPE  NAME_EDUCATION_TYPE  NAME_FAMILY_STATUS  \\\n",
       "0               4.0                  1.0                 0.0   \n",
       "1               4.0                  1.0                 0.0   \n",
       "2               4.0                  1.0                 0.0   \n",
       "3               4.0                  1.0                 0.0   \n",
       "4               4.0                  1.0                 0.0   \n",
       "\n",
       "   NAME_HOUSING_TYPE  OCCUPATION_TYPE  \n",
       "0                4.0             18.0  \n",
       "1                4.0             18.0  \n",
       "2                4.0             18.0  \n",
       "3                4.0             18.0  \n",
       "4                4.0             18.0  "
      ]
     },
     "execution_count": 84,
     "metadata": {},
     "output_type": "execute_result"
    }
   ],
   "source": [
    "\n",
    "#lets have a look at data after encoding\n",
    "X.head()"
   ]
  },
  {
   "cell_type": "code",
   "execution_count": 85,
   "metadata": {
    "colab": {
     "base_uri": "https://localhost:8080/"
    },
    "id": "YK2j3Ev6S9KJ",
    "outputId": "ef5dc0ec-61fc-45a1-9f9d-ffac0e7d4fc5"
   },
   "outputs": [
    {
     "data": {
      "text/plain": [
       "(777715, 14)"
      ]
     },
     "execution_count": 85,
     "metadata": {},
     "output_type": "execute_result"
    }
   ],
   "source": [
    "\n",
    "#check the shape\n",
    "X.shape"
   ]
  },
  {
   "cell_type": "code",
   "execution_count": 86,
   "metadata": {
    "colab": {
     "base_uri": "https://localhost:8080/"
    },
    "id": "pTlY9E4ES9Gu",
    "outputId": "ff313e1a-b7e7-488b-cc66-461da3f8531c"
   },
   "outputs": [
    {
     "data": {
      "text/plain": [
       "0    774887\n",
       "1      2828\n",
       "Name: TARGET, dtype: int64"
      ]
     },
     "execution_count": 86,
     "metadata": {},
     "output_type": "execute_result"
    }
   ],
   "source": [
    "\n",
    "#check value count for target variable\n",
    "y.value_counts()"
   ]
  },
  {
   "cell_type": "markdown",
   "metadata": {
    "id": "_pJN6xplUjTC"
   },
   "source": [
    "## Over sampling"
   ]
  },
  {
   "cell_type": "code",
   "execution_count": 87,
   "metadata": {
    "id": "yQHHADaWS9DK"
   },
   "outputs": [],
   "source": [
    "#lets do oversampling using SMOTE\n",
    "import imblearn\n",
    "from imblearn.over_sampling import SMOTE\n",
    "SM = SMOTE()\n",
    "x_over,y_over = SM.fit_resample(X,y)"
   ]
  },
  {
   "cell_type": "code",
   "execution_count": 88,
   "metadata": {
    "colab": {
     "base_uri": "https://localhost:8080/"
    },
    "id": "X0QRbkqHUlxO",
    "outputId": "8a12e9d8-7145-4ec1-85fa-56d0e144a274"
   },
   "outputs": [
    {
     "data": {
      "text/plain": [
       "0    774887\n",
       "1    774887\n",
       "Name: TARGET, dtype: int64"
      ]
     },
     "execution_count": 88,
     "metadata": {},
     "output_type": "execute_result"
    }
   ],
   "source": [
    "#lets check the count of target variable now\n",
    "y_over.value_counts()"
   ]
  },
  {
   "cell_type": "markdown",
   "metadata": {
    "id": "cAwXCojFUxFo"
   },
   "source": [
    "## Finding Best random state"
   ]
  },
  {
   "cell_type": "code",
   "execution_count": 89,
   "metadata": {
    "colab": {
     "base_uri": "https://localhost:8080/"
    },
    "id": "z3ljTxnmUltw",
    "outputId": "75468c5c-e79b-4a2b-ff2c-051964fa7824"
   },
   "outputs": [
    {
     "name": "stdout",
     "output_type": "stream",
     "text": [
      "Best accuracy is 0.5737474318869308 on Random State 51\n"
     ]
    }
   ],
   "source": [
    "\n",
    "#Lets find the best random state using LogisticRegression\n",
    "from sklearn.linear_model import LogisticRegression\n",
    "max_accu = 0\n",
    "max_rs = 0\n",
    "for i in range(50,100):\n",
    "    x_train,x_test,y_train,y_test = train_test_split(x_over,y_over,test_size = 0.25, random_state = i)\n",
    "    LR = LogisticRegression()\n",
    "    LR.fit(x_train,y_train)\n",
    "    pred = LR.predict(x_test)\n",
    "    acc = accuracy_score(y_test,pred)\n",
    "    if acc > max_accu:\n",
    "        max_accu = acc\n",
    "        max_rs = i\n",
    "print(\"Best accuracy is\",max_accu,\"on Random State\",max_rs)"
   ]
  },
  {
   "cell_type": "code",
   "execution_count": 90,
   "metadata": {
    "id": "tSs-SRR6Ulrg"
   },
   "outputs": [],
   "source": [
    "\n",
    "#lets split our data into train and test parts with best random_state\n",
    "x_train,x_test,y_train,y_test = train_test_split(x_over, y_over, test_size = 0.25, random_state = 51)"
   ]
  },
  {
   "cell_type": "markdown",
   "metadata": {
    "id": "1sjobDWrU-5H"
   },
   "source": [
    "# Model Building with Evaluation Metrics"
   ]
  },
  {
   "cell_type": "markdown",
   "metadata": {
    "id": "rM_VI5OLVCqe"
   },
   "source": [
    "## LogisticRegression model"
   ]
  },
  {
   "cell_type": "code",
   "execution_count": 91,
   "metadata": {
    "colab": {
     "base_uri": "https://localhost:8080/"
    },
    "id": "Aek4OBYgUlpH",
    "outputId": "a658d502-498b-42b7-dbd6-d38e6d20c3af"
   },
   "outputs": [
    {
     "name": "stdout",
     "output_type": "stream",
     "text": [
      "Accuracy Score: 57.37474318869308\n",
      "roc_auc_score: 57.36817964303308\n",
      "---------------------------------------------------\n",
      "Confusion Matrix : \n",
      " [[118608  75453]\n",
      " [ 89696 103687]]\n",
      "\n",
      "CLASSIFICATION REPORT : \n",
      "               precision    recall  f1-score   support\n",
      "\n",
      "           0       0.57      0.61      0.59    194061\n",
      "           1       0.58      0.54      0.56    193383\n",
      "\n",
      "    accuracy                           0.57    387444\n",
      "   macro avg       0.57      0.57      0.57    387444\n",
      "weighted avg       0.57      0.57      0.57    387444\n",
      "\n",
      "\n",
      "Cross validation score : 56.53663017655\n",
      "\n",
      "Accuracy Score - Cross Validation Score : 0.8381130121430829\n"
     ]
    }
   ],
   "source": [
    "\n",
    "#Lets check the model with LogisticRegression\n",
    "LR.fit(x_train,y_train)\n",
    "predlr = LR.predict(x_test)\n",
    "accuracy = accuracy_score(y_test,predlr)*100\n",
    "\n",
    "print(f\"Accuracy Score:\", accuracy)\n",
    "print(f\"roc_auc_score: {roc_auc_score(y_test,predlr)*100}\")\n",
    "print(\"---------------------------------------------------\")\n",
    "\n",
    "#confusion matrix & classification report\n",
    "print(f\"Confusion Matrix : \\n {confusion_matrix(y_test,predlr)}\\n\")\n",
    "print(f\"CLASSIFICATION REPORT : \\n {classification_report(y_test,predlr)}\")\n",
    "\n",
    "#cross validation score\n",
    "scores = cross_val_score(LR, x_over, y_over, cv = 5,scoring = \"accuracy\" ).mean()*100\n",
    "print(\"\\nCross validation score :\", scores)\n",
    "\n",
    "#result of accuracy minus cv score\n",
    "result = accuracy - scores\n",
    "print(\"\\nAccuracy Score - Cross Validation Score :\", result)"
   ]
  },
  {
   "cell_type": "markdown",
   "metadata": {
    "id": "0lYOT-LPVKs1"
   },
   "source": [
    "## DecisionTreeClassifier model"
   ]
  },
  {
   "cell_type": "code",
   "execution_count": 92,
   "metadata": {
    "colab": {
     "base_uri": "https://localhost:8080/"
    },
    "id": "ESeJoWdiUlmZ",
    "outputId": "df9d21f2-ba79-4c2a-cf5f-4cccbd9868e4"
   },
   "outputs": [
    {
     "name": "stdout",
     "output_type": "stream",
     "text": [
      "Accuracy Score: 97.58752232580709\n",
      "roc_auc_score: 97.590446673441\n",
      "---------------------------------------------------\n",
      "Confusion Matrix : \n",
      " [[186142   7919]\n",
      " [  1428 191955]]\n",
      "\n",
      "CLASSIFICATION REPORT : \n",
      "               precision    recall  f1-score   support\n",
      "\n",
      "           0       0.99      0.96      0.98    194061\n",
      "           1       0.96      0.99      0.98    193383\n",
      "\n",
      "    accuracy                           0.98    387444\n",
      "   macro avg       0.98      0.98      0.98    387444\n",
      "weighted avg       0.98      0.98      0.98    387444\n",
      "\n",
      "\n",
      "Cross validation score : 93.79070712925446\n",
      "\n",
      "\n",
      "Accuracy Score - Cross Validation Score : 3.796815196552629\n"
     ]
    }
   ],
   "source": [
    "#model with DecesionTreeClassifier\n",
    "from sklearn.tree import DecisionTreeClassifier\n",
    "dt = DecisionTreeClassifier()\n",
    "dt.fit(x_train,y_train)\n",
    "pred_dt = dt.predict(x_test)\n",
    "accuracy = accuracy_score(y_test,pred_dt)*100\n",
    "\n",
    "print(f\"Accuracy Score:\", accuracy)\n",
    "print(f\"roc_auc_score: {roc_auc_score(y_test,pred_dt)*100}\")\n",
    "print(\"---------------------------------------------------\")\n",
    "\n",
    "#confusion matrix & classification report\n",
    "print(f\"Confusion Matrix : \\n {confusion_matrix(y_test,pred_dt)}\\n\")\n",
    "print(f\"CLASSIFICATION REPORT : \\n {classification_report(y_test,pred_dt)}\")\n",
    "\n",
    "#cross validation score\n",
    "scores = cross_val_score(dt, x_over, y_over, cv = 5,scoring = \"accuracy\" ).mean()*100\n",
    "print(\"\\nCross validation score :\", scores)\n",
    "\n",
    "#result of accuracy minus cv score\n",
    "result = accuracy - scores\n",
    "print(\"\\n\\nAccuracy Score - Cross Validation Score :\", result)"
   ]
  },
  {
   "cell_type": "markdown",
   "metadata": {
    "id": "shScxxS1VSr6"
   },
   "source": [
    "## RandomForestClassifier model"
   ]
  },
  {
   "cell_type": "code",
   "execution_count": 94,
   "metadata": {
    "colab": {
     "base_uri": "https://localhost:8080/"
    },
    "id": "iCMcslDRUlj3",
    "outputId": "02ea6c3c-2473-4854-d2aa-b91c08a24d93"
   },
   "outputs": [
    {
     "name": "stdout",
     "output_type": "stream",
     "text": [
      "Accuracy Score: 97.58984524215111\n",
      "\n",
      "roc_auc_score: 97.59277275852945\n",
      "---------------------------------------------------\n",
      "Confusion Matrix : \n",
      " [[186143   7918]\n",
      " [  1420 191963]]\n",
      "\n",
      "CLASSIFICATION REPORT : \n",
      "               precision    recall  f1-score   support\n",
      "\n",
      "           0       0.99      0.96      0.98    194061\n",
      "           1       0.96      0.99      0.98    193383\n",
      "\n",
      "    accuracy                           0.98    387444\n",
      "   macro avg       0.98      0.98      0.98    387444\n",
      "weighted avg       0.98      0.98      0.98    387444\n",
      "\n",
      "\n",
      "Cross validation score : 96.06600662820341\n",
      "\n",
      "\n",
      "Accuracy Score - Cross Validation Score : 1.523838613947703\n"
     ]
    }
   ],
   "source": [
    "\n",
    "#model with RandomForestClassifier\n",
    "from sklearn.ensemble import RandomForestClassifier\n",
    "model = RandomForestClassifier()\n",
    "model.fit(x_train,y_train)\n",
    "pred_rf = model.predict(x_test)\n",
    "accuracy = accuracy_score(y_test,pred_rf)*100\n",
    "\n",
    "print(f\"Accuracy Score:\", accuracy)\n",
    "print(f\"\\nroc_auc_score: {roc_auc_score(y_test,pred_rf)*100}\")\n",
    "print(\"---------------------------------------------------\")\n",
    "\n",
    "#confusion matrix & classification report\n",
    "print(f\"Confusion Matrix : \\n {confusion_matrix(y_test,pred_rf)}\\n\")\n",
    "print(f\"CLASSIFICATION REPORT : \\n {classification_report(y_test,pred_rf)}\")\n",
    "\n",
    "#cross validation score\n",
    "scores = cross_val_score(model, x_over, y_over, cv = 5,scoring = \"accuracy\" ).mean()*100\n",
    "print(\"\\nCross validation score :\", scores)\n",
    "\n",
    "#result of accuracy minus cv score\n",
    "result = accuracy - scores\n",
    "print(\"\\n\\nAccuracy Score - Cross Validation Score :\", result)"
   ]
  },
  {
   "cell_type": "markdown",
   "metadata": {
    "id": "aDsrhmJxXJqu"
   },
   "source": [
    "## Naive Bayes"
   ]
  },
  {
   "cell_type": "code",
   "execution_count": 95,
   "metadata": {
    "colab": {
     "base_uri": "https://localhost:8080/"
    },
    "id": "cv2CWBMyXI8v",
    "outputId": "3cd9343f-f12a-4c70-ba32-b7e9ea08fc56"
   },
   "outputs": [
    {
     "name": "stdout",
     "output_type": "stream",
     "text": [
      "Accuracy Score: 55.90304663383612\n",
      "roc_auc_score: 55.9070230725722\n",
      "---------------------------------------------------\n",
      "Confusion Matrix : \n",
      " [[104084  89977]\n",
      " [ 80874 112509]]\n",
      "\n",
      "CLASSIFICATION REPORT : \n",
      "               precision    recall  f1-score   support\n",
      "\n",
      "           0       0.56      0.54      0.55    194061\n",
      "           1       0.56      0.58      0.57    193383\n",
      "\n",
      "    accuracy                           0.56    387444\n",
      "   macro avg       0.56      0.56      0.56    387444\n",
      "weighted avg       0.56      0.56      0.56    387444\n",
      "\n",
      "\n",
      "Cross validation score : 55.3790410994256\n",
      "\n",
      "\n",
      "Accuracy Score - Cross Validation Score : 0.5240055344105201\n"
     ]
    }
   ],
   "source": [
    "#model with KNeighborsClassifier\n",
    "from sklearn.naive_bayes import GaussianNB\n",
    "clf = GaussianNB()\n",
    "clf.fit(x_train,y_train)\n",
    "pred_kn = clf.predict(x_test)\n",
    "accuracy = accuracy_score(y_test,pred_kn)*100\n",
    "\n",
    "print(f\"Accuracy Score:\", accuracy)\n",
    "print(f\"roc_auc_score: {roc_auc_score(y_test,pred_kn)*100}\")\n",
    "print(\"---------------------------------------------------\")\n",
    "\n",
    "#confusion matrix & classification report\n",
    "print(f\"Confusion Matrix : \\n {confusion_matrix(y_test,pred_kn)}\\n\")\n",
    "print(f\"CLASSIFICATION REPORT : \\n {classification_report(y_test,pred_kn)}\")\n",
    "\n",
    "#cross validation score\n",
    "scores = cross_val_score(clf, x_over, y_over, cv = 5,scoring = \"accuracy\" ).mean()*100\n",
    "print(\"\\nCross validation score :\", scores)\n",
    "\n",
    "#result of accuracy minus cv score\n",
    "result = accuracy - scores\n",
    "print(\"\\n\\nAccuracy Score - Cross Validation Score :\", result)"
   ]
  },
  {
   "cell_type": "markdown",
   "metadata": {
    "id": "RqGcUPmKVZgz"
   },
   "source": [
    "## KNeighborsClassifier model"
   ]
  },
  {
   "cell_type": "code",
   "execution_count": 96,
   "metadata": {
    "colab": {
     "base_uri": "https://localhost:8080/"
    },
    "id": "ypvgVmJ5UlhG",
    "outputId": "b6a18adb-8c43-482d-ff34-03d7347a0c6b"
   },
   "outputs": [
    {
     "name": "stdout",
     "output_type": "stream",
     "text": [
      "Accuracy Score: 97.3877515202197\n",
      "roc_auc_score: 97.39032296007414\n",
      "---------------------------------------------------\n",
      "Confusion Matrix : \n",
      " [[186145   7916]\n",
      " [  2205 191178]]\n",
      "\n",
      "CLASSIFICATION REPORT : \n",
      "               precision    recall  f1-score   support\n",
      "\n",
      "           0       0.99      0.96      0.97    194061\n",
      "           1       0.96      0.99      0.97    193383\n",
      "\n",
      "    accuracy                           0.97    387444\n",
      "   macro avg       0.97      0.97      0.97    387444\n",
      "weighted avg       0.97      0.97      0.97    387444\n",
      "\n",
      "\n",
      "Cross validation score : 67.56940200418185\n",
      "\n",
      "\n",
      "Accuracy Score - Cross Validation Score : 29.81834951603784\n"
     ]
    }
   ],
   "source": [
    "#model with KNeighborsClassifier\n",
    "from sklearn.neighbors import KNeighborsClassifier\n",
    "kn = KNeighborsClassifier()\n",
    "kn.fit(x_train,y_train)\n",
    "pred_kn = kn.predict(x_test)\n",
    "accuracy = accuracy_score(y_test,pred_kn)*100\n",
    "\n",
    "print(f\"Accuracy Score:\", accuracy)\n",
    "print(f\"roc_auc_score: {roc_auc_score(y_test,pred_kn)*100}\")\n",
    "print(\"---------------------------------------------------\")\n",
    "\n",
    "#confusion matrix & classification report\n",
    "print(f\"Confusion Matrix : \\n {confusion_matrix(y_test,pred_kn)}\\n\")\n",
    "print(f\"CLASSIFICATION REPORT : \\n {classification_report(y_test,pred_kn)}\")\n",
    "\n",
    "#cross validation score\n",
    "scores = cross_val_score(kn, x_over, y_over, cv = 5,scoring = \"accuracy\" ).mean()*100\n",
    "print(\"\\nCross validation score :\", scores)\n",
    "\n",
    "#result of accuracy minus cv score\n",
    "result = accuracy - scores\n",
    "print(\"\\n\\nAccuracy Score - Cross Validation Score :\", result)"
   ]
  },
  {
   "cell_type": "markdown",
   "metadata": {
    "id": "SHj28aj1VhgO"
   },
   "source": [
    "## XGBClassifier model"
   ]
  },
  {
   "cell_type": "code",
   "execution_count": 97,
   "metadata": {
    "colab": {
     "base_uri": "https://localhost:8080/"
    },
    "id": "Rle2NKMRUleh",
    "outputId": "9a430b24-1b66-4b6b-aecf-e2b256e4eb3c"
   },
   "outputs": [
    {
     "name": "stdout",
     "output_type": "stream",
     "text": [
      "Accuracy Score: 96.58505487244608\n",
      "roc_auc_score: 96.58712883314449\n",
      "---------------------------------------------------\n",
      "Confusion Matrix : \n",
      " [[185138   8923]\n",
      " [  4308 189075]]\n",
      "\n",
      "CLASSIFICATION REPORT : \n",
      "               precision    recall  f1-score   support\n",
      "\n",
      "           0       0.98      0.95      0.97    194061\n",
      "           1       0.95      0.98      0.97    193383\n",
      "\n",
      "    accuracy                           0.97    387444\n",
      "   macro avg       0.97      0.97      0.97    387444\n",
      "weighted avg       0.97      0.97      0.97    387444\n",
      "\n",
      "\n",
      "Cross validation score : 95.2976367805148\n",
      "\n",
      "Accuracy Score - Cross Validation Score : 1.2874180919312863\n"
     ]
    }
   ],
   "source": [
    "\n",
    "#lets check with XGBClassifier model\n",
    "from xgboost import XGBClassifier\n",
    "xgb = XGBClassifier(verbosity = 0)\n",
    "xgb.fit(x_train,y_train)\n",
    "pred_xgb = xgb.predict(x_test)\n",
    "accuracy = accuracy_score(y_test,pred_xgb)*100\n",
    "\n",
    "print(f\"Accuracy Score:\", accuracy)\n",
    "print(f\"roc_auc_score: {roc_auc_score(y_test,pred_xgb)*100}\")\n",
    "print(\"---------------------------------------------------\")\n",
    "\n",
    "#confusion matrix & classification report\n",
    "print(f\"Confusion Matrix : \\n {confusion_matrix(y_test,pred_xgb)}\\n\")\n",
    "print(f\"CLASSIFICATION REPORT : \\n {classification_report(y_test,pred_xgb)}\")\n",
    "\n",
    "#cross validation score\n",
    "scores = cross_val_score(xgb, x_over, y_over, cv = 5,scoring = \"accuracy\" ).mean()*100\n",
    "print(\"\\nCross validation score :\", scores)\n",
    "\n",
    "#result of accuracy minus cv score\n",
    "result = accuracy - scores\n",
    "print(\"\\nAccuracy Score - Cross Validation Score :\", result)"
   ]
  },
  {
   "cell_type": "markdown",
   "metadata": {
    "id": "DfBom1EbVpHa"
   },
   "source": [
    "## ExtraTreesClassifier model"
   ]
  },
  {
   "cell_type": "code",
   "execution_count": 98,
   "metadata": {
    "colab": {
     "base_uri": "https://localhost:8080/"
    },
    "id": "fi09Xo5tUlbl",
    "outputId": "240372e0-f501-49ed-a5c7-bc807dd0298a"
   },
   "outputs": [
    {
     "name": "stdout",
     "output_type": "stream",
     "text": [
      "Accuracy Score: 96.58505487244608\n",
      "roc_auc_score: 96.58712883314449\n",
      "---------------------------------------------------\n",
      "Confusion Matrix : \n",
      " [[185138   8923]\n",
      " [  4308 189075]]\n",
      "\n",
      "CLASSIFICATION REPORT : \n",
      "               precision    recall  f1-score   support\n",
      "\n",
      "           0       0.98      0.95      0.97    194061\n",
      "           1       0.95      0.98      0.97    193383\n",
      "\n",
      "    accuracy                           0.97    387444\n",
      "   macro avg       0.97      0.97      0.97    387444\n",
      "weighted avg       0.97      0.97      0.97    387444\n",
      "\n",
      "\n",
      "Cross validation score : 95.7210530470747\n",
      "\n",
      "Accuracy Score - Cross Validation Score : 0.8640018253713748\n"
     ]
    }
   ],
   "source": [
    "\n",
    "#lets check with Extra Trees Classifier\n",
    "from sklearn.ensemble import ExtraTreesClassifier\n",
    "ext = ExtraTreesClassifier()\n",
    "ext.fit(x_train,y_train)\n",
    "pred_ext = xgb.predict(x_test)\n",
    "accuracy = accuracy_score(y_test,pred_ext)*100\n",
    "\n",
    "print(f\"Accuracy Score:\", accuracy)\n",
    "print(f\"roc_auc_score: {roc_auc_score(y_test,pred_ext)*100}\")\n",
    "print(\"---------------------------------------------------\")\n",
    "\n",
    "#confusion matrix & classification report\n",
    "print(f\"Confusion Matrix : \\n {confusion_matrix(y_test,pred_ext)}\\n\")\n",
    "print(f\"CLASSIFICATION REPORT : \\n {classification_report(y_test,pred_ext)}\")\n",
    "\n",
    "#cross validation score\n",
    "scores = cross_val_score(ext, x_over, y_over, cv = 5,scoring = \"accuracy\" ).mean()*100\n",
    "print(\"\\nCross validation score :\", scores)\n",
    "\n",
    "#result of accuracy minus cv score\n",
    "result = accuracy - scores\n",
    "print(\"\\nAccuracy Score - Cross Validation Score :\", result)"
   ]
  },
  {
   "cell_type": "markdown",
   "metadata": {
    "id": "rdZC3htkiQzt"
   },
   "source": [
    "# THANK YOU"
   ]
  }
 ],
 "metadata": {
  "colab": {
   "provenance": []
  },
  "kernelspec": {
   "display_name": "Python 3 (ipykernel)",
   "language": "python",
   "name": "python3"
  },
  "language_info": {
   "codemirror_mode": {
    "name": "ipython",
    "version": 3
   },
   "file_extension": ".py",
   "mimetype": "text/x-python",
   "name": "python",
   "nbconvert_exporter": "python",
   "pygments_lexer": "ipython3",
   "version": "3.9.13"
  }
 },
 "nbformat": 4,
 "nbformat_minor": 1
}
